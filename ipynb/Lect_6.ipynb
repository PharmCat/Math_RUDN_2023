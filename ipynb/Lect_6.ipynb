{
 "cells": [
  {
   "cell_type": "markdown",
   "id": "2510d609",
   "metadata": {
    "slideshow": {
     "slide_type": "slide"
    }
   },
   "source": [
    "# Математические методы анализа в биологии и медицине\n",
    "\n",
    "**Программа курса:**\n",
    "\n",
    "* Введение: Применение математических расчетов в биологии, медицине, фармакологии\n",
    "\n",
    "* Линейная алгебра\n",
    "\n",
    "* Функция одной переменной и ее свойства\n",
    "\n",
    "* Производная и дифференциалы.\n",
    "\n",
    "* Функции нескольких переменных\n",
    "\n",
    "* **Первообразная, неопределенный интеграл. Определенный интеграл**\n",
    "\n",
    "* Дифференциальные уравнения.\n",
    "\n",
    "* Дифференциальные уравнения 2-го и высших порядков.\n",
    "\n",
    "* Численные методы.\n",
    "\n",
    "___"
   ]
  },
  {
   "cell_type": "markdown",
   "id": "a7931c24",
   "metadata": {
    "slideshow": {
     "slide_type": "slide"
    }
   },
   "source": [
    "Методы интегрирования: метод непосредственного интегрирования, метод замены переменной, способ подстановки, интегрирование по частям.\n",
    "Формула Ньютона-Лейбница.\n",
    "Несобственные интегралы.\n",
    "Примеры решения определенных и неопределенных интегралов.\n",
    "\n",
    "* Julia: https://docs.julialang.org/en/v1/manual/getting-started/\n",
    "* ForwardDiff: https://juliadiff.org/ForwardDiff.jl/stable/\n",
    "* Plots: https://docs.juliaplots.org/stable/\n",
    "* Distributions: https://juliastats.org/Distributions.jl/stable/\n",
    "* QuadGK: https://juliamath.github.io/QuadGK.jl/stable/"
   ]
  },
  {
   "cell_type": "markdown",
   "id": "c207afc2",
   "metadata": {
    "slideshow": {
     "slide_type": "slide"
    }
   },
   "source": [
    "### Первообразная\n",
    "\n",
    "Первообразной для данной функции $f(x)$ называют такую функцию $F(x)$, производная которой равна $f$ (на всей области определения $f$, то есть $F'(x)=f(x)$. \n",
    "\n",
    "Нахождение первообразной является операцией, обратной дифференцированию. \n",
    "\n",
    "Фактически нахождение первообразной заключается в вычислении неопределённого интеграла для $f(x)$, а сам процесс называется интегрированием. "
   ]
  },
  {
   "cell_type": "markdown",
   "id": "c043788a",
   "metadata": {
    "slideshow": {
     "slide_type": "slide"
    }
   },
   "source": [
    "**Задачи, приводящие к понятию интеграла**\n",
    "\n",
    "1) Пусть известен закон изменения  скорости $v_t = f(t)$. Необходимо определить путь, пройденный при движении точки за промежуток времени от $t = a$ до $t = b$.\n",
    "\n",
    "\n",
    "2) Пусть скорость химического превращения некоторого вещества, участвующего в химической реакции, есть функция времени $c = f(t)$. Найти количество $m$ вступившего в реакцию вещества за промежуток времени от $t_0$ до $t_x$. \n",
    "\n",
    "\n",
    "3) Задачи о нахождении площади криволинейной трапеции (площадь под графиком функции). AUC в фармакокинетике.\n",
    "\n",
    "\n",
    "4) Задачи нахождения объема фигуры.\n",
    "\n",
    "\n",
    "5) Вероятность того, что значение непрерывной случайной величины попадет в интервал $[a, b]$ находится как определенный интеграл, подынтегральной функцией которого является функция плотноти вероятности.\n",
    "\n",
    "\n",
    "\n",
    "\n",
    " $$A =\\lim \\limits _{\\Delta x\\rightarrow 0}\\sum \\limits _{i=0}^{n-1}f(x_{i})\\Delta x_{i}$$\n",
    "\n",
    "\n"
   ]
  },
  {
   "attachments": {
    "%D0%B8%D0%B7%D0%BE%D0%B1%D1%80%D0%B0%D0%B6%D0%B5%D0%BD%D0%B8%D0%B5-2.png": {
     "image/png": "[encoded data removed]"
    }
   },
   "cell_type": "markdown",
   "id": "85d36816",
   "metadata": {
    "slideshow": {
     "slide_type": "subslide"
    }
   },
   "source": [
    "![%D0%B8%D0%B7%D0%BE%D0%B1%D1%80%D0%B0%D0%B6%D0%B5%D0%BD%D0%B8%D0%B5-2.png](attachment:%D0%B8%D0%B7%D0%BE%D0%B1%D1%80%D0%B0%D0%B6%D0%B5%D0%BD%D0%B8%D0%B5-2.png)"
   ]
  },
  {
   "cell_type": "markdown",
   "id": "8522a699",
   "metadata": {
    "slideshow": {
     "slide_type": "slide"
    }
   },
   "source": [
    "### Определенный интеграл, формула Ньютона — Лейбница\n",
    "\n",
    "Если $F$ — первообразная интегрируемой непрерывной функции $f$, то:\n",
    "\n",
    "$$\\int \\limits _{a}^{b}f(x)\\,dx=F(b)-F(a).$$\n",
    "\n",
    "Это выражение называется формулой Ньютона — Лейбница. \n",
    "\n"
   ]
  },
  {
   "cell_type": "markdown",
   "id": "28cbfac6",
   "metadata": {
    "slideshow": {
     "slide_type": "slide"
    }
   },
   "source": [
    "### Неопределенный интеграл\n",
    "\n",
    "Неопределённый интеграл для функции $f(x)$ — это совокупность всех первообразных данной функции.\n",
    "\n",
    "Если функция $f(x)$ определена и непрерывна на промежутке $(a,b)$ и $F(x)$ — её первообразная, то есть $F'(x)=f(x)$ при $a<x<b$, то\n",
    "\n",
    "$$\\int f(x)dx=F(x)+C, \\\\  a<x<b,$$\n",
    "\n",
    "где С — произвольная постоянная. "
   ]
  },
  {
   "cell_type": "markdown",
   "id": "6b1b79f9",
   "metadata": {
    "slideshow": {
     "slide_type": "slide"
    }
   },
   "source": [
    "### Несобственный интеграл\n",
    "\n",
    "**Несобственный интеграл I рода**\n",
    "\n",
    "Пусть $f(x)$ определена и непрерывна на интервале $[a,+\\infty )$  и $ \\forall \\ A > a \\ \\exists \\ \\int \\limits _{a}^{A}f(x)dx$.\n",
    "\n",
    "Тогда если $\\displaystyle \\exists \\lim _{A\\to +\\infty }\\int \\limits _{a}^{A}f(x)dx=I\\in \\mathbb {R}$ , то используется обозначение: \n",
    "\n",
    "$$\\displaystyle I=\\int \\limits _{a}^{+\\infty }f(x)dx$$\n",
    "    \n",
    "Интеграл называется несобственным интегралом Римана первого рода. В этом случае $\\displaystyle I=\\int \\limits _{a}^{+\\infty }f(x)dx$ называется сходящимся.\n",
    "\n",
    "Тоже самое справедливо если нижняя граница интегрирования стремится к бесконечности."
   ]
  },
  {
   "cell_type": "markdown",
   "id": "d85124c6",
   "metadata": {
    "slideshow": {
     "slide_type": "slide"
    }
   },
   "source": [
    "**Несобственный интеграл II рода**\n",
    "\n",
    "Пусть $f(x)$ определена на $(a,b]$ и терпит бесконечный разрыв в точке $x = a$ и $\\forall \\delta >0\\Rightarrow \\exists \\int \\limits _{a+\\delta }^{b}f(x)dx={\\mathcal {I}}(\\delta )$. \n",
    "\n",
    "Тогда если $ \\exists \\lim _{\\delta \\to 0+0}{\\mathcal {I}}(\\delta )=I\\in \\mathbb {R}$, то используется обозначение:\n",
    "$$\\displaystyle I=\\int \\limits _{a}^{b}f(x)dx$$ \n",
    "\n",
    "Такой интеграл называется несобственным интегралом Римана второго рода. Тоже справедливо для разрыва в точке $b$ или если разрыв происходит в точке $c$ внутри отрезака, тогда несобственный интеграл второго рода определяется формулой:\n",
    "\n",
    "$$ \\int \\limits _{a}^{b}f(x)dx=\\int \\limits _{a}^{c}f(x)dx+\\int \\limits _{c}^{b}f(x)dx.$$"
   ]
  },
  {
   "cell_type": "markdown",
   "id": "d61a1139",
   "metadata": {
    "slideshow": {
     "slide_type": "slide"
    }
   },
   "source": [
    "**Основные свойства интегралов**\n",
    "\n",
    "\n",
    "1) $$d\\left(\\int f(x)dx\\right)=f(x)dx$$\n",
    "\n",
    "\n",
    "2) $$ \\int d(F(x))=F(x)+C$$\n",
    "\n",
    "\n",
    "3) $$ \\int a\\cdot f(x)dx=a\\cdot \\int f(x)dx, \\ \\ a\\neq 0$$\n",
    "\n",
    "\n",
    "4) $$ \\int (f(x)\\pm g(x))dx=\\int f(x)dx\\pm \\int g(x)dx$$\n",
    "\n",
    "\n",
    "5) $$ \\int f(u)du=F(u)+C,$$ где $u=\\varphi (x)$ — произвольная функция, имеющая непрерывную производную, если: \n",
    "\n",
    "$$\\int f(x)dx=F(x)+C$$"
   ]
  },
  {
   "cell_type": "markdown",
   "id": "b1eae364",
   "metadata": {
    "slideshow": {
     "slide_type": "slide"
    }
   },
   "source": [
    "**Подведение под знак дифференциала**\n",
    "\n",
    "$$du=d(u+C)$$\n",
    "\n",
    "$$du={1 \\over a}d(au)$$\n",
    "\n",
    "$$f'(u)\\cdot du=d(f(u))$$"
   ]
  },
  {
   "cell_type": "markdown",
   "id": "acf18282",
   "metadata": {
    "slideshow": {
     "slide_type": "slide"
    }
   },
   "source": [
    "### Методы интегрирования\n",
    "\n",
    "1) Метод введения нового аргумента. Если:\n",
    "\n",
    "$$ \\int g(x)dx=G(x)+C$$\n",
    "\n",
    "то\n",
    "\n",
    "$$ \\int g(u)du=G(u)+C$$\n",
    "\n",
    "где $u=\\varphi (x)$ — непрерывно дифференцируемая функция. Таким образом выполняется линейная подстановка:\n",
    "\n",
    "$$ \\int f(ax+b)du = \\frac{1}{a}F(ax+b)+C$$\n",
    "\n",
    "\n",
    "    "
   ]
  },
  {
   "cell_type": "markdown",
   "id": "9145dbbe",
   "metadata": {
    "slideshow": {
     "slide_type": "slide"
    }
   },
   "source": [
    "2) Метод разложения. Если:\n",
    "\n",
    "$$g(x)=g_{1}(x)+g_{2}(x),$$\n",
    "\n",
    "то\n",
    "\n",
    "$$\\int g(x)dx=\\int g_{1}(x)dx+\\int g_{2}(x)dx.$$\n",
    "    \n",
    "    "
   ]
  },
  {
   "cell_type": "markdown",
   "id": "2bae7d97",
   "metadata": {
    "slideshow": {
     "slide_type": "slide"
    }
   },
   "source": [
    "3) Метод замены переменной (метод подстановки). Если $g(x)$ — непрерывна, то, полагая\n",
    "\n",
    "$$x=\\varphi (t),$$\n",
    "\n",
    "где $\\varphi (t)$ непрерывна вместе со своей производной $\\varphi '(t)$, получим:\n",
    "\n",
    "$$\\int g(x)dx=\\int g(\\varphi (t))\\varphi '(t)dt.$$\n",
    "    "
   ]
  },
  {
   "cell_type": "markdown",
   "id": "cfce7a20",
   "metadata": {
    "slideshow": {
     "slide_type": "slide"
    }
   },
   "source": [
    "4) Метод интегрирования по частям. Если $u$ и $v$ — некоторые дифференцируемые функции от $x$, то\n",
    "\n",
    "$$\\int udv=uv-\\int vdu$$ \n",
    "\n",
    "или\n",
    "\n",
    "$$\\int u(x)v'(x)dx = u(x)v(x) - \\int v(x)u'(x)dx$$"
   ]
  },
  {
   "cell_type": "markdown",
   "id": "ea280df8",
   "metadata": {
    "slideshow": {
     "slide_type": "slide"
    }
   },
   "source": [
    "**Табличные интегралы**\n",
    "\n",
    "\n",
    "\n",
    "1) $\\int 0 dx = C$\n",
    "\n",
    "\n",
    "2) $\\int dx = x + C$\n",
    "\n",
    "\n",
    "3) $\\int x^n dx = \\frac{x^{n+1}}{n+1} + C$, $n -1$, $x > 0$\n",
    "\n",
    "\n",
    "4) $\\int \\frac{1}{x} dx = ln|x| + C$\n",
    "\n",
    "\n",
    "5) $\\int a^x dx = \\frac{a^x}{ln(a)} + C$\n",
    "\n",
    "\n",
    "6) $\\int e^x dx = e^x + C$\n",
    "\n",
    "\n",
    "7)  $\\int (ax+b)^n dx = \\frac{(ax+b)^{n+1}}{a(n+1)} + C$\n",
    "\n",
    "\n",
    "8)  $\\int \\frac{1}{ax+b} dx = \\frac{1}{a}ln(ax+b) + C$\n",
    "\n",
    "\n"
   ]
  },
  {
   "cell_type": "markdown",
   "id": "4abc692a",
   "metadata": {
    "slideshow": {
     "slide_type": "slide"
    }
   },
   "source": [
    "9) $\\int \\frac{1}{\\sqrt{ax+b}} dx = \\frac{2}{a}\\sqrt{ax+b} + C$\n",
    "\n",
    "\n",
    "10) $\\int \\frac{1}{\\sqrt{1-x^2}} dx = arcsin(x) + C$\n",
    "\n",
    "\n",
    "11) $\\int \\frac{1}{1+x^2} dx = arctg(x) + C$\n",
    "\n",
    "\n",
    "12) $\\int \\frac{1}{x^2-a^2} dx = \\frac{1}{2a}ln|\\frac{x-a}{x+a}| + C$"
   ]
  },
  {
   "cell_type": "markdown",
   "id": "64beddca",
   "metadata": {
    "slideshow": {
     "slide_type": "slide"
    }
   },
   "source": [
    "13) $\\int cos(x)dx = sin(x) + C$\n",
    "\n",
    "\n",
    "14) $\\int sin(x)dx = -cos(x) + C$\n",
    "\n",
    "\n",
    "15) $\\int cos^2(x)dx = \\frac{x}{2} + \\frac{1}{4}sin(2x) +C$\n",
    "\n",
    "\n",
    "16) $\\int sin^2(x)dx = \\frac{x}{2} - \\frac{1}{4}sin(2x) +C$\n",
    "\n",
    "\n",
    "17) $\\int \\frac{dx}{cos(x)} =  ln(tg(\\frac{x+\\pi}{2}))+ C$\n",
    "\n",
    "\n",
    "18) $\\int \\frac{dx}{sin(x)} =  ln(tg(\\frac{x}{2}))+ C$\n",
    "\n",
    "\n",
    "19) $\\int \\frac{dx}{sin(x)^2} =  - ctg(x)+ C$\n",
    "\n",
    "\n",
    "20) $\\int \\frac{dx}{cos(x)^2} =  tg(x)+ C$\n",
    "\n",
    "\n",
    "21) $\\int tg(x)dx = -ln|cos(x)| + C$\n",
    "\n",
    "\n",
    "22) $\\int ctg(x)dx = ln|sin(x)| + C$"
   ]
  },
  {
   "cell_type": "markdown",
   "id": "ac09a812",
   "metadata": {
    "slideshow": {
     "slide_type": "slide"
    }
   },
   "source": [
    "**Линейная подстановка**\n",
    "\n",
    "\n",
    "* **Пример 1:**\n",
    "\n",
    "\n",
    "$$\\int \\frac{1}{8x + 3} dx = \\frac{1}{8} \\int \\frac{d(8x)}{8x + 3} = \\frac{1}{8} \\int \\frac{d(8x+3)}{8x + 3}$$\n",
    "\n",
    "Используем табличный интеграл: $\\int \\frac{1}{u} du = ln(u) + C$, $u = 8x + 3$ \n",
    "\n",
    "$$\\frac{1}{8} \\int \\frac{d(8x + 3)}{8x + 3} = \\frac{1}{8}\\int \\frac{du}{u} = \\frac{1}{8}ln(u) + C = \\frac{1}{8}ln(8x + 3) + C$$\n",
    "\n",
    "\n",
    "* **Пример 2:**\n",
    "\n",
    "$$\\int cos(2x+6)dx = \\frac{1}{2} \\int cos(2x+6)d(2x+6) = \\frac{1}{2}sin(2x+6) + C$$"
   ]
  },
  {
   "cell_type": "markdown",
   "id": "76da65e6",
   "metadata": {
    "slideshow": {
     "slide_type": "slide"
    }
   },
   "source": [
    "**Метод подстановки**\n",
    "\n",
    "\n",
    "* **Пример 1**\n",
    "\n",
    "\n",
    "$$\\int e^{-4x+3} dx$$\n",
    "\n",
    "Выполним замену: $t = u(x) = -4x + 3$ => $u' = \\frac{dt}{dx} = -4$ => $dx = \\frac{dt}{-4}$\n",
    "\n",
    "\n",
    "$$\\int e^{t} \\frac{dt}{-4} = -\\frac{1}{4}\\int e^{t}{dt} = -\\frac{1}{4}e^{t} + C = -\\frac{1}{4}e^{-4x+3} + C $$\n",
    "\n",
    "* **Пример 2**\n",
    "\n",
    "$$\\int \\frac{xdx}{1+x^4}$$\n",
    "\n",
    "Выполним замену: $t = u(x) = x^2$ => $u' = \\frac{dt}{dx} = 2x$ => $dx = \\frac{dt}{2x}$\n",
    "\n",
    "$$\\int \\frac{x dt}{2x(1+t^2)} = \\frac{1}{2}\\int \\frac{dt}{1+t^2} = \\frac{1}{2}arctg(t) + C = \\frac{1}{2}arctg(x^2) + C $$\n"
   ]
  },
  {
   "cell_type": "markdown",
   "id": "4e044351",
   "metadata": {
    "slideshow": {
     "slide_type": "slide"
    }
   },
   "source": [
    "* **Пример 3**\n",
    "\n",
    "\n",
    "$$\\int \\frac{x^2 + 1}{x + 2}dx$$\n",
    "\n",
    "\n",
    "Выполним замену: $t = u(x) = x + 2$ => $u' = \\frac{dt}{dx} = 1$ => $dx = dt$, также $x = t - 2$\n",
    "\n",
    "$$\\int \\frac{(t-2)^2 + 1}{t}dt = \\int \\frac{t^2 - 4t  + 5}{t}dt = \\int t dt - \\int 4 dt + \\int \\frac{5}{t}dt = \\frac{t^2}{2} + 4t + 5ln(t) + C = $$\n",
    "\n",
    "$$= \\frac{(x+2)^2}{2} + 4(x+2) + 5ln(x+2) + C$$\n",
    "\n",
    "\n",
    "\n",
    "*Выполнять замену следует так, что бы можно было отыскать обратную функцию."
   ]
  },
  {
   "cell_type": "markdown",
   "id": "0f609745",
   "metadata": {
    "slideshow": {
     "slide_type": "slide"
    }
   },
   "source": [
    "**Метод интегрирования по частям**\n",
    "\n",
    "$$\\int udv=uv - \\int vdu$$ \n",
    "\n",
    "\n",
    "* **Пример 1**\n",
    "\n",
    "$$\\int x^2 e^{-x} dx$$\n",
    "\n",
    "* $u = x^2$\n",
    "* $du = 2x dx$\n",
    "* $dv = e^{-x}dx$\n",
    "* $v = \\int e^{-x}dx = -e^{-x}$\n",
    "\n",
    "$$-x^2 e^{-x}- \\int -e^{-x} 2x dx = -x^2 e^{-x} + 2 \\int e^{-x} x dx$$\n",
    "\n"
   ]
  },
  {
   "cell_type": "markdown",
   "id": "2d6c5fbb",
   "metadata": {
    "slideshow": {
     "slide_type": "slide"
    }
   },
   "source": [
    "* $u = x$\n",
    "* $du = dx$\n",
    "* $dv = e^{-x}dx$\n",
    "* $v = \\int e^{-x}dx = -e^{-x}$\n",
    "\n",
    "$$-x^2 e^{-x} + 2 (-xe^{-x} - \\int -e^{-x} dx) = -x^2 e^{-x}  -2 x e^{-x} - 2e^{-x} + C = -e^{-x}(x^2 +2x + 2) + C$$"
   ]
  },
  {
   "cell_type": "markdown",
   "id": "dc9d6e71",
   "metadata": {
    "slideshow": {
     "slide_type": "slide"
    }
   },
   "source": [
    "* **Пример 2**\n",
    "\n",
    "$$\\int cos(x) e^x  dx$$\n",
    "\n",
    "* $u = cos(x)$\n",
    "* $du = -sin(x) dx$\n",
    "* $dv = e^{x}dx$\n",
    "* $v = \\int e^{x}dx = e^{x}$\n",
    "\n",
    "$$ = cos(x) e^{x} - \\int e^{x} -sin(x)dx = cos(x) e^{x} + \\int sin(x)e^{x}dx = $$\n",
    "\n",
    "* $u = sin(x)$\n",
    "* $du = cos(x) dx$\n",
    "* $dv = e^{x}dx$\n",
    "* $v = \\int e^{x}dx = e^{x}$\n",
    "\n",
    "$$ = cos(x) e^{x} + (sin(x) e^x - \\int cos(x)e^{x}dx)$$\n",
    "\n"
   ]
  },
  {
   "cell_type": "markdown",
   "id": "6db1792c",
   "metadata": {
    "slideshow": {
     "slide_type": "slide"
    }
   },
   "source": [
    "Т.е. получено равенство:\n",
    "\n",
    "\n",
    "$$\\int cos(x) e^x  dx = cos(x) e^{x} + sin(x) e^x - \\int cos(x)e^{x}dx $$\n",
    "\n",
    "\n",
    "$$2 \\int cos(x) e^x  dx = cos(x) e^{x} + sin(x) e^x$$\n",
    "\n",
    "\n",
    "$$\\int cos(x) e^x  dx = \\frac{cos(x) e^{x} + sin(x) e^x}{2} + C$$\n",
    "\n",
    "\n",
    "Этот случай применения метода интегрирования по частям называется «приведение интеграла к самому себе».\n",
    "\n",
    "Интегрирование по частям применяется при интегрировании, когда подынтегральные функции имеют вид:\n",
    "\n",
    "* $f(x) ln(x)$, за $u$ принимается $ln(x)$\n",
    "* $f(x) e^x$, за $u$ принимается $f(x)$\n",
    "* $f(x) sin(x)$, за $u$ принимается $f(x)$\n",
    "* $f(x) arcsin(x)$, за $u$ принимается $arcsin(x)$\n",
    "\n",
    "\n",
    "**За функцию $u$ принимаем выражение, упрощающееся при дифференцировании.**\n",
    "\n",
    "**За $dv$ принимаем выражение, не усложняющееся при интегрировании.**"
   ]
  },
  {
   "cell_type": "markdown",
   "id": "d227ea2b",
   "metadata": {
    "slideshow": {
     "slide_type": "slide"
    }
   },
   "source": [
    "**Решение определенных интегралов**\n",
    "\n",
    "$$ \\int \\limits _{1}^{4}\\frac{5}{x}dx$$\n",
    "\n",
    "$$ \\int \\frac{5}{x}dx = 5 \\int \\frac{1}{x}dx = 5 ln(x) + C $$\n",
    "\n",
    "$$ \\int \\limits _{1}^{4}\\frac{5}{x}dx = 5 ln(4) - 5 ln(1)   = 5ln(4)$$"
   ]
  },
  {
   "cell_type": "markdown",
   "id": "ff615707",
   "metadata": {
    "slideshow": {
     "slide_type": "slide"
    }
   },
   "source": [
    "**Решение несобственных интегралов I рода**\n",
    "\n",
    "$$ \\int \\limits _{1}^{\\infty}\\frac{1}{x^2}dx = - \\frac{1}{x} + C$$\n",
    "\n",
    "$$ \\int \\limits _{1}^{\\infty}\\frac{1}{x^2}dx =  - \\lim_{x \\to \\infty}\\frac{1}{x}dx - (-\\frac{1}{1}) = 0 + 1 = 1 $$"
   ]
  },
  {
   "cell_type": "markdown",
   "id": "b9d4c141",
   "metadata": {
    "slideshow": {
     "slide_type": "slide"
    }
   },
   "source": [
    "**Решение несобственных интегралов II рода**\n",
    "\n",
    "$$ \\int \\limits _{-2}^{0}\\frac{1}{\\sqrt[3]{x+1}}dx$$\n",
    "\n",
    "\n",
    "Интегральная функция терпит разрыв при $x = -1$\n",
    "\n",
    "Таким образом:  $$ \\int \\limits _{-2}^{0} \\frac{1}{\\sqrt[3]{x+1}}dx =  \\int \\limits _{-2}^{-1}\\frac{1}{\\sqrt[3]{x+1}}dx + \\int \\limits _{-1}^{0}\\frac{1}{\\sqrt[3]{x+1}}dx$$"
   ]
  },
  {
   "cell_type": "code",
   "execution_count": 9,
   "id": "a4eebcb2",
   "metadata": {
    "slideshow": {
     "slide_type": "slide"
    }
   },
   "outputs": [
    {
     "data": {
      "image/svg+xml": [
       "<?xml version=\"1.0\" encoding=\"utf-8\"?>\n",
       "<svg xmlns=\"http://www.w3.org/2000/svg\" xmlns:xlink=\"http://www.w3.org/1999/xlink\" width=\"600\" height=\"400\" viewBox=\"0 0 2400 1600\">\n",
       "<defs>\n",
       "  <clipPath id=\"clip560\">\n",
       "    <rect x=\"0\" y=\"0\" width=\"2400\" height=\"1600\"/>\n",
       "  </clipPath>\n",
       "</defs>\n",
       "<path clip-path=\"url(#clip560)\" d=\"M0 1600 L2400 1600 L2400 0 L0 0  Z\" fill=\"#ffffff\" fill-rule=\"evenodd\" fill-opacity=\"1\"/>\n",
       "<defs>\n",
       "  <clipPath id=\"clip561\">\n",
       "    <rect x=\"480\" y=\"0\" width=\"1681\" height=\"1600\"/>\n",
       "  </clipPath>\n",
       "</defs>\n",
       "<path clip-path=\"url(#clip560)\" d=\"M178.867 1486.45 L2352.76 1486.45 L2352.76 47.2441 L178.867 47.2441  Z\" fill=\"#ffffff\" fill-rule=\"evenodd\" fill-opacity=\"1\"/>\n",
       "<defs>\n",
       "  <clipPath id=\"clip562\">\n",
       "    <rect x=\"178\" y=\"47\" width=\"2175\" height=\"1440\"/>\n",
       "  </clipPath>\n",
       "</defs>\n",
       "<polyline clip-path=\"url(#clip562)\" style=\"stroke:#000000; stroke-linecap:round; stroke-linejoin:round; stroke-width:2; stroke-opacity:0.1; fill:none\" points=\"178.867,1486.45 178.867,47.2441 \"/>\n",
       "<polyline clip-path=\"url(#clip562)\" style=\"stroke:#000000; stroke-linecap:round; stroke-linejoin:round; stroke-width:2; stroke-opacity:0.1; fill:none\" points=\"722.339,1486.45 722.339,47.2441 \"/>\n",
       "<polyline clip-path=\"url(#clip562)\" style=\"stroke:#000000; stroke-linecap:round; stroke-linejoin:round; stroke-width:2; stroke-opacity:0.1; fill:none\" points=\"1265.81,1486.45 1265.81,47.2441 \"/>\n",
       "<polyline clip-path=\"url(#clip562)\" style=\"stroke:#000000; stroke-linecap:round; stroke-linejoin:round; stroke-width:2; stroke-opacity:0.1; fill:none\" points=\"1809.28,1486.45 1809.28,47.2441 \"/>\n",
       "<polyline clip-path=\"url(#clip562)\" style=\"stroke:#000000; stroke-linecap:round; stroke-linejoin:round; stroke-width:2; stroke-opacity:0.1; fill:none\" points=\"2352.76,1486.45 2352.76,47.2441 \"/>\n",
       "<polyline clip-path=\"url(#clip560)\" style=\"stroke:#000000; stroke-linecap:round; stroke-linejoin:round; stroke-width:4; stroke-opacity:1; fill:none\" points=\"178.867,1486.45 2352.76,1486.45 \"/>\n",
       "<polyline clip-path=\"url(#clip560)\" style=\"stroke:#000000; stroke-linecap:round; stroke-linejoin:round; stroke-width:4; stroke-opacity:1; fill:none\" points=\"178.867,1486.45 178.867,1467.55 \"/>\n",
       "<polyline clip-path=\"url(#clip560)\" style=\"stroke:#000000; stroke-linecap:round; stroke-linejoin:round; stroke-width:4; stroke-opacity:1; fill:none\" points=\"722.339,1486.45 722.339,1467.55 \"/>\n",
       "<polyline clip-path=\"url(#clip560)\" style=\"stroke:#000000; stroke-linecap:round; stroke-linejoin:round; stroke-width:4; stroke-opacity:1; fill:none\" points=\"1265.81,1486.45 1265.81,1467.55 \"/>\n",
       "<polyline clip-path=\"url(#clip560)\" style=\"stroke:#000000; stroke-linecap:round; stroke-linejoin:round; stroke-width:4; stroke-opacity:1; fill:none\" points=\"1809.28,1486.45 1809.28,1467.55 \"/>\n",
       "<polyline clip-path=\"url(#clip560)\" style=\"stroke:#000000; stroke-linecap:round; stroke-linejoin:round; stroke-width:4; stroke-opacity:1; fill:none\" points=\"2352.76,1486.45 2352.76,1467.55 \"/>\n",
       "<path clip-path=\"url(#clip560)\" d=\"M148.334 1532.02 L178.01 1532.02 L178.01 1535.95 L148.334 1535.95 L148.334 1532.02 Z\" fill=\"#000000\" fill-rule=\"nonzero\" fill-opacity=\"1\" /><path clip-path=\"url(#clip560)\" d=\"M202.269 1530.21 Q205.626 1530.93 207.501 1533.2 Q209.399 1535.47 209.399 1538.8 Q209.399 1543.92 205.88 1546.72 Q202.362 1549.52 195.88 1549.52 Q193.705 1549.52 191.39 1549.08 Q189.098 1548.66 186.644 1547.81 L186.644 1543.29 Q188.589 1544.43 190.904 1545.01 Q193.218 1545.58 195.742 1545.58 Q200.14 1545.58 202.431 1543.85 Q204.746 1542.11 204.746 1538.8 Q204.746 1535.75 202.593 1534.03 Q200.464 1532.3 196.644 1532.3 L192.617 1532.3 L192.617 1528.45 L196.83 1528.45 Q200.279 1528.45 202.107 1527.09 Q203.936 1525.7 203.936 1523.11 Q203.936 1520.45 202.038 1519.03 Q200.163 1517.6 196.644 1517.6 Q194.723 1517.6 192.524 1518.01 Q190.325 1518.43 187.686 1519.31 L187.686 1515.14 Q190.348 1514.4 192.663 1514.03 Q195.001 1513.66 197.061 1513.66 Q202.385 1513.66 205.487 1516.09 Q208.589 1518.5 208.589 1522.62 Q208.589 1525.49 206.945 1527.48 Q205.302 1529.45 202.269 1530.21 Z\" fill=\"#000000\" fill-rule=\"nonzero\" fill-opacity=\"1\" /><path clip-path=\"url(#clip560)\" d=\"M692.281 1532.02 L721.957 1532.02 L721.957 1535.95 L692.281 1535.95 L692.281 1532.02 Z\" fill=\"#000000\" fill-rule=\"nonzero\" fill-opacity=\"1\" /><path clip-path=\"url(#clip560)\" d=\"M736.077 1544.91 L752.397 1544.91 L752.397 1548.85 L730.452 1548.85 L730.452 1544.91 Q733.114 1542.16 737.698 1537.53 Q742.304 1532.88 743.485 1531.53 Q745.73 1529.01 746.61 1527.27 Q747.512 1525.51 747.512 1523.82 Q747.512 1521.07 745.568 1519.33 Q743.647 1517.6 740.545 1517.6 Q738.346 1517.6 735.892 1518.36 Q733.462 1519.13 730.684 1520.68 L730.684 1515.95 Q733.508 1514.82 735.962 1514.24 Q738.415 1513.66 740.452 1513.66 Q745.823 1513.66 749.017 1516.35 Q752.211 1519.03 752.211 1523.52 Q752.211 1525.65 751.401 1527.57 Q750.614 1529.47 748.508 1532.07 Q747.929 1532.74 744.827 1535.95 Q741.725 1539.15 736.077 1544.91 Z\" fill=\"#000000\" fill-rule=\"nonzero\" fill-opacity=\"1\" /><path clip-path=\"url(#clip560)\" d=\"M1235.57 1532.02 L1265.24 1532.02 L1265.24 1535.95 L1235.57 1535.95 L1235.57 1532.02 Z\" fill=\"#000000\" fill-rule=\"nonzero\" fill-opacity=\"1\" /><path clip-path=\"url(#clip560)\" d=\"M1276.15 1544.91 L1283.79 1544.91 L1283.79 1518.55 L1275.48 1520.21 L1275.48 1515.95 L1283.74 1514.29 L1288.42 1514.29 L1288.42 1544.91 L1296.05 1544.91 L1296.05 1548.85 L1276.15 1548.85 L1276.15 1544.91 Z\" fill=\"#000000\" fill-rule=\"nonzero\" fill-opacity=\"1\" /><path clip-path=\"url(#clip560)\" d=\"M1809.28 1517.37 Q1805.67 1517.37 1803.84 1520.93 Q1802.04 1524.47 1802.04 1531.6 Q1802.04 1538.71 1803.84 1542.27 Q1805.67 1545.82 1809.28 1545.82 Q1812.92 1545.82 1814.72 1542.27 Q1816.55 1538.71 1816.55 1531.6 Q1816.55 1524.47 1814.72 1520.93 Q1812.92 1517.37 1809.28 1517.37 M1809.28 1513.66 Q1815.09 1513.66 1818.15 1518.27 Q1821.23 1522.85 1821.23 1531.6 Q1821.23 1540.33 1818.15 1544.94 Q1815.09 1549.52 1809.28 1549.52 Q1803.47 1549.52 1800.39 1544.94 Q1797.34 1540.33 1797.34 1531.6 Q1797.34 1522.85 1800.39 1518.27 Q1803.47 1513.66 1809.28 1513.66 Z\" fill=\"#000000\" fill-rule=\"nonzero\" fill-opacity=\"1\" /><path clip-path=\"url(#clip560)\" d=\"M2343.14 1544.91 L2350.78 1544.91 L2350.78 1518.55 L2342.47 1520.21 L2342.47 1515.95 L2350.73 1514.29 L2355.41 1514.29 L2355.41 1544.91 L2363.05 1544.91 L2363.05 1548.85 L2343.14 1548.85 L2343.14 1544.91 Z\" fill=\"#000000\" fill-rule=\"nonzero\" fill-opacity=\"1\" /><polyline clip-path=\"url(#clip562)\" style=\"stroke:#000000; stroke-linecap:round; stroke-linejoin:round; stroke-width:2; stroke-opacity:0.1; fill:none\" points=\"178.867,1486.45 2352.76,1486.45 \"/>\n",
       "<polyline clip-path=\"url(#clip562)\" style=\"stroke:#000000; stroke-linecap:round; stroke-linejoin:round; stroke-width:2; stroke-opacity:0.1; fill:none\" points=\"178.867,1126.65 2352.76,1126.65 \"/>\n",
       "<polyline clip-path=\"url(#clip562)\" style=\"stroke:#000000; stroke-linecap:round; stroke-linejoin:round; stroke-width:2; stroke-opacity:0.1; fill:none\" points=\"178.867,766.846 2352.76,766.846 \"/>\n",
       "<polyline clip-path=\"url(#clip562)\" style=\"stroke:#000000; stroke-linecap:round; stroke-linejoin:round; stroke-width:2; stroke-opacity:0.1; fill:none\" points=\"178.867,407.045 2352.76,407.045 \"/>\n",
       "<polyline clip-path=\"url(#clip562)\" style=\"stroke:#000000; stroke-linecap:round; stroke-linejoin:round; stroke-width:2; stroke-opacity:0.1; fill:none\" points=\"178.867,47.2441 2352.76,47.2441 \"/>\n",
       "<polyline clip-path=\"url(#clip560)\" style=\"stroke:#000000; stroke-linecap:round; stroke-linejoin:round; stroke-width:4; stroke-opacity:1; fill:none\" points=\"178.867,1486.45 178.867,47.2441 \"/>\n",
       "<polyline clip-path=\"url(#clip560)\" style=\"stroke:#000000; stroke-linecap:round; stroke-linejoin:round; stroke-width:4; stroke-opacity:1; fill:none\" points=\"178.867,1486.45 197.764,1486.45 \"/>\n",
       "<polyline clip-path=\"url(#clip560)\" style=\"stroke:#000000; stroke-linecap:round; stroke-linejoin:round; stroke-width:4; stroke-opacity:1; fill:none\" points=\"178.867,1126.65 197.764,1126.65 \"/>\n",
       "<polyline clip-path=\"url(#clip560)\" style=\"stroke:#000000; stroke-linecap:round; stroke-linejoin:round; stroke-width:4; stroke-opacity:1; fill:none\" points=\"178.867,766.846 197.764,766.846 \"/>\n",
       "<polyline clip-path=\"url(#clip560)\" style=\"stroke:#000000; stroke-linecap:round; stroke-linejoin:round; stroke-width:4; stroke-opacity:1; fill:none\" points=\"178.867,407.045 197.764,407.045 \"/>\n",
       "<polyline clip-path=\"url(#clip560)\" style=\"stroke:#000000; stroke-linecap:round; stroke-linejoin:round; stroke-width:4; stroke-opacity:1; fill:none\" points=\"178.867,47.2441 197.764,47.2441 \"/>\n",
       "<path clip-path=\"url(#clip560)\" d=\"M50.9921 1486.9 L80.6679 1486.9 L80.6679 1490.83 L50.9921 1490.83 L50.9921 1486.9 Z\" fill=\"#000000\" fill-rule=\"nonzero\" fill-opacity=\"1\" /><path clip-path=\"url(#clip560)\" d=\"M91.5706 1499.79 L99.2095 1499.79 L99.2095 1473.43 L90.8993 1475.09 L90.8993 1470.83 L99.1632 1469.17 L103.839 1469.17 L103.839 1499.79 L111.478 1499.79 L111.478 1503.73 L91.5706 1503.73 L91.5706 1499.79 Z\" fill=\"#000000\" fill-rule=\"nonzero\" fill-opacity=\"1\" /><path clip-path=\"url(#clip560)\" d=\"M130.922 1472.25 Q127.311 1472.25 125.482 1475.81 Q123.677 1479.35 123.677 1486.48 Q123.677 1493.59 125.482 1497.15 Q127.311 1500.7 130.922 1500.7 Q134.556 1500.7 136.362 1497.15 Q138.191 1493.59 138.191 1486.48 Q138.191 1479.35 136.362 1475.81 Q134.556 1472.25 130.922 1472.25 M130.922 1468.54 Q136.732 1468.54 139.788 1473.15 Q142.867 1477.73 142.867 1486.48 Q142.867 1495.21 139.788 1499.82 Q136.732 1504.4 130.922 1504.4 Q125.112 1504.4 122.033 1499.82 Q118.978 1495.21 118.978 1486.48 Q118.978 1477.73 122.033 1473.15 Q125.112 1468.54 130.922 1468.54 Z\" fill=\"#000000\" fill-rule=\"nonzero\" fill-opacity=\"1\" /><path clip-path=\"url(#clip560)\" d=\"M82.1494 1127.1 L111.825 1127.1 L111.825 1131.03 L82.1494 1131.03 L82.1494 1127.1 Z\" fill=\"#000000\" fill-rule=\"nonzero\" fill-opacity=\"1\" /><path clip-path=\"url(#clip560)\" d=\"M121.964 1109.37 L140.32 1109.37 L140.32 1113.3 L126.246 1113.3 L126.246 1121.77 Q127.265 1121.43 128.283 1121.27 Q129.302 1121.08 130.32 1121.08 Q136.107 1121.08 139.487 1124.25 Q142.867 1127.42 142.867 1132.84 Q142.867 1138.42 139.394 1141.52 Q135.922 1144.6 129.603 1144.6 Q127.427 1144.6 125.158 1144.23 Q122.913 1143.86 120.506 1143.12 L120.506 1138.42 Q122.589 1139.55 124.811 1140.11 Q127.033 1140.66 129.51 1140.66 Q133.515 1140.66 135.853 1138.56 Q138.191 1136.45 138.191 1132.84 Q138.191 1129.23 135.853 1127.12 Q133.515 1125.01 129.51 1125.01 Q127.635 1125.01 125.76 1125.43 Q123.908 1125.85 121.964 1126.73 L121.964 1109.37 Z\" fill=\"#000000\" fill-rule=\"nonzero\" fill-opacity=\"1\" /><path clip-path=\"url(#clip560)\" d=\"M130.922 752.645 Q127.311 752.645 125.482 756.209 Q123.677 759.751 123.677 766.881 Q123.677 773.987 125.482 777.552 Q127.311 781.094 130.922 781.094 Q134.556 781.094 136.362 777.552 Q138.191 773.987 138.191 766.881 Q138.191 759.751 136.362 756.209 Q134.556 752.645 130.922 752.645 M130.922 748.941 Q136.732 748.941 139.788 753.547 Q142.867 758.131 142.867 766.881 Q142.867 775.608 139.788 780.214 Q136.732 784.797 130.922 784.797 Q125.112 784.797 122.033 780.214 Q118.978 775.608 118.978 766.881 Q118.978 758.131 122.033 753.547 Q125.112 748.941 130.922 748.941 Z\" fill=\"#000000\" fill-rule=\"nonzero\" fill-opacity=\"1\" /><path clip-path=\"url(#clip560)\" d=\"M121.964 389.765 L140.32 389.765 L140.32 393.7 L126.246 393.7 L126.246 402.172 Q127.265 401.825 128.283 401.663 Q129.302 401.478 130.32 401.478 Q136.107 401.478 139.487 404.649 Q142.867 407.82 142.867 413.237 Q142.867 418.816 139.394 421.918 Q135.922 424.996 129.603 424.996 Q127.427 424.996 125.158 424.626 Q122.913 424.256 120.506 423.515 L120.506 418.816 Q122.589 419.95 124.811 420.506 Q127.033 421.061 129.51 421.061 Q133.515 421.061 135.853 418.955 Q138.191 416.848 138.191 413.237 Q138.191 409.626 135.853 407.52 Q133.515 405.413 129.51 405.413 Q127.635 405.413 125.76 405.83 Q123.908 406.246 121.964 407.126 L121.964 389.765 Z\" fill=\"#000000\" fill-rule=\"nonzero\" fill-opacity=\"1\" /><path clip-path=\"url(#clip560)\" d=\"M91.5706 60.5889 L99.2095 60.5889 L99.2095 34.2233 L90.8993 35.89 L90.8993 31.6308 L99.1632 29.9641 L103.839 29.9641 L103.839 60.5889 L111.478 60.5889 L111.478 64.5241 L91.5706 64.5241 L91.5706 60.5889 Z\" fill=\"#000000\" fill-rule=\"nonzero\" fill-opacity=\"1\" /><path clip-path=\"url(#clip560)\" d=\"M130.922 33.0428 Q127.311 33.0428 125.482 36.6076 Q123.677 40.1492 123.677 47.2788 Q123.677 54.3853 125.482 57.9501 Q127.311 61.4917 130.922 61.4917 Q134.556 61.4917 136.362 57.9501 Q138.191 54.3853 138.191 47.2788 Q138.191 40.1492 136.362 36.6076 Q134.556 33.0428 130.922 33.0428 M130.922 29.3391 Q136.732 29.3391 139.788 33.9456 Q142.867 38.5289 142.867 47.2788 Q142.867 56.0056 139.788 60.6121 Q136.732 65.1954 130.922 65.1954 Q125.112 65.1954 122.033 60.6121 Q118.978 56.0056 118.978 47.2788 Q118.978 38.5289 122.033 33.9456 Q125.112 29.3391 130.922 29.3391 Z\" fill=\"#000000\" fill-rule=\"nonzero\" fill-opacity=\"1\" /><polyline clip-path=\"url(#clip562)\" style=\"stroke:#009af9; stroke-linecap:round; stroke-linejoin:round; stroke-width:4; stroke-opacity:1; fill:none\" points=\"178.867,823.961 193.02,824.211 323.887,826.753 402.532,828.52 469.026,830.19 541.257,832.228 607.847,834.364 679.239,836.999 761.954,840.645 835.461,844.628 899.92,848.951 935.059,851.761 970.198,855 1005.55,858.823 1040.89,863.409 1060.43,866.379 1079.97,869.752 1099.52,873.634 1119.06,878.178 1137.65,883.32 1156.24,889.567 1165.54,893.248 1174.83,897.415 1184.13,902.191 1193.43,907.754 1203.09,914.649 1212.76,923.129 1217.59,928.185 1222.42,933.966 1227.26,940.676 1232.09,948.613 1236.92,958.231 1241.76,970.274 1244.17,977.581 1246.59,986.065 1249,996.105 1251.42,1008.28 1252.63,1015.44 1253.84,1023.54 1255.05,1032.8 1256.25,1043.57 1257.46,1056.32 1258.67,1071.81 1259.27,1080.92 1259.88,1091.24 1260.48,1103.07 1261.09,1116.83 1261.69,1133.16 1262.3,1153.04 1262.9,1178.09 1263.5,1211.24 1264.11,1258.56 1264.71,1335.84 1265.32,1509.11 1265.92,-462.771 1266.52,109.524 1267.13,231.126 1267.73,294.471 1268.34,335.618 1268.94,365.371 1269.54,388.31 1270.15,406.769 1270.75,422.083 1271.26,433.158 1271.77,442.934 1272.28,451.656 1272.79,459.509 1273.8,473.14 1274.82,484.636 1275.84,494.519 1276.86,503.15 1277.87,510.78 1278.89,517.598 1280.92,529.324 1282.96,539.114 1284.99,547.467 1287.03,554.716 1291.09,566.765 1295.16,576.473 1299.23,584.534 1303.3,591.383 1307.37,597.307 1311.44,602.503 1315.5,607.117 1319.57,611.252 1327.71,618.392 1335.85,624.379 1345.78,630.541 1355.71,635.759 1365.65,640.259 1375.58,644.199 1395.45,650.815 1415.32,656.201 1433.52,660.358 1451.72,663.953 1469.92,667.107 1488.12,669.907 1521.74,674.352 1555.36,678.08 1589.41,681.31 1623.47,684.116 1699.8,689.282 1768.96,693.013 1848.16,696.524 1921.48,699.25 1993.77,701.566 2063.96,703.538 2135.91,705.334 2214.75,707.087 2329.26,709.314 2352.76,709.731 \"/>\n",
       "<path clip-path=\"url(#clip560)\" d=\"M2010.47 198.898 L2280.29 198.898 L2280.29 95.2176 L2010.47 95.2176  Z\" fill=\"#ffffff\" fill-rule=\"evenodd\" fill-opacity=\"1\"/>\n",
       "<polyline clip-path=\"url(#clip560)\" style=\"stroke:#000000; stroke-linecap:round; stroke-linejoin:round; stroke-width:4; stroke-opacity:1; fill:none\" points=\"2010.47,198.898 2280.29,198.898 2280.29,95.2176 2010.47,95.2176 2010.47,198.898 \"/>\n",
       "<polyline clip-path=\"url(#clip560)\" style=\"stroke:#009af9; stroke-linecap:round; stroke-linejoin:round; stroke-width:4; stroke-opacity:1; fill:none\" points=\"2034.63,147.058 2179.55,147.058 \"/>\n",
       "<path clip-path=\"url(#clip560)\" d=\"M2217.55 166.745 Q2215.75 171.375 2214.03 172.787 Q2212.32 174.199 2209.45 174.199 L2206.05 174.199 L2206.05 170.634 L2208.55 170.634 Q2210.31 170.634 2211.28 169.8 Q2212.25 168.967 2213.43 165.865 L2214.19 163.921 L2203.71 138.412 L2208.22 138.412 L2216.32 158.689 L2224.43 138.412 L2228.94 138.412 L2217.55 166.745 Z\" fill=\"#000000\" fill-rule=\"nonzero\" fill-opacity=\"1\" /><path clip-path=\"url(#clip560)\" d=\"M2236.23 160.402 L2243.87 160.402 L2243.87 134.037 L2235.56 135.703 L2235.56 131.444 L2243.82 129.778 L2248.5 129.778 L2248.5 160.402 L2256.14 160.402 L2256.14 164.338 L2236.23 164.338 L2236.23 160.402 Z\" fill=\"#000000\" fill-rule=\"nonzero\" fill-opacity=\"1\" /></svg>\n"
      ]
     },
     "execution_count": 9,
     "metadata": {},
     "output_type": "execute_result"
    }
   ],
   "source": [
    "using Plots, QuadGK\n",
    "f(x) = 1 /cbrt(x + 1)\n",
    "\n",
    "plot(f, xlims = (-3, 1), ylims = (-10, 10))"
   ]
  },
  {
   "cell_type": "markdown",
   "id": "62abfb38",
   "metadata": {
    "slideshow": {
     "slide_type": "slide"
    }
   },
   "source": [
    "$$ \\int \\limits _{-2}^{0}\\frac{1}{\\sqrt[3]{x+1}}dx = \\frac{3(x+1)^{2/3}}{2} + C$$\n",
    "\n",
    "*методом подстановки $u = x + 1$*\n",
    "\n",
    "Тогда: $$\\int \\limits _{-2}^{-1}\\frac{1}{\\sqrt[3]{x+1}}dx =  \\lim_{x \\to -1^-}\\frac{3(x+1)^{2/3}}{2} - \\frac{3(-2+1)^{2/3}}{2} = \\frac{3(0^-)^{2/3}}{2} - \\frac{3(-1)^{2/3}}{2} = - \\frac{3}{2}$$\n",
    "\n",
    "$$\\int \\limits _{-1}^{0}\\frac{1}{\\sqrt[3]{x+1}}dx = \\frac{3(0+1)^{2/3}}{2} - \\lim_{x \\to -1^+}\\frac{3(x+1)^{2/3}}{2}  =  \\frac{3(1)^{2/3}}{2} - \\frac{3(0^+)^{2/3}}{2} = \\frac{3}{2}$$"
   ]
  },
  {
   "cell_type": "code",
   "execution_count": 12,
   "id": "7533bc37",
   "metadata": {
    "slideshow": {
     "slide_type": "slide"
    }
   },
   "outputs": [
    {
     "data": {
      "text/plain": [
       "-8.291145547900669e-13"
      ]
     },
     "execution_count": 12,
     "metadata": {},
     "output_type": "execute_result"
    }
   ],
   "source": [
    "quadgk(f, -2, -1)[1] + quadgk(f, -1, 0)[1]"
   ]
  },
  {
   "cell_type": "markdown",
   "id": "02f428a2",
   "metadata": {
    "slideshow": {
     "slide_type": "slide"
    }
   },
   "source": [
    "**Что произойдет с интегралом??**\n",
    "\n",
    "$$ \\int \\limits _{-\\infty}^{\\infty}\\frac{1}{x^2}dx = - \\frac{1}{x} + C$$"
   ]
  },
  {
   "cell_type": "markdown",
   "id": "ee7f1f89",
   "metadata": {
    "slideshow": {
     "slide_type": "slide"
    }
   },
   "source": [
    "**А если интеграл взять нельзя, то пользуемся численными методами:**\n",
    "\n",
    "\n",
    "* $\\int \\frac{sin(x)}{x}dx$\n",
    "\n",
    "\n",
    "* $\\int \\frac{e^x}{x}dx$\n",
    "\n",
    "\n",
    "* $\\int \\frac{1}{ln(x)}dx$\n",
    "\n",
    "\n",
    "* $\\int e^{-x^2 / 2}dx$\n",
    "\n",
    "\n",
    "*Неберущийся интеграл - такой, который невозможно выразить через элементарные функции. Для таких интегралов могут быть использованы другие функции - полилогарифм, функция ошибок (функция Лапласа), интегральная экспонента и т.д.*"
   ]
  },
  {
   "cell_type": "code",
   "execution_count": 6,
   "id": "3d9babc8",
   "metadata": {
    "slideshow": {
     "slide_type": "slide"
    }
   },
   "outputs": [
    {
     "data": {
      "text/plain": [
       "(0.24323955119677343, 2.7755575615628914e-17)"
      ]
     },
     "execution_count": 6,
     "metadata": {},
     "output_type": "execute_result"
    }
   ],
   "source": [
    "using QuadGK, Plots\n",
    "\n",
    "f(x) = sin(x)/x\n",
    "\n",
    "quadgk(f, 2, 3)"
   ]
  },
  {
   "cell_type": "code",
   "execution_count": 7,
   "id": "bf2072d1",
   "metadata": {
    "slideshow": {
     "slide_type": "slide"
    }
   },
   "outputs": [
    {
     "data": {
      "image/svg+xml": [
       "<?xml version=\"1.0\" encoding=\"utf-8\"?>\n",
       "<svg xmlns=\"http://www.w3.org/2000/svg\" xmlns:xlink=\"http://www.w3.org/1999/xlink\" width=\"600\" height=\"400\" viewBox=\"0 0 2400 1600\">\n",
       "<defs>\n",
       "  <clipPath id=\"clip480\">\n",
       "    <rect x=\"0\" y=\"0\" width=\"2400\" height=\"1600\"/>\n",
       "  </clipPath>\n",
       "</defs>\n",
       "<path clip-path=\"url(#clip480)\" d=\"M0 1600 L2400 1600 L2400 0 L0 0  Z\" fill=\"#ffffff\" fill-rule=\"evenodd\" fill-opacity=\"1\"/>\n",
       "<defs>\n",
       "  <clipPath id=\"clip481\">\n",
       "    <rect x=\"480\" y=\"0\" width=\"1681\" height=\"1600\"/>\n",
       "  </clipPath>\n",
       "</defs>\n",
       "<path clip-path=\"url(#clip480)\" d=\"M186.274 1486.45 L2352.76 1486.45 L2352.76 47.2441 L186.274 47.2441  Z\" fill=\"#ffffff\" fill-rule=\"evenodd\" fill-opacity=\"1\"/>\n",
       "<defs>\n",
       "  <clipPath id=\"clip482\">\n",
       "    <rect x=\"186\" y=\"47\" width=\"2167\" height=\"1440\"/>\n",
       "  </clipPath>\n",
       "</defs>\n",
       "<polyline clip-path=\"url(#clip482)\" style=\"stroke:#000000; stroke-linecap:round; stroke-linejoin:round; stroke-width:2; stroke-opacity:0.1; fill:none\" points=\"727.894,1486.45 727.894,47.2441 \"/>\n",
       "<polyline clip-path=\"url(#clip482)\" style=\"stroke:#000000; stroke-linecap:round; stroke-linejoin:round; stroke-width:2; stroke-opacity:0.1; fill:none\" points=\"1269.51,1486.45 1269.51,47.2441 \"/>\n",
       "<polyline clip-path=\"url(#clip482)\" style=\"stroke:#000000; stroke-linecap:round; stroke-linejoin:round; stroke-width:2; stroke-opacity:0.1; fill:none\" points=\"1811.14,1486.45 1811.14,47.2441 \"/>\n",
       "<polyline clip-path=\"url(#clip482)\" style=\"stroke:#000000; stroke-linecap:round; stroke-linejoin:round; stroke-width:2; stroke-opacity:0.1; fill:none\" points=\"2352.76,1486.45 2352.76,47.2441 \"/>\n",
       "<polyline clip-path=\"url(#clip480)\" style=\"stroke:#000000; stroke-linecap:round; stroke-linejoin:round; stroke-width:4; stroke-opacity:1; fill:none\" points=\"186.274,1486.45 2352.76,1486.45 \"/>\n",
       "<polyline clip-path=\"url(#clip480)\" style=\"stroke:#000000; stroke-linecap:round; stroke-linejoin:round; stroke-width:4; stroke-opacity:1; fill:none\" points=\"727.894,1486.45 727.894,1467.55 \"/>\n",
       "<polyline clip-path=\"url(#clip480)\" style=\"stroke:#000000; stroke-linecap:round; stroke-linejoin:round; stroke-width:4; stroke-opacity:1; fill:none\" points=\"1269.51,1486.45 1269.51,1467.55 \"/>\n",
       "<polyline clip-path=\"url(#clip480)\" style=\"stroke:#000000; stroke-linecap:round; stroke-linejoin:round; stroke-width:4; stroke-opacity:1; fill:none\" points=\"1811.14,1486.45 1811.14,1467.55 \"/>\n",
       "<polyline clip-path=\"url(#clip480)\" style=\"stroke:#000000; stroke-linecap:round; stroke-linejoin:round; stroke-width:4; stroke-opacity:1; fill:none\" points=\"2352.76,1486.45 2352.76,1467.55 \"/>\n",
       "<path clip-path=\"url(#clip480)\" d=\"M718.276 1544.91 L725.915 1544.91 L725.915 1518.55 L717.605 1520.21 L717.605 1515.95 L725.869 1514.29 L730.545 1514.29 L730.545 1544.91 L738.184 1544.91 L738.184 1548.85 L718.276 1548.85 L718.276 1544.91 Z\" fill=\"#000000\" fill-rule=\"nonzero\" fill-opacity=\"1\" /><path clip-path=\"url(#clip480)\" d=\"M1264.17 1544.91 L1280.49 1544.91 L1280.49 1548.85 L1258.54 1548.85 L1258.54 1544.91 Q1261.2 1542.16 1265.79 1537.53 Q1270.39 1532.88 1271.58 1531.53 Q1273.82 1529.01 1274.7 1527.27 Q1275.6 1525.51 1275.6 1523.82 Q1275.6 1521.07 1273.66 1519.33 Q1271.74 1517.6 1268.64 1517.6 Q1266.44 1517.6 1263.98 1518.36 Q1261.55 1519.13 1258.77 1520.68 L1258.77 1515.95 Q1261.6 1514.82 1264.05 1514.24 Q1266.51 1513.66 1268.54 1513.66 Q1273.91 1513.66 1277.11 1516.35 Q1280.3 1519.03 1280.3 1523.52 Q1280.3 1525.65 1279.49 1527.57 Q1278.7 1529.47 1276.6 1532.07 Q1276.02 1532.74 1272.92 1535.95 Q1269.82 1539.15 1264.17 1544.91 Z\" fill=\"#000000\" fill-rule=\"nonzero\" fill-opacity=\"1\" /><path clip-path=\"url(#clip480)\" d=\"M1815.38 1530.21 Q1818.74 1530.93 1820.61 1533.2 Q1822.51 1535.47 1822.51 1538.8 Q1822.51 1543.92 1818.99 1546.72 Q1815.48 1549.52 1808.99 1549.52 Q1806.82 1549.52 1804.5 1549.08 Q1802.21 1548.66 1799.76 1547.81 L1799.76 1543.29 Q1801.7 1544.43 1804.02 1545.01 Q1806.33 1545.58 1808.86 1545.58 Q1813.25 1545.58 1815.55 1543.85 Q1817.86 1542.11 1817.86 1538.8 Q1817.86 1535.75 1815.71 1534.03 Q1813.58 1532.3 1809.76 1532.3 L1805.73 1532.3 L1805.73 1528.45 L1809.94 1528.45 Q1813.39 1528.45 1815.22 1527.09 Q1817.05 1525.7 1817.05 1523.11 Q1817.05 1520.45 1815.15 1519.03 Q1813.28 1517.6 1809.76 1517.6 Q1807.84 1517.6 1805.64 1518.01 Q1803.44 1518.43 1800.8 1519.31 L1800.8 1515.14 Q1803.46 1514.4 1805.78 1514.03 Q1808.11 1513.66 1810.17 1513.66 Q1815.5 1513.66 1818.6 1516.09 Q1821.7 1518.5 1821.7 1522.62 Q1821.7 1525.49 1820.06 1527.48 Q1818.42 1529.45 1815.38 1530.21 Z\" fill=\"#000000\" fill-rule=\"nonzero\" fill-opacity=\"1\" /><path clip-path=\"url(#clip480)\" d=\"M2355.77 1518.36 L2343.96 1536.81 L2355.77 1536.81 L2355.77 1518.36 M2354.54 1514.29 L2360.42 1514.29 L2360.42 1536.81 L2365.35 1536.81 L2365.35 1540.7 L2360.42 1540.7 L2360.42 1548.85 L2355.77 1548.85 L2355.77 1540.7 L2340.16 1540.7 L2340.16 1536.19 L2354.54 1514.29 Z\" fill=\"#000000\" fill-rule=\"nonzero\" fill-opacity=\"1\" /><polyline clip-path=\"url(#clip482)\" style=\"stroke:#000000; stroke-linecap:round; stroke-linejoin:round; stroke-width:2; stroke-opacity:0.1; fill:none\" points=\"186.274,1229.7 2352.76,1229.7 \"/>\n",
       "<polyline clip-path=\"url(#clip482)\" style=\"stroke:#000000; stroke-linecap:round; stroke-linejoin:round; stroke-width:2; stroke-opacity:0.1; fill:none\" points=\"186.274,944.27 2352.76,944.27 \"/>\n",
       "<polyline clip-path=\"url(#clip482)\" style=\"stroke:#000000; stroke-linecap:round; stroke-linejoin:round; stroke-width:2; stroke-opacity:0.1; fill:none\" points=\"186.274,658.838 2352.76,658.838 \"/>\n",
       "<polyline clip-path=\"url(#clip482)\" style=\"stroke:#000000; stroke-linecap:round; stroke-linejoin:round; stroke-width:2; stroke-opacity:0.1; fill:none\" points=\"186.274,373.407 2352.76,373.407 \"/>\n",
       "<polyline clip-path=\"url(#clip482)\" style=\"stroke:#000000; stroke-linecap:round; stroke-linejoin:round; stroke-width:2; stroke-opacity:0.1; fill:none\" points=\"186.274,87.9763 2352.76,87.9763 \"/>\n",
       "<polyline clip-path=\"url(#clip480)\" style=\"stroke:#000000; stroke-linecap:round; stroke-linejoin:round; stroke-width:4; stroke-opacity:1; fill:none\" points=\"186.274,1486.45 186.274,47.2441 \"/>\n",
       "<polyline clip-path=\"url(#clip480)\" style=\"stroke:#000000; stroke-linecap:round; stroke-linejoin:round; stroke-width:4; stroke-opacity:1; fill:none\" points=\"186.274,1229.7 205.172,1229.7 \"/>\n",
       "<polyline clip-path=\"url(#clip480)\" style=\"stroke:#000000; stroke-linecap:round; stroke-linejoin:round; stroke-width:4; stroke-opacity:1; fill:none\" points=\"186.274,944.27 205.172,944.27 \"/>\n",
       "<polyline clip-path=\"url(#clip480)\" style=\"stroke:#000000; stroke-linecap:round; stroke-linejoin:round; stroke-width:4; stroke-opacity:1; fill:none\" points=\"186.274,658.838 205.172,658.838 \"/>\n",
       "<polyline clip-path=\"url(#clip480)\" style=\"stroke:#000000; stroke-linecap:round; stroke-linejoin:round; stroke-width:4; stroke-opacity:1; fill:none\" points=\"186.274,373.407 205.172,373.407 \"/>\n",
       "<polyline clip-path=\"url(#clip480)\" style=\"stroke:#000000; stroke-linecap:round; stroke-linejoin:round; stroke-width:4; stroke-opacity:1; fill:none\" points=\"186.274,87.9763 205.172,87.9763 \"/>\n",
       "<path clip-path=\"url(#clip480)\" d=\"M62.9365 1215.5 Q59.3254 1215.5 57.4967 1219.06 Q55.6912 1222.61 55.6912 1229.74 Q55.6912 1236.84 57.4967 1240.41 Q59.3254 1243.95 62.9365 1243.95 Q66.5707 1243.95 68.3763 1240.41 Q70.205 1236.84 70.205 1229.74 Q70.205 1222.61 68.3763 1219.06 Q66.5707 1215.5 62.9365 1215.5 M62.9365 1211.8 Q68.7467 1211.8 71.8022 1216.4 Q74.8809 1220.99 74.8809 1229.74 Q74.8809 1238.46 71.8022 1243.07 Q68.7467 1247.65 62.9365 1247.65 Q57.1264 1247.65 54.0477 1243.07 Q50.9921 1238.46 50.9921 1229.74 Q50.9921 1220.99 54.0477 1216.4 Q57.1264 1211.8 62.9365 1211.8 Z\" fill=\"#000000\" fill-rule=\"nonzero\" fill-opacity=\"1\" /><path clip-path=\"url(#clip480)\" d=\"M83.0984 1241.1 L87.9827 1241.1 L87.9827 1246.98 L83.0984 1246.98 L83.0984 1241.1 Z\" fill=\"#000000\" fill-rule=\"nonzero\" fill-opacity=\"1\" /><path clip-path=\"url(#clip480)\" d=\"M108.168 1215.5 Q104.557 1215.5 102.728 1219.06 Q100.922 1222.61 100.922 1229.74 Q100.922 1236.84 102.728 1240.41 Q104.557 1243.95 108.168 1243.95 Q111.802 1243.95 113.608 1240.41 Q115.436 1236.84 115.436 1229.74 Q115.436 1222.61 113.608 1219.06 Q111.802 1215.5 108.168 1215.5 M108.168 1211.8 Q113.978 1211.8 117.033 1216.4 Q120.112 1220.99 120.112 1229.74 Q120.112 1238.46 117.033 1243.07 Q113.978 1247.65 108.168 1247.65 Q102.358 1247.65 99.2789 1243.07 Q96.2234 1238.46 96.2234 1229.74 Q96.2234 1220.99 99.2789 1216.4 Q102.358 1211.8 108.168 1211.8 Z\" fill=\"#000000\" fill-rule=\"nonzero\" fill-opacity=\"1\" /><path clip-path=\"url(#clip480)\" d=\"M138.33 1215.5 Q134.719 1215.5 132.89 1219.06 Q131.084 1222.61 131.084 1229.74 Q131.084 1236.84 132.89 1240.41 Q134.719 1243.95 138.33 1243.95 Q141.964 1243.95 143.769 1240.41 Q145.598 1236.84 145.598 1229.74 Q145.598 1222.61 143.769 1219.06 Q141.964 1215.5 138.33 1215.5 M138.33 1211.8 Q144.14 1211.8 147.195 1216.4 Q150.274 1220.99 150.274 1229.74 Q150.274 1238.46 147.195 1243.07 Q144.14 1247.65 138.33 1247.65 Q132.519 1247.65 129.441 1243.07 Q126.385 1238.46 126.385 1229.74 Q126.385 1220.99 129.441 1216.4 Q132.519 1211.8 138.33 1211.8 Z\" fill=\"#000000\" fill-rule=\"nonzero\" fill-opacity=\"1\" /><path clip-path=\"url(#clip480)\" d=\"M63.9319 930.068 Q60.3208 930.068 58.4921 933.633 Q56.6865 937.175 56.6865 944.304 Q56.6865 951.411 58.4921 954.976 Q60.3208 958.517 63.9319 958.517 Q67.5661 958.517 69.3717 954.976 Q71.2004 951.411 71.2004 944.304 Q71.2004 937.175 69.3717 933.633 Q67.5661 930.068 63.9319 930.068 M63.9319 926.365 Q69.742 926.365 72.7976 930.971 Q75.8763 935.554 75.8763 944.304 Q75.8763 953.031 72.7976 957.638 Q69.742 962.221 63.9319 962.221 Q58.1217 962.221 55.043 957.638 Q51.9875 953.031 51.9875 944.304 Q51.9875 935.554 55.043 930.971 Q58.1217 926.365 63.9319 926.365 Z\" fill=\"#000000\" fill-rule=\"nonzero\" fill-opacity=\"1\" /><path clip-path=\"url(#clip480)\" d=\"M84.0938 955.67 L88.978 955.67 L88.978 961.55 L84.0938 961.55 L84.0938 955.67 Z\" fill=\"#000000\" fill-rule=\"nonzero\" fill-opacity=\"1\" /><path clip-path=\"url(#clip480)\" d=\"M103.191 957.614 L119.51 957.614 L119.51 961.55 L97.566 961.55 L97.566 957.614 Q100.228 954.86 104.811 950.23 Q109.418 945.577 110.598 944.235 Q112.844 941.712 113.723 939.976 Q114.626 938.216 114.626 936.527 Q114.626 933.772 112.682 932.036 Q110.76 930.3 107.658 930.3 Q105.459 930.3 103.006 931.064 Q100.575 931.828 97.7974 933.378 L97.7974 928.656 Q100.621 927.522 103.075 926.943 Q105.529 926.365 107.566 926.365 Q112.936 926.365 116.131 929.05 Q119.325 931.735 119.325 936.226 Q119.325 938.355 118.515 940.277 Q117.728 942.175 115.621 944.767 Q115.043 945.439 111.941 948.656 Q108.839 951.851 103.191 957.614 Z\" fill=\"#000000\" fill-rule=\"nonzero\" fill-opacity=\"1\" /><path clip-path=\"url(#clip480)\" d=\"M129.371 926.99 L147.728 926.99 L147.728 930.925 L133.654 930.925 L133.654 939.397 Q134.672 939.05 135.691 938.888 Q136.709 938.703 137.728 938.703 Q143.515 938.703 146.894 941.874 Q150.274 945.045 150.274 950.462 Q150.274 956.04 146.802 959.142 Q143.33 962.221 137.01 962.221 Q134.834 962.221 132.566 961.851 Q130.32 961.48 127.913 960.739 L127.913 956.04 Q129.996 957.175 132.219 957.73 Q134.441 958.286 136.918 958.286 Q140.922 958.286 143.26 956.179 Q145.598 954.073 145.598 950.462 Q145.598 946.851 143.26 944.744 Q140.922 942.638 136.918 942.638 Q135.043 942.638 133.168 943.054 Q131.316 943.471 129.371 944.351 L129.371 926.99 Z\" fill=\"#000000\" fill-rule=\"nonzero\" fill-opacity=\"1\" /><path clip-path=\"url(#clip480)\" d=\"M62.9365 644.637 Q59.3254 644.637 57.4967 648.202 Q55.6912 651.744 55.6912 658.873 Q55.6912 665.98 57.4967 669.544 Q59.3254 673.086 62.9365 673.086 Q66.5707 673.086 68.3763 669.544 Q70.205 665.98 70.205 658.873 Q70.205 651.744 68.3763 648.202 Q66.5707 644.637 62.9365 644.637 M62.9365 640.933 Q68.7467 640.933 71.8022 645.54 Q74.8809 650.123 74.8809 658.873 Q74.8809 667.6 71.8022 672.206 Q68.7467 676.79 62.9365 676.79 Q57.1264 676.79 54.0477 672.206 Q50.9921 667.6 50.9921 658.873 Q50.9921 650.123 54.0477 645.54 Q57.1264 640.933 62.9365 640.933 Z\" fill=\"#000000\" fill-rule=\"nonzero\" fill-opacity=\"1\" /><path clip-path=\"url(#clip480)\" d=\"M83.0984 670.239 L87.9827 670.239 L87.9827 676.118 L83.0984 676.118 L83.0984 670.239 Z\" fill=\"#000000\" fill-rule=\"nonzero\" fill-opacity=\"1\" /><path clip-path=\"url(#clip480)\" d=\"M98.2141 641.558 L116.57 641.558 L116.57 645.494 L102.496 645.494 L102.496 653.966 Q103.515 653.619 104.534 653.457 Q105.552 653.271 106.571 653.271 Q112.358 653.271 115.737 656.443 Q119.117 659.614 119.117 665.031 Q119.117 670.609 115.645 673.711 Q112.172 676.79 105.853 676.79 Q103.677 676.79 101.409 676.419 Q99.1632 676.049 96.7558 675.308 L96.7558 670.609 Q98.8391 671.744 101.061 672.299 Q103.284 672.855 105.76 672.855 Q109.765 672.855 112.103 670.748 Q114.441 668.642 114.441 665.031 Q114.441 661.42 112.103 659.313 Q109.765 657.207 105.76 657.207 Q103.885 657.207 102.01 657.623 Q100.159 658.04 98.2141 658.92 L98.2141 641.558 Z\" fill=\"#000000\" fill-rule=\"nonzero\" fill-opacity=\"1\" /><path clip-path=\"url(#clip480)\" d=\"M138.33 644.637 Q134.719 644.637 132.89 648.202 Q131.084 651.744 131.084 658.873 Q131.084 665.98 132.89 669.544 Q134.719 673.086 138.33 673.086 Q141.964 673.086 143.769 669.544 Q145.598 665.98 145.598 658.873 Q145.598 651.744 143.769 648.202 Q141.964 644.637 138.33 644.637 M138.33 640.933 Q144.14 640.933 147.195 645.54 Q150.274 650.123 150.274 658.873 Q150.274 667.6 147.195 672.206 Q144.14 676.79 138.33 676.79 Q132.519 676.79 129.441 672.206 Q126.385 667.6 126.385 658.873 Q126.385 650.123 129.441 645.54 Q132.519 640.933 138.33 640.933 Z\" fill=\"#000000\" fill-rule=\"nonzero\" fill-opacity=\"1\" /><path clip-path=\"url(#clip480)\" d=\"M63.9319 359.206 Q60.3208 359.206 58.4921 362.771 Q56.6865 366.313 56.6865 373.442 Q56.6865 380.549 58.4921 384.113 Q60.3208 387.655 63.9319 387.655 Q67.5661 387.655 69.3717 384.113 Q71.2004 380.549 71.2004 373.442 Q71.2004 366.313 69.3717 362.771 Q67.5661 359.206 63.9319 359.206 M63.9319 355.502 Q69.742 355.502 72.7976 360.109 Q75.8763 364.692 75.8763 373.442 Q75.8763 382.169 72.7976 386.775 Q69.742 391.359 63.9319 391.359 Q58.1217 391.359 55.043 386.775 Q51.9875 382.169 51.9875 373.442 Q51.9875 364.692 55.043 360.109 Q58.1217 355.502 63.9319 355.502 Z\" fill=\"#000000\" fill-rule=\"nonzero\" fill-opacity=\"1\" /><path clip-path=\"url(#clip480)\" d=\"M84.0938 384.808 L88.978 384.808 L88.978 390.687 L84.0938 390.687 L84.0938 384.808 Z\" fill=\"#000000\" fill-rule=\"nonzero\" fill-opacity=\"1\" /><path clip-path=\"url(#clip480)\" d=\"M97.9826 356.127 L120.205 356.127 L120.205 358.118 L107.658 390.687 L102.774 390.687 L114.58 360.063 L97.9826 360.063 L97.9826 356.127 Z\" fill=\"#000000\" fill-rule=\"nonzero\" fill-opacity=\"1\" /><path clip-path=\"url(#clip480)\" d=\"M129.371 356.127 L147.728 356.127 L147.728 360.063 L133.654 360.063 L133.654 368.535 Q134.672 368.188 135.691 368.025 Q136.709 367.84 137.728 367.84 Q143.515 367.84 146.894 371.012 Q150.274 374.183 150.274 379.599 Q150.274 385.178 146.802 388.28 Q143.33 391.359 137.01 391.359 Q134.834 391.359 132.566 390.988 Q130.32 390.618 127.913 389.877 L127.913 385.178 Q129.996 386.312 132.219 386.868 Q134.441 387.424 136.918 387.424 Q140.922 387.424 143.26 385.317 Q145.598 383.211 145.598 379.599 Q145.598 375.988 143.26 373.882 Q140.922 371.775 136.918 371.775 Q135.043 371.775 133.168 372.192 Q131.316 372.609 129.371 373.488 L129.371 356.127 Z\" fill=\"#000000\" fill-rule=\"nonzero\" fill-opacity=\"1\" /><path clip-path=\"url(#clip480)\" d=\"M53.7467 101.321 L61.3856 101.321 L61.3856 74.9555 L53.0754 76.6222 L53.0754 72.3629 L61.3393 70.6963 L66.0152 70.6963 L66.0152 101.321 L73.654 101.321 L73.654 105.256 L53.7467 105.256 L53.7467 101.321 Z\" fill=\"#000000\" fill-rule=\"nonzero\" fill-opacity=\"1\" /><path clip-path=\"url(#clip480)\" d=\"M83.0984 99.3767 L87.9827 99.3767 L87.9827 105.256 L83.0984 105.256 L83.0984 99.3767 Z\" fill=\"#000000\" fill-rule=\"nonzero\" fill-opacity=\"1\" /><path clip-path=\"url(#clip480)\" d=\"M108.168 73.775 Q104.557 73.775 102.728 77.3398 Q100.922 80.8814 100.922 88.011 Q100.922 95.1174 102.728 98.6822 Q104.557 102.224 108.168 102.224 Q111.802 102.224 113.608 98.6822 Q115.436 95.1174 115.436 88.011 Q115.436 80.8814 113.608 77.3398 Q111.802 73.775 108.168 73.775 M108.168 70.0713 Q113.978 70.0713 117.033 74.6777 Q120.112 79.261 120.112 88.011 Q120.112 96.7378 117.033 101.344 Q113.978 105.928 108.168 105.928 Q102.358 105.928 99.2789 101.344 Q96.2234 96.7378 96.2234 88.011 Q96.2234 79.261 99.2789 74.6777 Q102.358 70.0713 108.168 70.0713 Z\" fill=\"#000000\" fill-rule=\"nonzero\" fill-opacity=\"1\" /><path clip-path=\"url(#clip480)\" d=\"M138.33 73.775 Q134.719 73.775 132.89 77.3398 Q131.084 80.8814 131.084 88.011 Q131.084 95.1174 132.89 98.6822 Q134.719 102.224 138.33 102.224 Q141.964 102.224 143.769 98.6822 Q145.598 95.1174 145.598 88.011 Q145.598 80.8814 143.769 77.3398 Q141.964 73.775 138.33 73.775 M138.33 70.0713 Q144.14 70.0713 147.195 74.6777 Q150.274 79.261 150.274 88.011 Q150.274 96.7378 147.195 101.344 Q144.14 105.928 138.33 105.928 Q132.519 105.928 129.441 101.344 Q126.385 96.7378 126.385 88.011 Q126.385 79.261 129.441 74.6777 Q132.519 70.0713 138.33 70.0713 Z\" fill=\"#000000\" fill-rule=\"nonzero\" fill-opacity=\"1\" /><polyline clip-path=\"url(#clip482)\" style=\"stroke:#009af9; stroke-linecap:round; stroke-linejoin:round; stroke-width:4; stroke-opacity:1; fill:none\" points=\"186.274,87.9763 189.8,87.9843 193.326,88.0085 196.853,88.0489 200.379,88.1053 232.984,89.391 265.589,92.0526 298.195,96.0843 330.8,101.477 369.989,109.744 409.177,119.934 442.311,130.027 475.445,141.45 511.437,155.335 547.429,170.722 580.611,186.205 613.793,202.895 649.367,222.089 684.942,242.579 726.158,267.872 767.375,294.749 840.631,346.144 904.871,394.659 974.909,450.74 1045.36,509.975 1123.26,578.074 1197.38,644.709 1274.44,715.138 1339.31,774.763 1418.51,847.269 1491.06,912.753 1558.07,971.897 1625.95,1030.02 1702.02,1092.47 1770.95,1146.15 1810.42,1175.47 1849.88,1203.68 1886.42,1228.75 1922.95,1252.78 1958.98,1275.39 1995,1296.91 2029.97,1316.72 2064.95,1335.43 2100.8,1353.46 2136.65,1370.29 2175.94,1387.34 2215.22,1402.91 2272.28,1422.89 2329.34,1439.72 2341.05,1442.78 2352.76,1445.72 \"/>\n",
       "<polyline clip-path=\"url(#clip482)\" style=\"stroke:#e26f46; stroke-linecap:round; stroke-linejoin:round; stroke-width:4; stroke-opacity:1; fill:none\" points=\"1269.51,2925.65 1269.51,-1391.96 \"/>\n",
       "<polyline clip-path=\"url(#clip482)\" style=\"stroke:#e26f46; stroke-linecap:round; stroke-linejoin:round; stroke-width:4; stroke-opacity:1; fill:none\" points=\"1811.14,2925.65 1811.14,-1391.96 \"/>\n",
       "<path clip-path=\"url(#clip480)\" d=\"M258.49 1438.47 L527.569 1438.47 L527.569 1282.95 L258.49 1282.95  Z\" fill=\"#ffffff\" fill-rule=\"evenodd\" fill-opacity=\"1\"/>\n",
       "<polyline clip-path=\"url(#clip480)\" style=\"stroke:#000000; stroke-linecap:round; stroke-linejoin:round; stroke-width:4; stroke-opacity:1; fill:none\" points=\"258.49,1438.47 527.569,1438.47 527.569,1282.95 258.49,1282.95 258.49,1438.47 \"/>\n",
       "<polyline clip-path=\"url(#clip480)\" style=\"stroke:#009af9; stroke-linecap:round; stroke-linejoin:round; stroke-width:4; stroke-opacity:1; fill:none\" points=\"282.562,1334.79 426.994,1334.79 \"/>\n",
       "<path clip-path=\"url(#clip480)\" d=\"M464.909 1354.48 Q463.103 1359.11 461.39 1360.52 Q459.677 1361.94 456.807 1361.94 L453.404 1361.94 L453.404 1358.37 L455.904 1358.37 Q457.663 1358.37 458.636 1357.54 Q459.608 1356.7 460.788 1353.6 L461.552 1351.66 L451.066 1326.15 L455.58 1326.15 L463.682 1346.43 L471.784 1326.15 L476.298 1326.15 L464.909 1354.48 Z\" fill=\"#000000\" fill-rule=\"nonzero\" fill-opacity=\"1\" /><path clip-path=\"url(#clip480)\" d=\"M483.589 1348.14 L491.228 1348.14 L491.228 1321.77 L482.918 1323.44 L482.918 1319.18 L491.182 1317.51 L495.858 1317.51 L495.858 1348.14 L503.497 1348.14 L503.497 1352.07 L483.589 1352.07 L483.589 1348.14 Z\" fill=\"#000000\" fill-rule=\"nonzero\" fill-opacity=\"1\" /><polyline clip-path=\"url(#clip480)\" style=\"stroke:#e26f46; stroke-linecap:round; stroke-linejoin:round; stroke-width:4; stroke-opacity:1; fill:none\" points=\"282.562,1386.63 426.994,1386.63 \"/>\n",
       "<path clip-path=\"url(#clip480)\" d=\"M464.909 1406.32 Q463.103 1410.95 461.39 1412.36 Q459.677 1413.78 456.807 1413.78 L453.404 1413.78 L453.404 1410.21 L455.904 1410.21 Q457.663 1410.21 458.636 1409.38 Q459.608 1408.54 460.788 1405.44 L461.552 1403.5 L451.066 1377.99 L455.58 1377.99 L463.682 1398.27 L471.784 1377.99 L476.298 1377.99 L464.909 1406.32 Z\" fill=\"#000000\" fill-rule=\"nonzero\" fill-opacity=\"1\" /><path clip-path=\"url(#clip480)\" d=\"M486.807 1399.98 L503.126 1399.98 L503.126 1403.91 L481.182 1403.91 L481.182 1399.98 Q483.844 1397.22 488.427 1392.6 Q493.034 1387.94 494.214 1386.6 Q496.46 1384.08 497.339 1382.34 Q498.242 1380.58 498.242 1378.89 Q498.242 1376.14 496.297 1374.4 Q494.376 1372.66 491.274 1372.66 Q489.075 1372.66 486.622 1373.43 Q484.191 1374.19 481.413 1375.74 L481.413 1371.02 Q484.237 1369.89 486.691 1369.31 Q489.145 1368.73 491.182 1368.73 Q496.552 1368.73 499.747 1371.41 Q502.941 1374.1 502.941 1378.59 Q502.941 1380.72 502.131 1382.64 Q501.344 1384.54 499.237 1387.13 Q498.659 1387.8 495.557 1391.02 Q492.455 1394.22 486.807 1399.98 Z\" fill=\"#000000\" fill-rule=\"nonzero\" fill-opacity=\"1\" /></svg>\n"
      ]
     },
     "execution_count": 7,
     "metadata": {},
     "output_type": "execute_result"
    }
   ],
   "source": [
    "plot(f, xlims = (0+eps(), 4))\n",
    "vline!([2,3])"
   ]
  },
  {
   "cell_type": "markdown",
   "id": "e5198323",
   "metadata": {
    "slideshow": {
     "slide_type": "slide"
    }
   },
   "source": [
    "Д.З.\n",
    "\n",
    "\n",
    "1) $\\int \\frac{1}{5x + 2} dx$\n",
    "\n",
    "\n",
    "2) $\\int \\frac{1}{sin^2x \\ cos^2x} dx$\n",
    "\n",
    "\n",
    "3) $\\int x(x+2)^{20} dx$, замена $t = x+2$\n",
    "\n",
    "\n",
    "4) $\\int x^3 e^x dx$\n",
    "\n",
    "\n",
    "\n",
    "PS\n",
    "\n",
    "$1 = sin^2x + cos^2x$"
   ]
  },
  {
   "cell_type": "markdown",
   "id": "47507399",
   "metadata": {
    "slideshow": {
     "slide_type": "slide"
    }
   },
   "source": [
    "**Литература:**\n",
    "\n",
    "* Гулиян Б.Ш., Хамидуллин Р.Я., Математика. Базовый курс. Москва : Синергия, 2013. - 712 с. - ISBN 978-5-4257-0109-1.\n",
    "* Смолянский М.Л. Таблицы неопределенных интегралов. ГИФМЛ 1963\n",
    "* Никольский С. М.,  Курс математического анализа. — 1990.\n",
    "* Ильин В. А., Позняк, Э. Г., Основы математического анализа. — 1998. \n",
    "* Демидович Б.П., Сборник задач и упражнений по математическому анализу. — 1990. \n"
   ]
  },
  {
   "cell_type": "markdown",
   "id": "6516556f",
   "metadata": {
    "slideshow": {
     "slide_type": "slide"
    }
   },
   "source": [
    "Следующее занятие разбираем:\n",
    "\n",
    "https://jpet.aspetjournals.org/content/early/2021/03/12/jpet.121.000584\n",
    "\n",
    "https://jpet.aspetjournals.org/content/jpet/early/2021/03/12/jpet.121.000584.full.pdf\n",
    "\n"
   ]
  }
 ],
 "metadata": {
  "celltoolbar": "Слайд-шоу",
  "kernelspec": {
   "display_name": "Julia 1.8.2",
   "language": "julia",
   "name": "julia-1.8"
  },
  "language_info": {
   "file_extension": ".jl",
   "mimetype": "application/julia",
   "name": "julia",
   "version": "1.8.2"
  }
 },
 "nbformat": 4,
 "nbformat_minor": 5
}
