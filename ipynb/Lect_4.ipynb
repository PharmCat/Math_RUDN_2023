{
 "cells": [
  {
   "cell_type": "markdown",
   "id": "b653e148",
   "metadata": {
    "slideshow": {
     "slide_type": "slide"
    }
   },
   "source": [
    "# Математические методы анализа в биологии и медицине\n",
    "\n",
    "**Программа курса:**\n",
    "\n",
    "* Введение: Применение математических расчетов в биологии, медицине, фармакологии\n",
    "\n",
    "* Линейная алгебра\n",
    "\n",
    "* Функция одной переменной и ее свойства\n",
    "\n",
    "* **Производная и дифференциалы.**\n",
    "\n",
    "* Функции нескольких переменных\n",
    "\n",
    "* Первообразная, неопределенный интеграл. Определенный интеграл\n",
    "\n",
    "* Дифференциальные уравнения.\n",
    "\n",
    "* Дифференциальные уравнения 2-го и высших порядков.\n",
    "\n",
    "* Моделирования физико-химических процессов. Системы дифференциальных уравнений. Численные методы.\n",
    "___"
   ]
  },
  {
   "cell_type": "markdown",
   "id": "c75bc33e",
   "metadata": {
    "slideshow": {
     "slide_type": "slide"
    }
   },
   "source": [
    "## Производная и дифференциалы\n",
    "___\n"
   ]
  },
  {
   "cell_type": "markdown",
   "id": "fddd9219",
   "metadata": {
    "slideshow": {
     "slide_type": "slide"
    }
   },
   "source": [
    "## Введение\n",
    "\n",
    "С понятием предела непосредственно связано понятие производной.\n",
    "Различные задачи из различных областей знания приводят к одной и той же\n",
    "математической модели – пределу отношения приращения функции к\n",
    "приращению аргумента при условии, что приращение аргумента стремиться\n",
    "к нулю. Впервые название этой модели и ее обозначение ввел немецкий\n",
    "ученый Готфрид Вильгельм Лейбниц в 1675 году – основоположник\n",
    "дифференциального и интегрального исчисления. Лейбниц был философом\n",
    "и лингвистом, историком и биологом, дипломатом и политическим деятелем,\n",
    "математиком и изобретателем."
   ]
  },
  {
   "cell_type": "markdown",
   "id": "834659c9",
   "metadata": {},
   "source": [
    "## Определение\n",
    "\n",
    "Пусть в некоторой окрестности точки  $x_{0}\\in \\mathbb {R}$ определена функция $f\\colon U(x_{0})\\subset \\mathbb {R} \\to \\mathbb {R}$. Производной функции $f$ в точке $x_{0}$ называется предел (если он существует):\n",
    "\n",
    "\n",
    " $f'(x_{0})=\\lim \\limits _{x\\to x_{0}}{\\frac {f(x)-f(x_{0})}{x-x_{0}}}=\\lim _{\\Delta x\\to 0}{\\frac {f(x_{0}+\\Delta x)-f(x_{0})}{\\Delta x}}=\\lim \\limits _{{\\Delta x}\\to 0}{\\frac {\\Delta {f(x)}}{\\Delta x}}$"
   ]
  },
  {
   "cell_type": "markdown",
   "id": "043e4eb8",
   "metadata": {
    "slideshow": {
     "slide_type": "slide"
    }
   },
   "source": [
    "## Задачи, приводящие к понятию производной\n",
    "\n",
    "\n",
    "**Основные классы задач:**\n",
    "\n",
    "* Поиск оптимальных условий\n",
    "    - Статистика\n",
    "    - Экономика\n",
    "    - Производство\n",
    "    \n",
    "* Изучение динамики процесса\n",
    "    - Моделирование\n",
    "    - Проктирование и разработка"
   ]
  },
  {
   "cell_type": "markdown",
   "id": "5248905e",
   "metadata": {
    "slideshow": {
     "slide_type": "slide"
    }
   },
   "source": [
    "* Химия/биохимия \n",
    "\n",
    "\n",
    "    * Построения математических моделей химических реакций и последующего описания их свойств\n",
    "\n",
    "    * Изучение кинетики ферментативных реакций\n",
    "\n",
    "\n",
    "* Биология/биотехнология\n",
    "\n",
    "\n",
    "    * Изучение динамики роста популяции (бактерии)\n",
    "    \n",
    "    * Изучение динамики популяции животных \n",
    "    \n",
    "    \n",
    "* Фармацевтика\n",
    "\n",
    "\n",
    "    * Кинетика растворения\n",
    "    \n",
    "    * Моделирование производственных процессов\n",
    "    "
   ]
  },
  {
   "cell_type": "markdown",
   "id": "41a751d0",
   "metadata": {
    "slideshow": {
     "slide_type": "slide"
    }
   },
   "source": [
    "* Медицина/фармакология\n",
    "\n",
    "\n",
    "    * Фармакокинетика и ФК моделирования\n",
    "    \n",
    "    * IVIVC моделирование\n",
    "    \n",
    "    * Фармакодинамика и ФК/ФД моделирование\n",
    "    \n",
    "    * Модели роста опухолей\n",
    "    \n",
    "    \n",
    "* Теория катастроф"
   ]
  },
  {
   "cell_type": "markdown",
   "id": "03cd20bf",
   "metadata": {
    "slideshow": {
     "slide_type": "slide"
    }
   },
   "source": [
    "**Основные правила дифференцирования:**\n",
    "\n",
    "1) $(v + u)' = v' + u'$\n",
    "\n",
    "\n",
    "2) $(v · u)' = u' · v + u · v'$ \n",
    "\n",
    "\n",
    "3) $(\\frac{u}{v})' = (\\frac{u' · v - u · v'}{v^2})$\n",
    "\n",
    "\n",
    "4) $(u(v))' = u'(v)· v' $\n",
    "\n"
   ]
  },
  {
   "cell_type": "markdown",
   "id": "3f1d6e11",
   "metadata": {
    "slideshow": {
     "slide_type": "slide"
    }
   },
   "source": [
    "**Элементарные функции:**\n",
    "\n",
    "*Примечание:* $u$ - произвольная функция.\n",
    "\n",
    "5) $ (x^a)' = a·x^{a-1} $\n",
    "\n",
    "\n",
    "6) $ (u^k)' = k·u^{k-1}·u'$\n",
    "\n",
    "\n",
    "7) $ (e^x)' = e^x $\n",
    "\n",
    "\n",
    "8) $ (e^u)' = e^u·u'$\n",
    "\n",
    "\n",
    "9) $ (a^u)' = a^u·ln(a)·u' $\n",
    "\n",
    "\n",
    "10) $ (ln(x))' = \\frac{1}{x} $\n",
    "\n",
    "\n",
    "11) $ (ln(u))' = \\frac{u'}{u} $\n",
    "\n",
    "\n",
    "12) $ (\\sqrt{u})' = \\frac{u'}{2\\sqrt{u}} $"
   ]
  },
  {
   "cell_type": "markdown",
   "id": "81bbd487",
   "metadata": {
    "slideshow": {
     "slide_type": "slide"
    }
   },
   "source": [
    "**Тригонометрические функции:**\n",
    "\n",
    "13) $ (sin(u))' = cos(u)·u'$\n",
    "\n",
    "\n",
    "14) $ (cos(u))' = -sin(u)·u'$\n",
    "\n",
    "\n",
    "15) $ (tg(u))' = \\frac{u'}{cos^2(u)} $\n",
    "\n",
    "\n",
    "16) $ (ctg(u))' = - \\frac{u'}{sin^2(u)} $\n",
    "\n",
    "\n",
    "17) $ (arcsin(u))' = \\frac{u'}{\\sqrt{1 - u^2}} $\n",
    "\n",
    "\n",
    "18) $ (arccos(u))' = - \\frac{u'}{\\sqrt{1 - u^2}} $\n",
    "\n",
    "\n",
    "19) $ (arctg(u))' = \\frac{u'}{1 + u^2} $\n",
    "\n",
    "\n",
    "20) $ (arcctg(u))' = - \\frac{u'}{1 + u^2} $"
   ]
  },
  {
   "cell_type": "markdown",
   "id": "a59d84f2",
   "metadata": {
    "slideshow": {
     "slide_type": "slide"
    }
   },
   "source": [
    "**Дифференцирование обратной функции:**\n",
    "\n",
    "Для дифференцируемой функции $f(x)$ с производной $f'(x)$, отличной от нуля, производная $g'(y)$ обратной функции $g(y)$ равна обратной величине производной данной функции в точке $f(y)$. \n",
    "\n",
    "\n",
    "\n",
    "Пусть $y = f(x), x = g(y) => g = f^{-1}$, тогда $g_{y}'(y) = \\frac{1}{f_{x}'(x)} = \\frac{1}{f_{x}'(g(y))}$\n",
    "\n",
    "Пример:\n",
    "\n",
    "**1.**\n",
    "\n",
    "$y = f(x) = sin(x); x = g(y)$\n",
    "\n",
    "$cos(x) = \\sqrt{1 - sin^2(x)}$\n",
    "\n",
    "$g' = \\frac{1}{f'} = \\frac{1}{(sin(x))'} = \\frac{1}{cos(x)} = \\frac{1}{\\sqrt{1-sin^2(x)}} = \\frac{1}{\\sqrt{1-sin^2(g(y))}} = \\frac{1}{\\sqrt{1-y^2}} $\n",
    "\n",
    "**2.**\n",
    "\n",
    "\n",
    "$f(x) = e^x; x = g(y)$\n",
    "\n",
    "\n",
    "$g' = \\frac{1}{f'} = \\frac{1}{(e^x)'} = \\frac{1}{e^x} = \\frac{1}{e^{g(y)}} = \\frac{1}{y}$"
   ]
  },
  {
   "cell_type": "code",
   "execution_count": 10,
   "id": "efa2d1b0",
   "metadata": {
    "slideshow": {
     "slide_type": "slide"
    }
   },
   "outputs": [
    {
     "name": "stdout",
     "output_type": "stream",
     "text": [
      "ForwardDiff ∂f(3.0) = 27.333333333333332\n",
      "Аналитическое решение _∂f(3.0) = 27.333333333333332\n"
     ]
    }
   ],
   "source": [
    "using ForwardDiff, Plots\n",
    "import ForwardDiff: derivative\n",
    "\n",
    "# Функция\n",
    "f(x) = x^3 + log(x) \n",
    "\n",
    "# Производная с помощью ForwardDiff\n",
    "∂f(x) = derivative(f, x)\n",
    "\n",
    "# Аналитическое решение\n",
    "_∂f(x) = 3x^2 + 1/x\n",
    "\n",
    "\n",
    "println(\"ForwardDiff ∂f(3.0) = \", ∂f(3.0))\n",
    "\n",
    "println(\"Аналитическое решение _∂f(3.0) = \", _∂f(3.0))"
   ]
  },
  {
   "attachments": {
    "image.png": {
     "image/png": "[encoded data removed]"
    }
   },
   "cell_type": "markdown",
   "id": "22009f64",
   "metadata": {
    "slideshow": {
     "slide_type": "slide"
    }
   },
   "source": [
    "**Касательная к графику функции**\n",
    "\n",
    "Касательная к графику функции находится с помощью следующего выражения:\n",
    "\n",
    "$y = f(a) + f'(a)(x - a)$\n",
    "\n",
    "![image.png](attachment:image.png)"
   ]
  },
  {
   "cell_type": "code",
   "execution_count": 11,
   "id": "0844f411",
   "metadata": {
    "scrolled": false,
    "slideshow": {
     "slide_type": "slide"
    }
   },
   "outputs": [],
   "source": [
    "using Interact, Plots\n",
    "using Blink: Window, body!\n",
    "\n",
    "f(x) = x^3 + 2x^2 + x + 3\n",
    "\n",
    "∂f(x) = derivative(f, x)\n",
    "\n",
    "plt = @manipulate for a in -5:0.01:5\n",
    "    plot(f)\n",
    "    lf(x) = f(a) + ∂f(a)*(x-a)\n",
    "    plot!(lf, xlims= (-6, 6), ylims = (-100, 200))\n",
    "end\n",
    "    \n",
    "w = Window()\n",
    "body!(w, plt)\n",
    "nothing\n",
    "    "
   ]
  },
  {
   "cell_type": "markdown",
   "id": "cc39cad1",
   "metadata": {
    "slideshow": {
     "slide_type": "slide"
    }
   },
   "source": [
    "**Дифференциал фукнкции**\n",
    "\n",
    "Пусть функция $y = f(x)$ дифференцируема в точке $x$, \n",
    "то есть приращение этой функции можно представить в виде суммы двух слагаемых: \n",
    "линейного относительно $Δx$ и нелинейного членов:\n",
    "\n",
    "\n",
    "$Δy = f'(x)·Δx + α(Δx)·Δx$ \n",
    "\n",
    "\n",
    "где $α(Δx) \\to 0$ при $Δx \\to 0$.\n",
    "\n",
    "**Определение**\n",
    "\n",
    "Дифференциалом функции называется линейная относительно $Δx$ \n",
    "часть приращения функции. Она обозначается как $dy$ или $df(x)$. \n",
    "\n",
    "Таким образом:  $dy = f'(x)·Δx$ \n",
    "\n"
   ]
  },
  {
   "cell_type": "markdown",
   "id": "9cb9a423",
   "metadata": {
    "slideshow": {
     "slide_type": "slide"
    }
   },
   "source": [
    "**Вторая производная и производная высших порядков**\n",
    "\n",
    "Вторая производная есть \"производная производной\" и обозначается:\n",
    "\n",
    "$f''(x) = (f'(x))'$\n",
    "\n",
    "Или так:\n",
    "\n",
    "${\\frac {∂ ^{2}f}{∂ x^{2}}}$\n",
    "\n",
    "Пример:\n",
    "\n",
    "$f(x) = x^4 + x^2 - x + 10$\n",
    "\n",
    "$f'(x) = 4x^3 + 2x - 1$\n",
    "\n",
    "$f''(x)= 12x^2 + 2$\n",
    "\n",
    "Тоже самое справедливо для производных высших порядков:\n",
    "\n",
    "\n",
    "$f'''(x)= 24x$\n",
    "\n",
    "\n",
    "$f''''(x)= 24$\n"
   ]
  },
  {
   "cell_type": "markdown",
   "id": "87bdabb6",
   "metadata": {
    "slideshow": {
     "slide_type": "slide"
    }
   },
   "source": [
    "**Возрастание и убывание функций, максимумы и минимумы, наибольшие и наименьшие значения функций**\n",
    "\n",
    "Промежутки монотонности, или интервалы возрастания/убывания находятся с помощью производных, которые отражают скорость изменения функции в точке. Функция возрастает, то есть каждое следующее её значение больше предыдущего, убывает  – каждое следующее значение меньше предыдущего. \n",
    "\n",
    "\n",
    "Нам дана дифференцируемая функция на некотором интервале $y = f(x)$. Тогда: \n",
    "\n",
    "- если производная $f'(x) > 0 $ на интервале, то функция $f(x)$ возрастает на данном интервале;\n",
    "\n",
    "- если производная $f'(x) < 0 $ на интервале, то функция $f(x)$ убывает на данном интервале.\n",
    "\n"
   ]
  },
  {
   "cell_type": "markdown",
   "id": "8812dcfb",
   "metadata": {
    "slideshow": {
     "slide_type": "slide"
    }
   },
   "source": [
    "Если производная в точке будет равна нулю (или не существует), то точка будет называться **критической**.\n",
    "\n",
    "Так, например, дана кубическая функция $f(x) = x^3$, чья производная показывает нам возрастание функции: $f'(x)=(x^3)'=3x^2 > 0$.  \n",
    "\n",
    "Бесконечно близко около точки $x=0$ скорость изменения функции равна нулю, что подтверждает производная в точке $f(0) = 3 \\cdot 0^2 = 0$\n",
    "\n",
    "Гипербола $f(x) = \\frac{1}{x}, f'(x)=-\\frac{1}{x^2}< 0$ для любого ненулевого (в нуле функция не определена) аргумента, будет убывать на всей области определения. \n",
    "\n",
    "Экспоненциальная функция $f(x) = e^x$ будет возрастать (для любого значения икс справедливо $f'(x)=e^x>0$. Натуральный логарифм тоже: $f(x)=\\ln x, f'(x)=\\frac{1}{x}$"
   ]
  },
  {
   "cell_type": "markdown",
   "id": "e06552a1",
   "metadata": {
    "slideshow": {
     "slide_type": "slide"
    }
   },
   "source": [
    "Существование точек максимума и минимума функции, или точки экстремума функции, определяется **необходимым условием экстремума**: \n",
    "\n",
    "- Если в точке $x_0$ есть экстремум, то $f'(x_0)=0$ либо значения $f'(x_0)$ не существует.\n",
    "\n",
    "Условие необходимое, но не достаточное, и обратное утверждение работает не всегда, так что **первым достаточным условием экстремума является**: \n",
    "\n",
    "* функция $f(x)$ непрерывна в окрестности точки $x_0$;\n",
    "\n",
    "* $f'(x_0) = 0$ или $f'(x_0)$ не существует;\n",
    "\n",
    "* производная при переходе через точку меняет свой знак."
   ]
  },
  {
   "cell_type": "markdown",
   "id": "727a457a",
   "metadata": {
    "slideshow": {
     "slide_type": "slide"
    }
   },
   "source": [
    "*Пусть функция дифференцируема в некоторой окрестности критической точки $x_0$. Тогда:\n",
    "– если при переходе через точку $x_0$ производная меняет знак с «плюса» на «минус», то в данной точке функция достигает максимума;\n",
    "– если при переходе через точку $x_0$ производная меняет знак с «минуса» на «плюс», то в данной точке функция достигает минимума.*"
   ]
  },
  {
   "cell_type": "markdown",
   "id": "c348ee29",
   "metadata": {
    "slideshow": {
     "slide_type": "slide"
    }
   },
   "source": [
    "**Второе достаточное условие экстремума**\n",
    "\n",
    "* функция $f(x)$ непрерывна в окрестности точки $x_0$;\n",
    "\n",
    "* первая производная $f'(x_0) = 0$ в точке $x_0$;\n",
    "\n",
    "* вторая производная $f''(x_0) ≠ 0$ в точке $x_0$;\n",
    "\n",
    "    \n",
    "В этом случае в точке $x_0$ достигается экстремум, причем, если $f''(x_0) > 0$, то в точке функция имеет минимум; если $f''(x_0) < 0$, то в точке функция достигает максимум."
   ]
  },
  {
   "cell_type": "markdown",
   "id": "71bf8052",
   "metadata": {
    "slideshow": {
     "slide_type": "slide"
    }
   },
   "source": [
    "**Следствия**\n",
    "\n",
    "Исходя из вышесказанного, вытекает логичное решение: на числовой прямой нужно отложить точки разрыва функции, критические точки и определить знаки производной на интервалах, которые входят в область определения функции.\n",
    "\n",
    "Пример. $f(x)= -\\frac{1}{3} x^3 + 3x^2 - 5x - 1$ Найти точки экстремума и промежутки монотонности.\n",
    "\n",
    "Сперва находим производную:\n",
    "\n",
    "$f'(x) = -x^2+6x-5$  \n"
   ]
  },
  {
   "cell_type": "markdown",
   "id": "c008a160",
   "metadata": {
    "slideshow": {
     "slide_type": "slide"
    }
   },
   "source": [
    "Чтобы узнать, где производная равна нулю, а соответсвенно и скорость ее изменения равна нулю, приравниваем к нулю всю производную и находим претендентов на экстремум: \n",
    "\n",
    "$x=1, x=5$\n",
    "\n",
    "1. Берём какую-нибудь точку из интервала $(-\\infty, 1)$ и находим значение производной в данной точке. Удобнее всего выбрать $x=0$:\n",
    "\n",
    "$f'(x)=-0^2+6\\cdot0-5=-5<0$, значит, производная отрицательна на всём выбранном интервале и убывает.\n",
    "\n",
    "2. Выбираем точку $x=2$, принадлежащую интервалу $(1,5)$, и проводим аналогичное действие:\n",
    "\n",
    "$f'(2) = -2^2+6\\cdot 2 - 5 = -4 +12 - 5 = 3>0$, следовательно, $f'(x)>0$ на всём интервале и возрастает.\n",
    "\n",
    "3. Вычислим значение производной в наиболее удобной точке $x=6$ последнего интервала $(5, +\\infty)$:\n",
    "\n",
    "$f'(6)=-6^2+6\\cdot 6 - 5 = -36+36-5 = -5<0$, поэтому  в любой точке интервала $f'(x)<0$. Производная отрицательна, функция убывает. "
   ]
  },
  {
   "cell_type": "markdown",
   "id": "32e92cad",
   "metadata": {
    "slideshow": {
     "slide_type": "slide"
    }
   },
   "source": [
    "Используя Метод интервалов:\n",
    "\n",
    "При переходе через точку $x=1$ производная меняет знак с «–» на «+», следовательно, в этой точке функция достигает минимума: \n",
    "$f(1)= -\\frac{1}{3} \\cdot 1^3 + 3\\cdot 1^2 - 5 \\cdot 1 - 1 = -3 \\frac{1}{3}$\n",
    "\n",
    "При переходе же через точку $x=5$ производная меняет знак с «+» на «–», и функция достигает максимума в данной точке:\n",
    "\n",
    "$f(5)= -\\frac{1}{3} \\cdot 5^3 + 3\\cdot 5^2 - 5 \\cdot 5 - 1 = 7$ $\\frac{1}{3}$\n",
    "\n",
    "Ответ: функции возрастает на интервале $(1,5)$ и убывает на интервалах $(-\\infty, 1)(5, +\\infty)$. В точке $x=1$ функция достигает минимума: $f(1)=-3\\frac{1}{3}$, а в точке $x=5$ – максимума: $f(5) =7$ $\\frac{1}{3}$"
   ]
  },
  {
   "cell_type": "code",
   "execution_count": 3,
   "id": "924d6870",
   "metadata": {
    "slideshow": {
     "slide_type": "slide"
    }
   },
   "outputs": [
    {
     "data": {
      "image/svg+xml": [
       "<?xml version=\"1.0\" encoding=\"utf-8\"?>\n",
       "<svg xmlns=\"http://www.w3.org/2000/svg\" xmlns:xlink=\"http://www.w3.org/1999/xlink\" width=\"600\" height=\"400\" viewBox=\"0 0 2400 1600\">\n",
       "<defs>\n",
       "  <clipPath id=\"clip600\">\n",
       "    <rect x=\"0\" y=\"0\" width=\"2400\" height=\"1600\"/>\n",
       "  </clipPath>\n",
       "</defs>\n",
       "<path clip-path=\"url(#clip600)\" d=\"M0 1600 L2400 1600 L2400 0 L0 0  Z\" fill=\"#ffffff\" fill-rule=\"evenodd\" fill-opacity=\"1\"/>\n",
       "<defs>\n",
       "  <clipPath id=\"clip601\">\n",
       "    <rect x=\"480\" y=\"0\" width=\"1681\" height=\"1600\"/>\n",
       "  </clipPath>\n",
       "</defs>\n",
       "<path clip-path=\"url(#clip600)\" d=\"M178.867 1486.45 L2352.76 1486.45 L2352.76 47.2441 L178.867 47.2441  Z\" fill=\"#ffffff\" fill-rule=\"evenodd\" fill-opacity=\"1\"/>\n",
       "<defs>\n",
       "  <clipPath id=\"clip602\">\n",
       "    <rect x=\"178\" y=\"47\" width=\"2175\" height=\"1440\"/>\n",
       "  </clipPath>\n",
       "</defs>\n",
       "<polyline clip-path=\"url(#clip602)\" style=\"stroke:#000000; stroke-linecap:round; stroke-linejoin:round; stroke-width:2; stroke-opacity:0.1; fill:none\" points=\"178.867,1486.45 178.867,47.2441 \"/>\n",
       "<polyline clip-path=\"url(#clip602)\" style=\"stroke:#000000; stroke-linecap:round; stroke-linejoin:round; stroke-width:2; stroke-opacity:0.1; fill:none\" points=\"613.644,1486.45 613.644,47.2441 \"/>\n",
       "<polyline clip-path=\"url(#clip602)\" style=\"stroke:#000000; stroke-linecap:round; stroke-linejoin:round; stroke-width:2; stroke-opacity:0.1; fill:none\" points=\"1048.42,1486.45 1048.42,47.2441 \"/>\n",
       "<polyline clip-path=\"url(#clip602)\" style=\"stroke:#000000; stroke-linecap:round; stroke-linejoin:round; stroke-width:2; stroke-opacity:0.1; fill:none\" points=\"1483.2,1486.45 1483.2,47.2441 \"/>\n",
       "<polyline clip-path=\"url(#clip602)\" style=\"stroke:#000000; stroke-linecap:round; stroke-linejoin:round; stroke-width:2; stroke-opacity:0.1; fill:none\" points=\"1917.98,1486.45 1917.98,47.2441 \"/>\n",
       "<polyline clip-path=\"url(#clip602)\" style=\"stroke:#000000; stroke-linecap:round; stroke-linejoin:round; stroke-width:2; stroke-opacity:0.1; fill:none\" points=\"2352.76,1486.45 2352.76,47.2441 \"/>\n",
       "<polyline clip-path=\"url(#clip600)\" style=\"stroke:#000000; stroke-linecap:round; stroke-linejoin:round; stroke-width:4; stroke-opacity:1; fill:none\" points=\"178.867,1486.45 2352.76,1486.45 \"/>\n",
       "<polyline clip-path=\"url(#clip600)\" style=\"stroke:#000000; stroke-linecap:round; stroke-linejoin:round; stroke-width:4; stroke-opacity:1; fill:none\" points=\"178.867,1486.45 178.867,1467.55 \"/>\n",
       "<polyline clip-path=\"url(#clip600)\" style=\"stroke:#000000; stroke-linecap:round; stroke-linejoin:round; stroke-width:4; stroke-opacity:1; fill:none\" points=\"613.644,1486.45 613.644,1467.55 \"/>\n",
       "<polyline clip-path=\"url(#clip600)\" style=\"stroke:#000000; stroke-linecap:round; stroke-linejoin:round; stroke-width:4; stroke-opacity:1; fill:none\" points=\"1048.42,1486.45 1048.42,1467.55 \"/>\n",
       "<polyline clip-path=\"url(#clip600)\" style=\"stroke:#000000; stroke-linecap:round; stroke-linejoin:round; stroke-width:4; stroke-opacity:1; fill:none\" points=\"1483.2,1486.45 1483.2,1467.55 \"/>\n",
       "<polyline clip-path=\"url(#clip600)\" style=\"stroke:#000000; stroke-linecap:round; stroke-linejoin:round; stroke-width:4; stroke-opacity:1; fill:none\" points=\"1917.98,1486.45 1917.98,1467.55 \"/>\n",
       "<polyline clip-path=\"url(#clip600)\" style=\"stroke:#000000; stroke-linecap:round; stroke-linejoin:round; stroke-width:4; stroke-opacity:1; fill:none\" points=\"2352.76,1486.45 2352.76,1467.55 \"/>\n",
       "<path clip-path=\"url(#clip600)\" d=\"M148.809 1532.02 L178.485 1532.02 L178.485 1535.95 L148.809 1535.95 L148.809 1532.02 Z\" fill=\"#000000\" fill-rule=\"nonzero\" fill-opacity=\"1\" /><path clip-path=\"url(#clip600)\" d=\"M192.605 1544.91 L208.924 1544.91 L208.924 1548.85 L186.98 1548.85 L186.98 1544.91 Q189.642 1542.16 194.225 1537.53 Q198.832 1532.88 200.012 1531.53 Q202.258 1529.01 203.137 1527.27 Q204.04 1525.51 204.04 1523.82 Q204.04 1521.07 202.096 1519.33 Q200.174 1517.6 197.073 1517.6 Q194.873 1517.6 192.42 1518.36 Q189.989 1519.13 187.211 1520.68 L187.211 1515.95 Q190.036 1514.82 192.489 1514.24 Q194.943 1513.66 196.98 1513.66 Q202.35 1513.66 205.545 1516.35 Q208.739 1519.03 208.739 1523.52 Q208.739 1525.65 207.929 1527.57 Q207.142 1529.47 205.035 1532.07 Q204.457 1532.74 201.355 1535.95 Q198.253 1539.15 192.605 1544.91 Z\" fill=\"#000000\" fill-rule=\"nonzero\" fill-opacity=\"1\" /><path clip-path=\"url(#clip600)\" d=\"M613.644 1517.37 Q610.033 1517.37 608.205 1520.93 Q606.399 1524.47 606.399 1531.6 Q606.399 1538.71 608.205 1542.27 Q610.033 1545.82 613.644 1545.82 Q617.279 1545.82 619.084 1542.27 Q620.913 1538.71 620.913 1531.6 Q620.913 1524.47 619.084 1520.93 Q617.279 1517.37 613.644 1517.37 M613.644 1513.66 Q619.455 1513.66 622.51 1518.27 Q625.589 1522.85 625.589 1531.6 Q625.589 1540.33 622.51 1544.94 Q619.455 1549.52 613.644 1549.52 Q607.834 1549.52 604.756 1544.94 Q601.7 1540.33 601.7 1531.6 Q601.7 1522.85 604.756 1518.27 Q607.834 1513.66 613.644 1513.66 Z\" fill=\"#000000\" fill-rule=\"nonzero\" fill-opacity=\"1\" /><path clip-path=\"url(#clip600)\" d=\"M1043.08 1544.91 L1059.39 1544.91 L1059.39 1548.85 L1037.45 1548.85 L1037.45 1544.91 Q1040.11 1542.16 1044.7 1537.53 Q1049.3 1532.88 1050.48 1531.53 Q1052.73 1529.01 1053.61 1527.27 Q1054.51 1525.51 1054.51 1523.82 Q1054.51 1521.07 1052.57 1519.33 Q1050.64 1517.6 1047.54 1517.6 Q1045.34 1517.6 1042.89 1518.36 Q1040.46 1519.13 1037.68 1520.68 L1037.68 1515.95 Q1040.51 1514.82 1042.96 1514.24 Q1045.41 1513.66 1047.45 1513.66 Q1052.82 1513.66 1056.01 1516.35 Q1059.21 1519.03 1059.21 1523.52 Q1059.21 1525.65 1058.4 1527.57 Q1057.61 1529.47 1055.51 1532.07 Q1054.93 1532.74 1051.83 1535.95 Q1048.72 1539.15 1043.08 1544.91 Z\" fill=\"#000000\" fill-rule=\"nonzero\" fill-opacity=\"1\" /><path clip-path=\"url(#clip600)\" d=\"M1486.21 1518.36 L1474.4 1536.81 L1486.21 1536.81 L1486.21 1518.36 M1484.98 1514.29 L1490.86 1514.29 L1490.86 1536.81 L1495.79 1536.81 L1495.79 1540.7 L1490.86 1540.7 L1490.86 1548.85 L1486.21 1548.85 L1486.21 1540.7 L1470.61 1540.7 L1470.61 1536.19 L1484.98 1514.29 Z\" fill=\"#000000\" fill-rule=\"nonzero\" fill-opacity=\"1\" /><path clip-path=\"url(#clip600)\" d=\"M1918.38 1529.7 Q1915.24 1529.7 1913.38 1531.86 Q1911.55 1534.01 1911.55 1537.76 Q1911.55 1541.49 1913.38 1543.66 Q1915.24 1545.82 1918.38 1545.82 Q1921.53 1545.82 1923.36 1543.66 Q1925.21 1541.49 1925.21 1537.76 Q1925.21 1534.01 1923.36 1531.86 Q1921.53 1529.7 1918.38 1529.7 M1927.67 1515.05 L1927.67 1519.31 Q1925.91 1518.48 1924.1 1518.04 Q1922.32 1517.6 1920.56 1517.6 Q1915.93 1517.6 1913.48 1520.72 Q1911.05 1523.85 1910.7 1530.17 Q1912.06 1528.15 1914.12 1527.09 Q1916.18 1526 1918.66 1526 Q1923.87 1526 1926.88 1529.17 Q1929.91 1532.32 1929.91 1537.76 Q1929.91 1543.08 1926.76 1546.3 Q1923.61 1549.52 1918.38 1549.52 Q1912.39 1549.52 1909.22 1544.94 Q1906.05 1540.33 1906.05 1531.6 Q1906.05 1523.41 1909.93 1518.55 Q1913.82 1513.66 1920.37 1513.66 Q1922.13 1513.66 1923.92 1514.01 Q1925.72 1514.36 1927.67 1515.05 Z\" fill=\"#000000\" fill-rule=\"nonzero\" fill-opacity=\"1\" /><path clip-path=\"url(#clip600)\" d=\"M2352.76 1532.44 Q2349.42 1532.44 2347.5 1534.22 Q2345.6 1536 2345.6 1539.13 Q2345.6 1542.25 2347.5 1544.03 Q2349.42 1545.82 2352.76 1545.82 Q2356.09 1545.82 2358.01 1544.03 Q2359.93 1542.23 2359.93 1539.13 Q2359.93 1536 2358.01 1534.22 Q2356.11 1532.44 2352.76 1532.44 M2348.08 1530.45 Q2345.07 1529.7 2343.38 1527.64 Q2341.71 1525.58 2341.71 1522.62 Q2341.71 1518.48 2344.65 1516.07 Q2347.62 1513.66 2352.76 1513.66 Q2357.92 1513.66 2360.86 1516.07 Q2363.8 1518.48 2363.8 1522.62 Q2363.8 1525.58 2362.11 1527.64 Q2360.44 1529.7 2357.45 1530.45 Q2360.83 1531.23 2362.71 1533.52 Q2364.61 1535.82 2364.61 1539.13 Q2364.61 1544.15 2361.53 1546.83 Q2358.47 1549.52 2352.76 1549.52 Q2347.04 1549.52 2343.96 1546.83 Q2340.9 1544.15 2340.9 1539.13 Q2340.9 1535.82 2342.8 1533.52 Q2344.7 1531.23 2348.08 1530.45 M2346.37 1523.06 Q2346.37 1525.75 2348.03 1527.25 Q2349.72 1528.76 2352.76 1528.76 Q2355.77 1528.76 2357.45 1527.25 Q2359.17 1525.75 2359.17 1523.06 Q2359.17 1520.38 2357.45 1518.87 Q2355.77 1517.37 2352.76 1517.37 Q2349.72 1517.37 2348.03 1518.87 Q2346.37 1520.38 2346.37 1523.06 Z\" fill=\"#000000\" fill-rule=\"nonzero\" fill-opacity=\"1\" /><polyline clip-path=\"url(#clip602)\" style=\"stroke:#000000; stroke-linecap:round; stroke-linejoin:round; stroke-width:2; stroke-opacity:0.1; fill:none\" points=\"178.867,1415.32 2352.76,1415.32 \"/>\n",
       "<polyline clip-path=\"url(#clip602)\" style=\"stroke:#000000; stroke-linecap:round; stroke-linejoin:round; stroke-width:2; stroke-opacity:0.1; fill:none\" points=\"178.867,1111.35 2352.76,1111.35 \"/>\n",
       "<polyline clip-path=\"url(#clip602)\" style=\"stroke:#000000; stroke-linecap:round; stroke-linejoin:round; stroke-width:2; stroke-opacity:0.1; fill:none\" points=\"178.867,807.376 2352.76,807.376 \"/>\n",
       "<polyline clip-path=\"url(#clip602)\" style=\"stroke:#000000; stroke-linecap:round; stroke-linejoin:round; stroke-width:2; stroke-opacity:0.1; fill:none\" points=\"178.867,503.404 2352.76,503.404 \"/>\n",
       "<polyline clip-path=\"url(#clip602)\" style=\"stroke:#000000; stroke-linecap:round; stroke-linejoin:round; stroke-width:2; stroke-opacity:0.1; fill:none\" points=\"178.867,199.432 2352.76,199.432 \"/>\n",
       "<polyline clip-path=\"url(#clip600)\" style=\"stroke:#000000; stroke-linecap:round; stroke-linejoin:round; stroke-width:4; stroke-opacity:1; fill:none\" points=\"178.867,1486.45 178.867,47.2441 \"/>\n",
       "<polyline clip-path=\"url(#clip600)\" style=\"stroke:#000000; stroke-linecap:round; stroke-linejoin:round; stroke-width:4; stroke-opacity:1; fill:none\" points=\"178.867,1415.32 197.764,1415.32 \"/>\n",
       "<polyline clip-path=\"url(#clip600)\" style=\"stroke:#000000; stroke-linecap:round; stroke-linejoin:round; stroke-width:4; stroke-opacity:1; fill:none\" points=\"178.867,1111.35 197.764,1111.35 \"/>\n",
       "<polyline clip-path=\"url(#clip600)\" style=\"stroke:#000000; stroke-linecap:round; stroke-linejoin:round; stroke-width:4; stroke-opacity:1; fill:none\" points=\"178.867,807.376 197.764,807.376 \"/>\n",
       "<polyline clip-path=\"url(#clip600)\" style=\"stroke:#000000; stroke-linecap:round; stroke-linejoin:round; stroke-width:4; stroke-opacity:1; fill:none\" points=\"178.867,503.404 197.764,503.404 \"/>\n",
       "<polyline clip-path=\"url(#clip600)\" style=\"stroke:#000000; stroke-linecap:round; stroke-linejoin:round; stroke-width:4; stroke-opacity:1; fill:none\" points=\"178.867,199.432 197.764,199.432 \"/>\n",
       "<path clip-path=\"url(#clip600)\" d=\"M50.9921 1415.77 L80.6679 1415.77 L80.6679 1419.71 L50.9921 1419.71 L50.9921 1415.77 Z\" fill=\"#000000\" fill-rule=\"nonzero\" fill-opacity=\"1\" /><path clip-path=\"url(#clip600)\" d=\"M94.7882 1428.66 L111.108 1428.66 L111.108 1432.6 L89.1632 1432.6 L89.1632 1428.66 Q91.8252 1425.91 96.4085 1421.28 Q101.015 1416.63 102.196 1415.28 Q104.441 1412.76 105.321 1411.02 Q106.223 1409.27 106.223 1407.58 Q106.223 1404.82 104.279 1403.08 Q102.358 1401.35 99.2558 1401.35 Q97.0567 1401.35 94.603 1402.11 Q92.1725 1402.88 89.3947 1404.43 L89.3947 1399.71 Q92.2188 1398.57 94.6724 1397.99 Q97.1261 1397.41 99.1632 1397.41 Q104.534 1397.41 107.728 1400.1 Q110.922 1402.78 110.922 1407.27 Q110.922 1409.4 110.112 1411.33 Q109.325 1413.22 107.219 1415.82 Q106.64 1416.49 103.538 1419.71 Q100.436 1422.9 94.7882 1428.66 Z\" fill=\"#000000\" fill-rule=\"nonzero\" fill-opacity=\"1\" /><path clip-path=\"url(#clip600)\" d=\"M130.922 1401.12 Q127.311 1401.12 125.482 1404.68 Q123.677 1408.22 123.677 1415.35 Q123.677 1422.46 125.482 1426.02 Q127.311 1429.57 130.922 1429.57 Q134.556 1429.57 136.362 1426.02 Q138.191 1422.46 138.191 1415.35 Q138.191 1408.22 136.362 1404.68 Q134.556 1401.12 130.922 1401.12 M130.922 1397.41 Q136.732 1397.41 139.788 1402.02 Q142.867 1406.6 142.867 1415.35 Q142.867 1424.08 139.788 1428.69 Q136.732 1433.27 130.922 1433.27 Q125.112 1433.27 122.033 1428.69 Q118.978 1424.08 118.978 1415.35 Q118.978 1406.6 122.033 1402.02 Q125.112 1397.41 130.922 1397.41 Z\" fill=\"#000000\" fill-rule=\"nonzero\" fill-opacity=\"1\" /><path clip-path=\"url(#clip600)\" d=\"M50.9921 1111.8 L80.6679 1111.8 L80.6679 1115.73 L50.9921 1115.73 L50.9921 1111.8 Z\" fill=\"#000000\" fill-rule=\"nonzero\" fill-opacity=\"1\" /><path clip-path=\"url(#clip600)\" d=\"M91.5706 1124.69 L99.2095 1124.69 L99.2095 1098.33 L90.8993 1099.99 L90.8993 1095.73 L99.1632 1094.07 L103.839 1094.07 L103.839 1124.69 L111.478 1124.69 L111.478 1128.63 L91.5706 1128.63 L91.5706 1124.69 Z\" fill=\"#000000\" fill-rule=\"nonzero\" fill-opacity=\"1\" /><path clip-path=\"url(#clip600)\" d=\"M130.922 1097.15 Q127.311 1097.15 125.482 1100.71 Q123.677 1104.25 123.677 1111.38 Q123.677 1118.49 125.482 1122.05 Q127.311 1125.59 130.922 1125.59 Q134.556 1125.59 136.362 1122.05 Q138.191 1118.49 138.191 1111.38 Q138.191 1104.25 136.362 1100.71 Q134.556 1097.15 130.922 1097.15 M130.922 1093.44 Q136.732 1093.44 139.788 1098.05 Q142.867 1102.63 142.867 1111.38 Q142.867 1120.11 139.788 1124.72 Q136.732 1129.3 130.922 1129.3 Q125.112 1129.3 122.033 1124.72 Q118.978 1120.11 118.978 1111.38 Q118.978 1102.63 122.033 1098.05 Q125.112 1093.44 130.922 1093.44 Z\" fill=\"#000000\" fill-rule=\"nonzero\" fill-opacity=\"1\" /><path clip-path=\"url(#clip600)\" d=\"M130.922 793.174 Q127.311 793.174 125.482 796.739 Q123.677 800.281 123.677 807.41 Q123.677 814.517 125.482 818.081 Q127.311 821.623 130.922 821.623 Q134.556 821.623 136.362 818.081 Q138.191 814.517 138.191 807.41 Q138.191 800.281 136.362 796.739 Q134.556 793.174 130.922 793.174 M130.922 789.471 Q136.732 789.471 139.788 794.077 Q142.867 798.66 142.867 807.41 Q142.867 816.137 139.788 820.744 Q136.732 825.327 130.922 825.327 Q125.112 825.327 122.033 820.744 Q118.978 816.137 118.978 807.41 Q118.978 798.66 122.033 794.077 Q125.112 789.471 130.922 789.471 Z\" fill=\"#000000\" fill-rule=\"nonzero\" fill-opacity=\"1\" /><path clip-path=\"url(#clip600)\" d=\"M91.5706 516.749 L99.2095 516.749 L99.2095 490.383 L90.8993 492.05 L90.8993 487.791 L99.1632 486.124 L103.839 486.124 L103.839 516.749 L111.478 516.749 L111.478 520.684 L91.5706 520.684 L91.5706 516.749 Z\" fill=\"#000000\" fill-rule=\"nonzero\" fill-opacity=\"1\" /><path clip-path=\"url(#clip600)\" d=\"M130.922 489.203 Q127.311 489.203 125.482 492.767 Q123.677 496.309 123.677 503.439 Q123.677 510.545 125.482 514.11 Q127.311 517.652 130.922 517.652 Q134.556 517.652 136.362 514.11 Q138.191 510.545 138.191 503.439 Q138.191 496.309 136.362 492.767 Q134.556 489.203 130.922 489.203 M130.922 485.499 Q136.732 485.499 139.788 490.105 Q142.867 494.689 142.867 503.439 Q142.867 512.166 139.788 516.772 Q136.732 521.355 130.922 521.355 Q125.112 521.355 122.033 516.772 Q118.978 512.166 118.978 503.439 Q118.978 494.689 122.033 490.105 Q125.112 485.499 130.922 485.499 Z\" fill=\"#000000\" fill-rule=\"nonzero\" fill-opacity=\"1\" /><path clip-path=\"url(#clip600)\" d=\"M94.7882 212.777 L111.108 212.777 L111.108 216.712 L89.1632 216.712 L89.1632 212.777 Q91.8252 210.023 96.4085 205.393 Q101.015 200.74 102.196 199.398 Q104.441 196.875 105.321 195.139 Q106.223 193.379 106.223 191.689 Q106.223 188.935 104.279 187.199 Q102.358 185.463 99.2558 185.463 Q97.0567 185.463 94.603 186.227 Q92.1725 186.99 89.3947 188.541 L89.3947 183.819 Q92.2188 182.685 94.6724 182.106 Q97.1261 181.528 99.1632 181.528 Q104.534 181.528 107.728 184.213 Q110.922 186.898 110.922 191.389 Q110.922 193.518 110.112 195.439 Q109.325 197.338 107.219 199.93 Q106.64 200.601 103.538 203.819 Q100.436 207.013 94.7882 212.777 Z\" fill=\"#000000\" fill-rule=\"nonzero\" fill-opacity=\"1\" /><path clip-path=\"url(#clip600)\" d=\"M130.922 185.231 Q127.311 185.231 125.482 188.796 Q123.677 192.338 123.677 199.467 Q123.677 206.574 125.482 210.138 Q127.311 213.68 130.922 213.68 Q134.556 213.68 136.362 210.138 Q138.191 206.574 138.191 199.467 Q138.191 192.338 136.362 188.796 Q134.556 185.231 130.922 185.231 M130.922 181.528 Q136.732 181.528 139.788 186.134 Q142.867 190.717 142.867 199.467 Q142.867 208.194 139.788 212.8 Q136.732 217.384 130.922 217.384 Q125.112 217.384 122.033 212.8 Q118.978 208.194 118.978 199.467 Q118.978 190.717 122.033 186.134 Q125.112 181.528 130.922 181.528 Z\" fill=\"#000000\" fill-rule=\"nonzero\" fill-opacity=\"1\" /><polyline clip-path=\"url(#clip602)\" style=\"stroke:#009af9; stroke-linecap:round; stroke-linejoin:round; stroke-width:4; stroke-opacity:1; fill:none\" points=\"178.867,87.9763 182.405,98.3259 185.943,108.595 189.482,118.785 193.02,128.894 209.378,174.604 225.737,218.641 242.095,261.032 258.453,301.801 274.812,340.974 291.17,378.579 307.528,414.64 323.887,449.184 343.548,488.731 363.209,526.168 382.871,561.541 402.532,594.894 419.156,621.551 435.779,646.823 452.403,670.738 469.026,693.323 487.084,716.381 505.141,737.936 523.199,758.024 541.257,776.678 557.904,792.636 574.552,807.434 591.2,821.097 607.847,833.655 625.695,845.919 643.543,856.978 661.391,866.863 679.239,875.608 699.918,884.361 720.597,891.681 741.275,897.622 761.954,902.235 798.708,907.322 835.461,908.674 867.691,907.019 899.92,902.917 935.059,895.889 970.198,886.443 1005.55,874.763 1040.89,861.159 1079.97,844.192 1119.06,825.546 1156.24,806.568 1193.43,786.693 1270.75,743.817 1335.85,707.748 1375.58,686.489 1415.32,666.256 1451.72,648.938 1488.12,633.077 1521.74,619.971 1555.36,608.576 1589.41,599.009 1623.47,591.662 1661.63,586.357 1699.8,584.464 1734.38,585.97 1768.96,590.793 1788.76,595.141 1808.56,600.702 1828.36,607.522 1848.16,615.647 1866.49,624.373 1884.82,634.294 1903.15,645.446 1921.48,657.865 1939.56,671.385 1957.63,686.207 1975.7,702.366 1993.77,719.898 2011.32,738.266 2028.87,757.992 2046.42,779.108 2063.96,801.646 2081.95,826.261 2099.94,852.439 2117.93,880.213 2135.91,909.62 2155.62,943.751 2175.33,979.928 2195.04,1018.2 2214.75,1058.6 2229.06,1089.31 2243.38,1121.19 2257.69,1154.25 2272,1188.52 2286.32,1224.01 2300.63,1260.73 2314.95,1298.71 2329.26,1337.96 2335.14,1354.44 2341.01,1371.14 2346.88,1388.05 2352.76,1405.19 \"/>\n",
       "<polyline clip-path=\"url(#clip602)\" style=\"stroke:#e26f46; stroke-linecap:round; stroke-linejoin:round; stroke-width:4; stroke-opacity:1; fill:none\" points=\"178.867,1445.72 182.405,1440.78 185.943,1435.85 189.482,1430.95 193.02,1426.05 225.737,1381.59 258.453,1338.51 291.17,1296.8 323.887,1256.46 363.209,1209.81 402.532,1165.15 435.779,1128.93 469.026,1094.14 505.141,1057.96 541.257,1023.46 574.552,993.142 607.847,964.247 643.543,934.852 679.239,907.097 699.918,891.768 720.597,876.989 741.275,862.761 761.954,849.082 798.708,826.128 835.461,804.912 867.691,787.737 899.92,771.899 935.059,756.153 970.198,741.996 1005.55,729.357 1040.89,718.326 1079.97,708.001 1119.06,699.64 1156.24,693.509 1193.43,689.157 1232.09,686.518 1270.75,685.803 1303.3,686.691 1335.85,688.942 1355.71,690.986 1375.58,693.537 1395.45,696.597 1415.32,700.164 1451.72,708.017 1488.12,717.575 1521.74,727.916 1555.36,739.712 1589.41,753.142 1623.47,768.065 1661.63,786.562 1699.8,806.933 1734.38,827.01 1768.96,848.626 1788.76,861.693 1808.56,875.265 1828.36,889.34 1848.16,903.92 1884.82,932.251 1921.48,962.311 1957.63,993.639 1993.77,1026.65 2028.87,1060.3 2063.96,1095.55 2099.94,1133.32 2135.91,1172.75 2155.62,1195.06 2175.33,1217.87 2195.04,1241.18 2214.75,1264.99 2243.38,1300.47 2272,1337 2300.63,1374.58 2329.26,1413.22 2335.14,1421.28 2341.01,1429.38 2346.88,1437.53 2352.76,1445.72 \"/>\n",
       "<polyline clip-path=\"url(#clip602)\" style=\"stroke:#3da44d; stroke-linecap:round; stroke-linejoin:round; stroke-width:4; stroke-opacity:1; fill:none\" points=\"178.867,503.404 193.02,507.362 323.887,543.96 402.532,565.954 469.026,584.549 541.257,604.749 607.847,623.371 679.239,643.337 761.954,666.468 835.461,687.025 899.92,705.052 970.198,724.705 1040.89,744.476 1119.06,766.334 1193.43,787.132 1270.75,808.758 1335.85,826.961 1415.32,849.186 1488.12,869.545 1555.36,888.349 1623.47,907.396 1699.8,928.742 1768.96,948.086 1848.16,970.233 1921.48,990.739 1993.77,1010.96 2063.96,1030.58 2135.91,1050.71 2214.75,1072.75 2329.26,1104.78 2352.76,1111.35 \"/>\n",
       "<polyline clip-path=\"url(#clip602)\" style=\"stroke:#c271d2; stroke-linecap:round; stroke-linejoin:round; stroke-width:4; stroke-opacity:1; fill:none\" points=\"-1995.02,807.376 4526.65,807.376 \"/>\n",
       "<path clip-path=\"url(#clip600)\" d=\"M1943.92 354.418 L2280.29 354.418 L2280.29 95.2176 L1943.92 95.2176  Z\" fill=\"#ffffff\" fill-rule=\"evenodd\" fill-opacity=\"1\"/>\n",
       "<polyline clip-path=\"url(#clip600)\" style=\"stroke:#000000; stroke-linecap:round; stroke-linejoin:round; stroke-width:4; stroke-opacity:1; fill:none\" points=\"1943.92,354.418 2280.29,354.418 2280.29,95.2176 1943.92,95.2176 1943.92,354.418 \"/>\n",
       "<polyline clip-path=\"url(#clip600)\" style=\"stroke:#009af9; stroke-linecap:round; stroke-linejoin:round; stroke-width:4; stroke-opacity:1; fill:none\" points=\"1968.08,147.058 2113,147.058 \"/>\n",
       "<path clip-path=\"url(#clip600)\" d=\"M2153.66 128.319 L2153.66 131.861 L2149.59 131.861 Q2147.3 131.861 2146.39 132.787 Q2145.51 133.713 2145.51 136.12 L2145.51 138.412 L2152.53 138.412 L2152.53 141.722 L2145.51 141.722 L2145.51 164.338 L2141.23 164.338 L2141.23 141.722 L2137.16 141.722 L2137.16 138.412 L2141.23 138.412 L2141.23 136.606 Q2141.23 132.278 2143.25 130.31 Q2145.26 128.319 2149.63 128.319 L2153.66 128.319 Z\" fill=\"#000000\" fill-rule=\"nonzero\" fill-opacity=\"1\" /><path clip-path=\"url(#clip600)\" d=\"M2167.46 128.366 Q2164.36 133.69 2162.85 138.898 Q2161.35 144.106 2161.35 149.453 Q2161.35 154.801 2162.85 160.055 Q2164.38 165.287 2167.46 170.588 L2163.75 170.588 Q2160.28 165.148 2158.55 159.893 Q2156.83 154.639 2156.83 149.453 Q2156.83 144.291 2158.55 139.06 Q2160.26 133.828 2163.75 128.366 L2167.46 128.366 Z\" fill=\"#000000\" fill-rule=\"nonzero\" fill-opacity=\"1\" /><path clip-path=\"url(#clip600)\" d=\"M2197.27 138.412 L2187.9 151.027 L2197.76 164.338 L2192.74 164.338 L2185.19 154.152 L2177.64 164.338 L2172.62 164.338 L2182.69 150.773 L2173.48 138.412 L2178.5 138.412 L2185.38 147.648 L2192.25 138.412 L2197.27 138.412 Z\" fill=\"#000000\" fill-rule=\"nonzero\" fill-opacity=\"1\" /><path clip-path=\"url(#clip600)\" d=\"M2203.11 128.366 L2206.81 128.366 Q2210.28 133.828 2212 139.06 Q2213.73 144.291 2213.73 149.453 Q2213.73 154.639 2212 159.893 Q2210.28 165.148 2206.81 170.588 L2203.11 170.588 Q2206.19 165.287 2207.69 160.055 Q2209.22 154.801 2209.22 149.453 Q2209.22 144.106 2207.69 138.898 Q2206.19 133.69 2203.11 128.366 Z\" fill=\"#000000\" fill-rule=\"nonzero\" fill-opacity=\"1\" /><polyline clip-path=\"url(#clip600)\" style=\"stroke:#e26f46; stroke-linecap:round; stroke-linejoin:round; stroke-width:4; stroke-opacity:1; fill:none\" points=\"1968.08,198.898 2113,198.898 \"/>\n",
       "<path clip-path=\"url(#clip600)\" d=\"M2145.07 216.849 Q2141.81 216.849 2139.68 214.881 Q2137.16 212.543 2137.16 208.307 Q2137.16 203.909 2139.38 200.483 Q2141.67 196.965 2145.79 196.965 Q2148.5 196.965 2150.63 198.654 Q2151.88 199.65 2152.74 201.317 Q2153.04 199.442 2153.04 197.312 Q2153.04 194.187 2152.3 192.381 Q2150.65 188.377 2146.3 188.377 Q2144.66 188.377 2142.11 189.395 L2142.11 185.506 Q2144.8 184.789 2147.2 184.789 Q2153.41 184.789 2156.05 190.483 Q2157.27 193.168 2157.27 197.173 Q2157.27 199.789 2156.69 202.821 Q2155.24 210.414 2151.46 214.025 Q2148.5 216.849 2145.07 216.849 M2141.12 209.002 Q2141.12 211.316 2142.13 212.566 Q2143.22 213.886 2144.89 213.886 Q2146.37 213.886 2147.55 212.844 Q2149.22 211.409 2150.44 209.071 Q2151.46 207.15 2151.97 205.09 Q2149.91 200.113 2146.35 200.113 Q2143.29 200.113 2141.95 204.141 Q2141.12 206.641 2141.12 209.002 Z\" fill=\"#000000\" fill-rule=\"nonzero\" fill-opacity=\"1\" /><path clip-path=\"url(#clip600)\" d=\"M2177.06 180.159 L2177.06 183.701 L2172.99 183.701 Q2170.7 183.701 2169.8 184.627 Q2168.92 185.553 2168.92 187.96 L2168.92 190.252 L2175.93 190.252 L2175.93 193.562 L2168.92 193.562 L2168.92 216.178 L2164.63 216.178 L2164.63 193.562 L2160.56 193.562 L2160.56 190.252 L2164.63 190.252 L2164.63 188.446 Q2164.63 184.118 2166.65 182.15 Q2168.66 180.159 2173.04 180.159 L2177.06 180.159 Z\" fill=\"#000000\" fill-rule=\"nonzero\" fill-opacity=\"1\" /><path clip-path=\"url(#clip600)\" d=\"M2190.86 180.206 Q2187.76 185.53 2186.25 190.738 Q2184.75 195.946 2184.75 201.293 Q2184.75 206.641 2186.25 211.895 Q2187.78 217.127 2190.86 222.428 L2187.16 222.428 Q2183.69 216.988 2181.95 211.733 Q2180.24 206.479 2180.24 201.293 Q2180.24 196.131 2181.95 190.9 Q2183.66 185.668 2187.16 180.206 L2190.86 180.206 Z\" fill=\"#000000\" fill-rule=\"nonzero\" fill-opacity=\"1\" /><path clip-path=\"url(#clip600)\" d=\"M2220.68 190.252 L2211.3 202.867 L2221.16 216.178 L2216.14 216.178 L2208.59 205.992 L2201.05 216.178 L2196.02 216.178 L2206.09 202.613 L2196.88 190.252 L2201.9 190.252 L2208.78 199.488 L2215.65 190.252 L2220.68 190.252 Z\" fill=\"#000000\" fill-rule=\"nonzero\" fill-opacity=\"1\" /><path clip-path=\"url(#clip600)\" d=\"M2226.51 180.206 L2230.21 180.206 Q2233.69 185.668 2235.4 190.9 Q2237.13 196.131 2237.13 201.293 Q2237.13 206.479 2235.4 211.733 Q2233.69 216.988 2230.21 222.428 L2226.51 222.428 Q2229.59 217.127 2231.09 211.895 Q2232.62 206.641 2232.62 201.293 Q2232.62 195.946 2231.09 190.738 Q2229.59 185.53 2226.51 180.206 Z\" fill=\"#000000\" fill-rule=\"nonzero\" fill-opacity=\"1\" /><polyline clip-path=\"url(#clip600)\" style=\"stroke:#3da44d; stroke-linecap:round; stroke-linejoin:round; stroke-width:4; stroke-opacity:1; fill:none\" points=\"1968.08,250.738 2113,250.738 \"/>\n",
       "<path clip-path=\"url(#clip600)\" d=\"M2145.07 268.689 Q2141.81 268.689 2139.68 266.721 Q2137.16 264.383 2137.16 260.147 Q2137.16 255.749 2139.38 252.323 Q2141.67 248.805 2145.79 248.805 Q2148.5 248.805 2150.63 250.494 Q2151.88 251.49 2152.74 253.157 Q2153.04 251.282 2153.04 249.152 Q2153.04 246.027 2152.3 244.221 Q2150.65 240.217 2146.3 240.217 Q2144.66 240.217 2142.11 241.235 L2142.11 237.346 Q2144.8 236.629 2147.2 236.629 Q2153.41 236.629 2156.05 242.323 Q2157.27 245.008 2157.27 249.013 Q2157.27 251.629 2156.69 254.661 Q2155.24 262.254 2151.46 265.865 Q2148.5 268.689 2145.07 268.689 M2141.12 260.842 Q2141.12 263.156 2142.13 264.406 Q2143.22 265.726 2144.89 265.726 Q2146.37 265.726 2147.55 264.684 Q2149.22 263.249 2150.44 260.911 Q2151.46 258.99 2151.97 256.93 Q2149.91 251.953 2146.35 251.953 Q2143.29 251.953 2141.95 255.981 Q2141.12 258.481 2141.12 260.842 Z\" fill=\"#000000\" fill-rule=\"nonzero\" fill-opacity=\"1\" /><path clip-path=\"url(#clip600)\" d=\"M2165.68 249.916 L2175.49 249.916 L2175.49 252.555 L2161.65 252.555 L2161.65 250.008 Q2162.44 249.291 2163.89 247.995 Q2171.86 240.934 2171.86 238.758 Q2171.86 237.231 2170.65 236.305 Q2169.45 235.356 2167.48 235.356 Q2166.28 235.356 2164.87 235.772 Q2163.45 236.166 2161.79 236.976 L2161.79 234.129 Q2163.57 233.481 2165.1 233.157 Q2166.65 232.833 2167.97 232.833 Q2171.32 232.833 2173.34 234.36 Q2175.35 235.888 2175.35 238.388 Q2175.35 241.606 2167.69 248.18 Q2166.39 249.291 2165.68 249.916 Z\" fill=\"#000000\" fill-rule=\"nonzero\" fill-opacity=\"1\" /><path clip-path=\"url(#clip600)\" d=\"M2196.07 231.999 L2196.07 235.541 L2192 235.541 Q2189.7 235.541 2188.8 236.467 Q2187.92 237.393 2187.92 239.8 L2187.92 242.092 L2194.94 242.092 L2194.94 245.402 L2187.92 245.402 L2187.92 268.018 L2183.64 268.018 L2183.64 245.402 L2179.56 245.402 L2179.56 242.092 L2183.64 242.092 L2183.64 240.286 Q2183.64 235.958 2185.65 233.99 Q2187.67 231.999 2192.04 231.999 L2196.07 231.999 Z\" fill=\"#000000\" fill-rule=\"nonzero\" fill-opacity=\"1\" /><path clip-path=\"url(#clip600)\" d=\"M2209.87 232.046 Q2206.76 237.37 2205.26 242.578 Q2203.75 247.786 2203.75 253.133 Q2203.75 258.481 2205.26 263.735 Q2206.79 268.967 2209.87 274.268 L2206.16 274.268 Q2202.69 268.828 2200.95 263.573 Q2199.24 258.319 2199.24 253.133 Q2199.24 247.971 2200.95 242.74 Q2202.67 237.508 2206.16 232.046 L2209.87 232.046 Z\" fill=\"#000000\" fill-rule=\"nonzero\" fill-opacity=\"1\" /><path clip-path=\"url(#clip600)\" d=\"M2239.68 242.092 L2230.31 254.707 L2240.17 268.018 L2235.14 268.018 L2227.6 257.832 L2220.05 268.018 L2215.03 268.018 L2225.1 254.453 L2215.88 242.092 L2220.91 242.092 L2227.78 251.328 L2234.66 242.092 L2239.68 242.092 Z\" fill=\"#000000\" fill-rule=\"nonzero\" fill-opacity=\"1\" /><path clip-path=\"url(#clip600)\" d=\"M2245.51 232.046 L2249.22 232.046 Q2252.69 237.508 2254.4 242.74 Q2256.14 247.971 2256.14 253.133 Q2256.14 258.319 2254.4 263.573 Q2252.69 268.828 2249.22 274.268 L2245.51 274.268 Q2248.59 268.967 2250.1 263.735 Q2251.62 258.481 2251.62 253.133 Q2251.62 247.786 2250.1 242.578 Q2248.59 237.37 2245.51 232.046 Z\" fill=\"#000000\" fill-rule=\"nonzero\" fill-opacity=\"1\" /><polyline clip-path=\"url(#clip600)\" style=\"stroke:#c271d2; stroke-linecap:round; stroke-linejoin:round; stroke-width:4; stroke-opacity:1; fill:none\" points=\"1968.08,302.578 2113,302.578 \"/>\n",
       "<path clip-path=\"url(#clip600)\" d=\"M2149.1 288.376 Q2145.49 288.376 2143.66 291.941 Q2141.86 295.483 2141.86 302.612 Q2141.86 309.719 2143.66 313.284 Q2145.49 316.825 2149.1 316.825 Q2152.74 316.825 2154.54 313.284 Q2156.37 309.719 2156.37 302.612 Q2156.37 295.483 2154.54 291.941 Q2152.74 288.376 2149.1 288.376 M2149.1 284.673 Q2154.91 284.673 2157.97 289.279 Q2161.05 293.862 2161.05 302.612 Q2161.05 311.339 2157.97 315.946 Q2154.91 320.529 2149.1 320.529 Q2143.29 320.529 2140.21 315.946 Q2137.16 311.339 2137.16 302.612 Q2137.16 293.862 2140.21 289.279 Q2143.29 284.673 2149.1 284.673 Z\" fill=\"#000000\" fill-rule=\"nonzero\" fill-opacity=\"1\" /></svg>\n"
      ]
     },
     "execution_count": 3,
     "metadata": {},
     "output_type": "execute_result"
    }
   ],
   "source": [
    "using ForwardDiff, Plots\n",
    "import ForwardDiff: derivative\n",
    "\n",
    "f(x) = -x^3/3 + 3x^2 - 5x - 1\n",
    "plot(f, xlims = (-2, 8), label = \"f(x)\")\n",
    "\n",
    "∂f(x) = derivative(f, x)\n",
    "\n",
    "plot!(∂f, xlims = (-2, 8), label = \"∂f(x)\")\n",
    "\n",
    "∂²f(x) = derivative(∂f, x)\n",
    "\n",
    "plot!(∂²f, xlims = (-2, 8), label = \"∂²f(x)\")\n",
    "hline!([0], label = \"0\")"
   ]
  },
  {
   "cell_type": "markdown",
   "id": "bfb51a26",
   "metadata": {
    "slideshow": {
     "slide_type": "slide"
    }
   },
   "source": [
    "Нахождение наибобольшего и наименьшего значения функции облегчается наличием отрезка. Например, парабола $y = x^2$ ветвями вверх не будет иметь наибольшего значения на всем множестве, но будет иметь наименьшее - 0. Если мы ограничим ее отрезком $[2,3]$, то будет достаточно вспомнить график функции (он будет возрастать на интервале $(0, +\\infty)$) и понять, что наибольшее значение будет принимтаться в крайней правой точке, то есть в точке 3.\n",
    "\n",
    "В случае, если не получается решить аналитически, то мы можем действовать по следующему алгоритму:\n",
    "\n",
    "Пример. Найти наибольшее и наименьшее значения функции $f(x) = 2x^3-12x^3+18x+3$ на отрезке [-1,2]. \n",
    "\n",
    "Вычислим значения функции в критических точка\n",
    "х, принадлежащих данному отрезку:\n",
    "\n",
    "$f'(x) = (2x^3-12x^3+18x+3)' = 6x^3-24x+18=6(x^2-4x+3)=0$\n",
    "\n",
    "Корни квадратного уравнения будут критическими точками: \n",
    "$x_1 = 1, x_2 = 3$\n",
    "\n",
    "В этом случае нам не важно, являются ли критические точки точками экстремума.\n",
    "\n",
    "$x_1 = 1$ входит в заданный отрезок, а вот $x_2 = 3$ - нет. Поэтому рассматриваем только первый корень и проверяем значение функции в этой точке. \n",
    "\n",
    "$f(x_1) = f(1) = 2 \\cdot 1^3 - 12 \\cdot 1^2 +18 \\cdot 1 + 3 = 11$\n",
    "\n",
    "Вычислим значения функции  на концах отрезка:\n",
    "\n",
    "$f(-1) = 2 \\cdot (-1)^3 - 12 \\cdot (-1)^2 +18 \\cdot (-1) + 3 = -29$\n",
    "\n",
    "$f(2) = 2 \\cdot 2^3 - 12 \\cdot 2^2 +18 \\cdot 2 + 3 = 7$\n",
    "\n",
    "Выбираем наибольшее и наименьшее среди найденных чисел.\n",
    "\n",
    "$maxf(x) = f(1) = 11, minf(x) = f(-1) = 29$"
   ]
  },
  {
   "cell_type": "markdown",
   "id": "940dcae7",
   "metadata": {
    "slideshow": {
     "slide_type": "slide"
    }
   },
   "source": [
    "Иногда значения минимумов и максимумов получить довольно сложно т.к. производные могут быть весьма сложными или не иметь аналитических корней, кроме этого могут возникнуть задачи оптимизации произвольных функций. Тогда следует воспользоваться численными методами оптимизации.\n",
    "\n",
    "К примеру, найдем минимум функции $f(x) =(exp(x^2+2)+1)*(x^2 - x + 1)$ в окрестности точки 0"
   ]
  },
  {
   "cell_type": "code",
   "execution_count": 12,
   "id": "8d3471e3",
   "metadata": {
    "slideshow": {
     "slide_type": "slide"
    }
   },
   "outputs": [
    {
     "data": {
      "image/svg+xml": [
       "<?xml version=\"1.0\" encoding=\"utf-8\"?>\n",
       "<svg xmlns=\"http://www.w3.org/2000/svg\" xmlns:xlink=\"http://www.w3.org/1999/xlink\" width=\"600\" height=\"400\" viewBox=\"0 0 2400 1600\">\n",
       "<defs>\n",
       "  <clipPath id=\"clip360\">\n",
       "    <rect x=\"0\" y=\"0\" width=\"2400\" height=\"1600\"/>\n",
       "  </clipPath>\n",
       "</defs>\n",
       "<path clip-path=\"url(#clip360)\" d=\"M0 1600 L2400 1600 L2400 0 L0 0  Z\" fill=\"#ffffff\" fill-rule=\"evenodd\" fill-opacity=\"1\"/>\n",
       "<defs>\n",
       "  <clipPath id=\"clip361\">\n",
       "    <rect x=\"480\" y=\"0\" width=\"1681\" height=\"1600\"/>\n",
       "  </clipPath>\n",
       "</defs>\n",
       "<path clip-path=\"url(#clip360)\" d=\"M169.121 1486.45 L2352.76 1486.45 L2352.76 47.2441 L169.121 47.2441  Z\" fill=\"#ffffff\" fill-rule=\"evenodd\" fill-opacity=\"1\"/>\n",
       "<defs>\n",
       "  <clipPath id=\"clip362\">\n",
       "    <rect x=\"169\" y=\"47\" width=\"2185\" height=\"1440\"/>\n",
       "  </clipPath>\n",
       "</defs>\n",
       "<polyline clip-path=\"url(#clip362)\" style=\"stroke:#000000; stroke-linecap:round; stroke-linejoin:round; stroke-width:2; stroke-opacity:0.1; fill:none\" points=\"566.146,1486.45 566.146,47.2441 \"/>\n",
       "<polyline clip-path=\"url(#clip362)\" style=\"stroke:#000000; stroke-linecap:round; stroke-linejoin:round; stroke-width:2; stroke-opacity:0.1; fill:none\" points=\"1062.43,1486.45 1062.43,47.2441 \"/>\n",
       "<polyline clip-path=\"url(#clip362)\" style=\"stroke:#000000; stroke-linecap:round; stroke-linejoin:round; stroke-width:2; stroke-opacity:0.1; fill:none\" points=\"1558.71,1486.45 1558.71,47.2441 \"/>\n",
       "<polyline clip-path=\"url(#clip362)\" style=\"stroke:#000000; stroke-linecap:round; stroke-linejoin:round; stroke-width:2; stroke-opacity:0.1; fill:none\" points=\"2054.99,1486.45 2054.99,47.2441 \"/>\n",
       "<polyline clip-path=\"url(#clip360)\" style=\"stroke:#000000; stroke-linecap:round; stroke-linejoin:round; stroke-width:4; stroke-opacity:1; fill:none\" points=\"169.121,1486.45 2352.76,1486.45 \"/>\n",
       "<polyline clip-path=\"url(#clip360)\" style=\"stroke:#000000; stroke-linecap:round; stroke-linejoin:round; stroke-width:4; stroke-opacity:1; fill:none\" points=\"566.146,1486.45 566.146,1467.55 \"/>\n",
       "<polyline clip-path=\"url(#clip360)\" style=\"stroke:#000000; stroke-linecap:round; stroke-linejoin:round; stroke-width:4; stroke-opacity:1; fill:none\" points=\"1062.43,1486.45 1062.43,1467.55 \"/>\n",
       "<polyline clip-path=\"url(#clip360)\" style=\"stroke:#000000; stroke-linecap:round; stroke-linejoin:round; stroke-width:4; stroke-opacity:1; fill:none\" points=\"1558.71,1486.45 1558.71,1467.55 \"/>\n",
       "<polyline clip-path=\"url(#clip360)\" style=\"stroke:#000000; stroke-linecap:round; stroke-linejoin:round; stroke-width:4; stroke-opacity:1; fill:none\" points=\"2054.99,1486.45 2054.99,1467.55 \"/>\n",
       "<path clip-path=\"url(#clip360)\" d=\"M543.53 1517.37 Q539.919 1517.37 538.09 1520.93 Q536.285 1524.47 536.285 1531.6 Q536.285 1538.71 538.09 1542.27 Q539.919 1545.82 543.53 1545.82 Q547.164 1545.82 548.97 1542.27 Q550.799 1538.71 550.799 1531.6 Q550.799 1524.47 548.97 1520.93 Q547.164 1517.37 543.53 1517.37 M543.53 1513.66 Q549.34 1513.66 552.396 1518.27 Q555.475 1522.85 555.475 1531.6 Q555.475 1540.33 552.396 1544.94 Q549.34 1549.52 543.53 1549.52 Q537.72 1549.52 534.641 1544.94 Q531.586 1540.33 531.586 1531.6 Q531.586 1522.85 534.641 1518.27 Q537.72 1513.66 543.53 1513.66 Z\" fill=\"#000000\" fill-rule=\"nonzero\" fill-opacity=\"1\" /><path clip-path=\"url(#clip360)\" d=\"M563.692 1542.97 L568.576 1542.97 L568.576 1548.85 L563.692 1548.85 L563.692 1542.97 Z\" fill=\"#000000\" fill-rule=\"nonzero\" fill-opacity=\"1\" /><path clip-path=\"url(#clip360)\" d=\"M588.761 1517.37 Q585.15 1517.37 583.322 1520.93 Q581.516 1524.47 581.516 1531.6 Q581.516 1538.71 583.322 1542.27 Q585.15 1545.82 588.761 1545.82 Q592.396 1545.82 594.201 1542.27 Q596.03 1538.71 596.03 1531.6 Q596.03 1524.47 594.201 1520.93 Q592.396 1517.37 588.761 1517.37 M588.761 1513.66 Q594.572 1513.66 597.627 1518.27 Q600.706 1522.85 600.706 1531.6 Q600.706 1540.33 597.627 1544.94 Q594.572 1549.52 588.761 1549.52 Q582.951 1549.52 579.873 1544.94 Q576.817 1540.33 576.817 1531.6 Q576.817 1522.85 579.873 1518.27 Q582.951 1513.66 588.761 1513.66 Z\" fill=\"#000000\" fill-rule=\"nonzero\" fill-opacity=\"1\" /><path clip-path=\"url(#clip360)\" d=\"M1034.16 1544.91 L1050.48 1544.91 L1050.48 1548.85 L1028.54 1548.85 L1028.54 1544.91 Q1031.2 1542.16 1035.78 1537.53 Q1040.39 1532.88 1041.57 1531.53 Q1043.82 1529.01 1044.69 1527.27 Q1045.6 1525.51 1045.6 1523.82 Q1045.6 1521.07 1043.65 1519.33 Q1041.73 1517.6 1038.63 1517.6 Q1036.43 1517.6 1033.98 1518.36 Q1031.55 1519.13 1028.77 1520.68 L1028.77 1515.95 Q1031.59 1514.82 1034.05 1514.24 Q1036.5 1513.66 1038.54 1513.66 Q1043.91 1513.66 1047.1 1516.35 Q1050.3 1519.03 1050.3 1523.52 Q1050.3 1525.65 1049.49 1527.57 Q1048.7 1529.47 1046.59 1532.07 Q1046.01 1532.74 1042.91 1535.95 Q1039.81 1539.15 1034.16 1544.91 Z\" fill=\"#000000\" fill-rule=\"nonzero\" fill-opacity=\"1\" /><path clip-path=\"url(#clip360)\" d=\"M1060.3 1542.97 L1065.18 1542.97 L1065.18 1548.85 L1060.3 1548.85 L1060.3 1542.97 Z\" fill=\"#000000\" fill-rule=\"nonzero\" fill-opacity=\"1\" /><path clip-path=\"url(#clip360)\" d=\"M1075.41 1514.29 L1093.77 1514.29 L1093.77 1518.22 L1079.69 1518.22 L1079.69 1526.7 Q1080.71 1526.35 1081.73 1526.19 Q1082.75 1526 1083.77 1526 Q1089.56 1526 1092.94 1529.17 Q1096.32 1532.34 1096.32 1537.76 Q1096.32 1543.34 1092.84 1546.44 Q1089.37 1549.52 1083.05 1549.52 Q1080.88 1549.52 1078.61 1549.15 Q1076.36 1548.78 1073.95 1548.04 L1073.95 1543.34 Q1076.04 1544.47 1078.26 1545.03 Q1080.48 1545.58 1082.96 1545.58 Q1086.96 1545.58 1089.3 1543.48 Q1091.64 1541.37 1091.64 1537.76 Q1091.64 1534.15 1089.3 1532.04 Q1086.96 1529.94 1082.96 1529.94 Q1081.08 1529.94 1079.21 1530.35 Q1077.36 1530.77 1075.41 1531.65 L1075.41 1514.29 Z\" fill=\"#000000\" fill-rule=\"nonzero\" fill-opacity=\"1\" /><path clip-path=\"url(#clip360)\" d=\"M1525.87 1514.29 L1544.23 1514.29 L1544.23 1518.22 L1530.15 1518.22 L1530.15 1526.7 Q1531.17 1526.35 1532.19 1526.19 Q1533.21 1526 1534.23 1526 Q1540.01 1526 1543.39 1529.17 Q1546.77 1532.34 1546.77 1537.76 Q1546.77 1543.34 1543.3 1546.44 Q1539.83 1549.52 1533.51 1549.52 Q1531.33 1549.52 1529.07 1549.15 Q1526.82 1548.78 1524.41 1548.04 L1524.41 1543.34 Q1526.5 1544.47 1528.72 1545.03 Q1530.94 1545.58 1533.42 1545.58 Q1537.42 1545.58 1539.76 1543.48 Q1542.1 1541.37 1542.1 1537.76 Q1542.1 1534.15 1539.76 1532.04 Q1537.42 1529.94 1533.42 1529.94 Q1531.54 1529.94 1529.67 1530.35 Q1527.82 1530.77 1525.87 1531.65 L1525.87 1514.29 Z\" fill=\"#000000\" fill-rule=\"nonzero\" fill-opacity=\"1\" /><path clip-path=\"url(#clip360)\" d=\"M1555.99 1542.97 L1560.87 1542.97 L1560.87 1548.85 L1555.99 1548.85 L1555.99 1542.97 Z\" fill=\"#000000\" fill-rule=\"nonzero\" fill-opacity=\"1\" /><path clip-path=\"url(#clip360)\" d=\"M1581.06 1517.37 Q1577.45 1517.37 1575.62 1520.93 Q1573.81 1524.47 1573.81 1531.6 Q1573.81 1538.71 1575.62 1542.27 Q1577.45 1545.82 1581.06 1545.82 Q1584.69 1545.82 1586.5 1542.27 Q1588.32 1538.71 1588.32 1531.6 Q1588.32 1524.47 1586.5 1520.93 Q1584.69 1517.37 1581.06 1517.37 M1581.06 1513.66 Q1586.87 1513.66 1589.92 1518.27 Q1593 1522.85 1593 1531.6 Q1593 1540.33 1589.92 1544.94 Q1586.87 1549.52 1581.06 1549.52 Q1575.25 1549.52 1572.17 1544.94 Q1569.11 1540.33 1569.11 1531.6 Q1569.11 1522.85 1572.17 1518.27 Q1575.25 1513.66 1581.06 1513.66 Z\" fill=\"#000000\" fill-rule=\"nonzero\" fill-opacity=\"1\" /><path clip-path=\"url(#clip360)\" d=\"M2021.31 1514.29 L2043.53 1514.29 L2043.53 1516.28 L2030.98 1548.85 L2026.1 1548.85 L2037.9 1518.22 L2021.31 1518.22 L2021.31 1514.29 Z\" fill=\"#000000\" fill-rule=\"nonzero\" fill-opacity=\"1\" /><path clip-path=\"url(#clip360)\" d=\"M2052.65 1542.97 L2057.53 1542.97 L2057.53 1548.85 L2052.65 1548.85 L2052.65 1542.97 Z\" fill=\"#000000\" fill-rule=\"nonzero\" fill-opacity=\"1\" /><path clip-path=\"url(#clip360)\" d=\"M2067.77 1514.29 L2086.12 1514.29 L2086.12 1518.22 L2072.05 1518.22 L2072.05 1526.7 Q2073.07 1526.35 2074.08 1526.19 Q2075.1 1526 2076.12 1526 Q2081.91 1526 2085.29 1529.17 Q2088.67 1532.34 2088.67 1537.76 Q2088.67 1543.34 2085.2 1546.44 Q2081.72 1549.52 2075.4 1549.52 Q2073.23 1549.52 2070.96 1549.15 Q2068.71 1548.78 2066.31 1548.04 L2066.31 1543.34 Q2068.39 1544.47 2070.61 1545.03 Q2072.83 1545.58 2075.31 1545.58 Q2079.32 1545.58 2081.65 1543.48 Q2083.99 1541.37 2083.99 1537.76 Q2083.99 1534.15 2081.65 1532.04 Q2079.32 1529.94 2075.31 1529.94 Q2073.44 1529.94 2071.56 1530.35 Q2069.71 1530.77 2067.77 1531.65 L2067.77 1514.29 Z\" fill=\"#000000\" fill-rule=\"nonzero\" fill-opacity=\"1\" /><polyline clip-path=\"url(#clip362)\" style=\"stroke:#000000; stroke-linecap:round; stroke-linejoin:round; stroke-width:2; stroke-opacity:0.1; fill:none\" points=\"169.121,1486.45 2352.76,1486.45 \"/>\n",
       "<polyline clip-path=\"url(#clip362)\" style=\"stroke:#000000; stroke-linecap:round; stroke-linejoin:round; stroke-width:2; stroke-opacity:0.1; fill:none\" points=\"169.121,1198.61 2352.76,1198.61 \"/>\n",
       "<polyline clip-path=\"url(#clip362)\" style=\"stroke:#000000; stroke-linecap:round; stroke-linejoin:round; stroke-width:2; stroke-opacity:0.1; fill:none\" points=\"169.121,910.766 2352.76,910.766 \"/>\n",
       "<polyline clip-path=\"url(#clip362)\" style=\"stroke:#000000; stroke-linecap:round; stroke-linejoin:round; stroke-width:2; stroke-opacity:0.1; fill:none\" points=\"169.121,622.926 2352.76,622.926 \"/>\n",
       "<polyline clip-path=\"url(#clip362)\" style=\"stroke:#000000; stroke-linecap:round; stroke-linejoin:round; stroke-width:2; stroke-opacity:0.1; fill:none\" points=\"169.121,335.085 2352.76,335.085 \"/>\n",
       "<polyline clip-path=\"url(#clip362)\" style=\"stroke:#000000; stroke-linecap:round; stroke-linejoin:round; stroke-width:2; stroke-opacity:0.1; fill:none\" points=\"169.121,47.2441 2352.76,47.2441 \"/>\n",
       "<polyline clip-path=\"url(#clip360)\" style=\"stroke:#000000; stroke-linecap:round; stroke-linejoin:round; stroke-width:4; stroke-opacity:1; fill:none\" points=\"169.121,1486.45 169.121,47.2441 \"/>\n",
       "<polyline clip-path=\"url(#clip360)\" style=\"stroke:#000000; stroke-linecap:round; stroke-linejoin:round; stroke-width:4; stroke-opacity:1; fill:none\" points=\"169.121,1486.45 188.019,1486.45 \"/>\n",
       "<polyline clip-path=\"url(#clip360)\" style=\"stroke:#000000; stroke-linecap:round; stroke-linejoin:round; stroke-width:4; stroke-opacity:1; fill:none\" points=\"169.121,1198.61 188.019,1198.61 \"/>\n",
       "<polyline clip-path=\"url(#clip360)\" style=\"stroke:#000000; stroke-linecap:round; stroke-linejoin:round; stroke-width:4; stroke-opacity:1; fill:none\" points=\"169.121,910.766 188.019,910.766 \"/>\n",
       "<polyline clip-path=\"url(#clip360)\" style=\"stroke:#000000; stroke-linecap:round; stroke-linejoin:round; stroke-width:4; stroke-opacity:1; fill:none\" points=\"169.121,622.926 188.019,622.926 \"/>\n",
       "<polyline clip-path=\"url(#clip360)\" style=\"stroke:#000000; stroke-linecap:round; stroke-linejoin:round; stroke-width:4; stroke-opacity:1; fill:none\" points=\"169.121,335.085 188.019,335.085 \"/>\n",
       "<polyline clip-path=\"url(#clip360)\" style=\"stroke:#000000; stroke-linecap:round; stroke-linejoin:round; stroke-width:4; stroke-opacity:1; fill:none\" points=\"169.121,47.2441 188.019,47.2441 \"/>\n",
       "<path clip-path=\"url(#clip360)\" d=\"M121.177 1472.25 Q117.566 1472.25 115.737 1475.81 Q113.932 1479.35 113.932 1486.48 Q113.932 1493.59 115.737 1497.15 Q117.566 1500.7 121.177 1500.7 Q124.811 1500.7 126.617 1497.15 Q128.445 1493.59 128.445 1486.48 Q128.445 1479.35 126.617 1475.81 Q124.811 1472.25 121.177 1472.25 M121.177 1468.54 Q126.987 1468.54 130.043 1473.15 Q133.121 1477.73 133.121 1486.48 Q133.121 1495.21 130.043 1499.82 Q126.987 1504.4 121.177 1504.4 Q115.367 1504.4 112.288 1499.82 Q109.233 1495.21 109.233 1486.48 Q109.233 1477.73 112.288 1473.15 Q115.367 1468.54 121.177 1468.54 Z\" fill=\"#000000\" fill-rule=\"nonzero\" fill-opacity=\"1\" /><path clip-path=\"url(#clip360)\" d=\"M85.0429 1211.95 L101.362 1211.95 L101.362 1215.89 L79.4179 1215.89 L79.4179 1211.95 Q82.0799 1209.2 86.6632 1204.57 Q91.2697 1199.91 92.4502 1198.57 Q94.6956 1196.05 95.5752 1194.31 Q96.478 1192.55 96.478 1190.86 Q96.478 1188.11 94.5336 1186.37 Q92.6123 1184.64 89.5104 1184.64 Q87.3114 1184.64 84.8577 1185.4 Q82.4271 1186.17 79.6494 1187.72 L79.6494 1182.99 Q82.4734 1181.86 84.9271 1181.28 Q87.3808 1180.7 89.4178 1180.7 Q94.7882 1180.7 97.9826 1183.39 Q101.177 1186.07 101.177 1190.56 Q101.177 1192.69 100.367 1194.61 Q99.5798 1196.51 97.4734 1199.1 Q96.8947 1199.78 93.7928 1202.99 Q90.691 1206.19 85.0429 1211.95 Z\" fill=\"#000000\" fill-rule=\"nonzero\" fill-opacity=\"1\" /><path clip-path=\"url(#clip360)\" d=\"M121.177 1184.41 Q117.566 1184.41 115.737 1187.97 Q113.932 1191.51 113.932 1198.64 Q113.932 1205.75 115.737 1209.31 Q117.566 1212.85 121.177 1212.85 Q124.811 1212.85 126.617 1209.31 Q128.445 1205.75 128.445 1198.64 Q128.445 1191.51 126.617 1187.97 Q124.811 1184.41 121.177 1184.41 M121.177 1180.7 Q126.987 1180.7 130.043 1185.31 Q133.121 1189.89 133.121 1198.64 Q133.121 1207.37 130.043 1211.98 Q126.987 1216.56 121.177 1216.56 Q115.367 1216.56 112.288 1211.98 Q109.233 1207.37 109.233 1198.64 Q109.233 1189.89 112.288 1185.31 Q115.367 1180.7 121.177 1180.7 Z\" fill=\"#000000\" fill-rule=\"nonzero\" fill-opacity=\"1\" /><path clip-path=\"url(#clip360)\" d=\"M93.8623 897.56 L82.0568 916.009 L93.8623 916.009 L93.8623 897.56 M92.6354 893.486 L98.515 893.486 L98.515 916.009 L103.446 916.009 L103.446 919.898 L98.515 919.898 L98.515 928.046 L93.8623 928.046 L93.8623 919.898 L78.2605 919.898 L78.2605 915.384 L92.6354 893.486 Z\" fill=\"#000000\" fill-rule=\"nonzero\" fill-opacity=\"1\" /><path clip-path=\"url(#clip360)\" d=\"M121.177 896.565 Q117.566 896.565 115.737 900.13 Q113.932 903.671 113.932 910.801 Q113.932 917.908 115.737 921.472 Q117.566 925.014 121.177 925.014 Q124.811 925.014 126.617 921.472 Q128.445 917.908 128.445 910.801 Q128.445 903.671 126.617 900.13 Q124.811 896.565 121.177 896.565 M121.177 892.861 Q126.987 892.861 130.043 897.468 Q133.121 902.051 133.121 910.801 Q133.121 919.528 130.043 924.134 Q126.987 928.718 121.177 928.718 Q115.367 928.718 112.288 924.134 Q109.233 919.528 109.233 910.801 Q109.233 902.051 112.288 897.468 Q115.367 892.861 121.177 892.861 Z\" fill=\"#000000\" fill-rule=\"nonzero\" fill-opacity=\"1\" /><path clip-path=\"url(#clip360)\" d=\"M91.5938 621.062 Q88.4456 621.062 86.5938 623.215 Q84.7651 625.368 84.7651 629.118 Q84.7651 632.845 86.5938 635.02 Q88.4456 637.173 91.5938 637.173 Q94.7419 637.173 96.5706 635.02 Q98.4224 632.845 98.4224 629.118 Q98.4224 625.368 96.5706 623.215 Q94.7419 621.062 91.5938 621.062 M100.876 606.409 L100.876 610.669 Q99.1169 609.835 97.3113 609.396 Q95.5289 608.956 93.7697 608.956 Q89.1401 608.956 86.6864 612.081 Q84.2558 615.206 83.9086 621.525 Q85.2743 619.511 87.3345 618.446 Q89.3947 617.359 91.8715 617.359 Q97.0798 617.359 100.089 620.53 Q103.121 623.678 103.121 629.118 Q103.121 634.442 99.9733 637.659 Q96.8252 640.877 91.5938 640.877 Q85.5984 640.877 82.4271 636.294 Q79.2559 631.687 79.2559 622.96 Q79.2559 614.766 83.1447 609.905 Q87.0336 605.021 93.5845 605.021 Q95.3437 605.021 97.1261 605.368 Q98.9317 605.715 100.876 606.409 Z\" fill=\"#000000\" fill-rule=\"nonzero\" fill-opacity=\"1\" /><path clip-path=\"url(#clip360)\" d=\"M121.177 608.724 Q117.566 608.724 115.737 612.289 Q113.932 615.831 113.932 622.96 Q113.932 630.067 115.737 633.632 Q117.566 637.173 121.177 637.173 Q124.811 637.173 126.617 633.632 Q128.445 630.067 128.445 622.96 Q128.445 615.831 126.617 612.289 Q124.811 608.724 121.177 608.724 M121.177 605.021 Q126.987 605.021 130.043 609.627 Q133.121 614.21 133.121 622.96 Q133.121 631.687 130.043 636.294 Q126.987 640.877 121.177 640.877 Q115.367 640.877 112.288 636.294 Q109.233 631.687 109.233 622.96 Q109.233 614.21 112.288 609.627 Q115.367 605.021 121.177 605.021 Z\" fill=\"#000000\" fill-rule=\"nonzero\" fill-opacity=\"1\" /><path clip-path=\"url(#clip360)\" d=\"M91.0151 335.953 Q87.6817 335.953 85.7605 337.735 Q83.8623 339.518 83.8623 342.643 Q83.8623 345.768 85.7605 347.55 Q87.6817 349.332 91.0151 349.332 Q94.3484 349.332 96.2697 347.55 Q98.1909 345.745 98.1909 342.643 Q98.1909 339.518 96.2697 337.735 Q94.3715 335.953 91.0151 335.953 M86.3392 333.962 Q83.3299 333.221 81.6401 331.161 Q79.9735 329.101 79.9735 326.138 Q79.9735 321.995 82.9133 319.587 Q85.8762 317.18 91.0151 317.18 Q96.1771 317.18 99.1169 319.587 Q102.057 321.995 102.057 326.138 Q102.057 329.101 100.367 331.161 Q98.7002 333.221 95.7141 333.962 Q99.0937 334.749 100.969 337.041 Q102.867 339.333 102.867 342.643 Q102.867 347.666 99.7882 350.351 Q96.7326 353.036 91.0151 353.036 Q85.2975 353.036 82.2188 350.351 Q79.1633 347.666 79.1633 342.643 Q79.1633 339.333 81.0614 337.041 Q82.9595 334.749 86.3392 333.962 M84.6262 326.578 Q84.6262 329.263 86.2929 330.768 Q87.9827 332.272 91.0151 332.272 Q94.0243 332.272 95.7141 330.768 Q97.4271 329.263 97.4271 326.578 Q97.4271 323.893 95.7141 322.388 Q94.0243 320.884 91.0151 320.884 Q87.9827 320.884 86.2929 322.388 Q84.6262 323.893 84.6262 326.578 Z\" fill=\"#000000\" fill-rule=\"nonzero\" fill-opacity=\"1\" /><path clip-path=\"url(#clip360)\" d=\"M121.177 320.884 Q117.566 320.884 115.737 324.448 Q113.932 327.99 113.932 335.12 Q113.932 342.226 115.737 345.791 Q117.566 349.332 121.177 349.332 Q124.811 349.332 126.617 345.791 Q128.445 342.226 128.445 335.12 Q128.445 327.99 126.617 324.448 Q124.811 320.884 121.177 320.884 M121.177 317.18 Q126.987 317.18 130.043 321.786 Q133.121 326.37 133.121 335.12 Q133.121 343.846 130.043 348.453 Q126.987 353.036 121.177 353.036 Q115.367 353.036 112.288 348.453 Q109.233 343.846 109.233 335.12 Q109.233 326.37 112.288 321.786 Q115.367 317.18 121.177 317.18 Z\" fill=\"#000000\" fill-rule=\"nonzero\" fill-opacity=\"1\" /><path clip-path=\"url(#clip360)\" d=\"M51.6634 60.5889 L59.3023 60.5889 L59.3023 34.2233 L50.9921 35.89 L50.9921 31.6308 L59.256 29.9641 L63.9319 29.9641 L63.9319 60.5889 L71.5707 60.5889 L71.5707 64.5241 L51.6634 64.5241 L51.6634 60.5889 Z\" fill=\"#000000\" fill-rule=\"nonzero\" fill-opacity=\"1\" /><path clip-path=\"url(#clip360)\" d=\"M91.0151 33.0428 Q87.404 33.0428 85.5753 36.6076 Q83.7697 40.1492 83.7697 47.2788 Q83.7697 54.3853 85.5753 57.9501 Q87.404 61.4917 91.0151 61.4917 Q94.6493 61.4917 96.4548 57.9501 Q98.2835 54.3853 98.2835 47.2788 Q98.2835 40.1492 96.4548 36.6076 Q94.6493 33.0428 91.0151 33.0428 M91.0151 29.3391 Q96.8252 29.3391 99.8808 33.9456 Q102.959 38.5289 102.959 47.2788 Q102.959 56.0056 99.8808 60.6121 Q96.8252 65.1954 91.0151 65.1954 Q85.2049 65.1954 82.1262 60.6121 Q79.0707 56.0056 79.0707 47.2788 Q79.0707 38.5289 82.1262 33.9456 Q85.2049 29.3391 91.0151 29.3391 Z\" fill=\"#000000\" fill-rule=\"nonzero\" fill-opacity=\"1\" /><path clip-path=\"url(#clip360)\" d=\"M121.177 33.0428 Q117.566 33.0428 115.737 36.6076 Q113.932 40.1492 113.932 47.2788 Q113.932 54.3853 115.737 57.9501 Q117.566 61.4917 121.177 61.4917 Q124.811 61.4917 126.617 57.9501 Q128.445 54.3853 128.445 47.2788 Q128.445 40.1492 126.617 36.6076 Q124.811 33.0428 121.177 33.0428 M121.177 29.3391 Q126.987 29.3391 130.043 33.9456 Q133.121 38.5289 133.121 47.2788 Q133.121 56.0056 130.043 60.6121 Q126.987 65.1954 121.177 65.1954 Q115.367 65.1954 112.288 60.6121 Q109.233 56.0056 109.233 47.2788 Q109.233 38.5289 112.288 33.9456 Q115.367 29.3391 121.177 29.3391 Z\" fill=\"#000000\" fill-rule=\"nonzero\" fill-opacity=\"1\" /><polyline clip-path=\"url(#clip362)\" style=\"stroke:#009af9; stroke-linecap:round; stroke-linejoin:round; stroke-width:4; stroke-opacity:1; fill:none\" points=\"169.121,-39257.4 188.973,-24198.7 208.824,-15001.2 228.675,-9290.32 248.526,-5686.12 268.377,-3374.47 288.229,-1867.96 308.08,-870.521 327.931,-199.731 347.782,258.393 367.634,576.056 387.485,799.618 407.336,959.236 427.187,1074.78 447.038,1159.49 466.89,1222.3 486.741,1269.32 506.592,1304.7 526.443,1331.35 546.295,1351.25 566.146,1365.71 585.997,1375.61 605.848,1381.38 625.699,1383.16 645.551,1380.67 665.402,1373.24 685.253,1359.67 705.104,1337.94 724.956,1304.95 744.807,1255.82 764.658,1182.98 784.509,1074.62 804.36,912.035 824.212,665.348 844.063,286.246 863.914,-304.418 883.765,-1238.02 903.617,-2735.58 923.468,-5174.12 943.319,-9205.84 963.17,-15975.2 983.021,-27519.8 1002.87,-47521 1022.72,-82730.2 1042.58,-145717 1062.43,-260247 \"/>\n",
       "<path clip-path=\"url(#clip360)\" d=\"M1985.03 198.898 L2279.97 198.898 L2279.97 95.2176 L1985.03 95.2176  Z\" fill=\"#ffffff\" fill-rule=\"evenodd\" fill-opacity=\"1\"/>\n",
       "<polyline clip-path=\"url(#clip360)\" style=\"stroke:#000000; stroke-linecap:round; stroke-linejoin:round; stroke-width:4; stroke-opacity:1; fill:none\" points=\"1985.03,198.898 2279.97,198.898 2279.97,95.2176 1985.03,95.2176 1985.03,198.898 \"/>\n",
       "<polyline clip-path=\"url(#clip360)\" style=\"stroke:#009af9; stroke-linecap:round; stroke-linejoin:round; stroke-width:4; stroke-opacity:1; fill:none\" points=\"2009.29,147.058 2154.87,147.058 \"/>\n",
       "<path clip-path=\"url(#clip360)\" d=\"M2195.64 128.319 L2195.64 131.861 L2191.56 131.861 Q2189.27 131.861 2188.37 132.787 Q2187.49 133.713 2187.49 136.12 L2187.49 138.412 L2194.5 138.412 L2194.5 141.722 L2187.49 141.722 L2187.49 164.338 L2183.21 164.338 L2183.21 141.722 L2179.13 141.722 L2179.13 138.412 L2183.21 138.412 L2183.21 136.606 Q2183.21 132.278 2185.22 130.31 Q2187.23 128.319 2191.61 128.319 L2195.64 128.319 Z\" fill=\"#000000\" fill-rule=\"nonzero\" fill-opacity=\"1\" /><path clip-path=\"url(#clip360)\" d=\"M2209.43 128.366 Q2206.33 133.69 2204.83 138.898 Q2203.32 144.106 2203.32 149.453 Q2203.32 154.801 2204.83 160.055 Q2206.35 165.287 2209.43 170.588 L2205.73 170.588 Q2202.26 165.148 2200.52 159.893 Q2198.81 154.639 2198.81 149.453 Q2198.81 144.291 2200.52 139.06 Q2202.23 133.828 2205.73 128.366 L2209.43 128.366 Z\" fill=\"#000000\" fill-rule=\"nonzero\" fill-opacity=\"1\" /><path clip-path=\"url(#clip360)\" d=\"M2239.25 138.412 L2229.87 151.027 L2239.73 164.338 L2234.71 164.338 L2227.16 154.152 L2219.62 164.338 L2214.59 164.338 L2224.66 150.773 L2215.45 138.412 L2220.47 138.412 L2227.35 147.648 L2234.22 138.412 L2239.25 138.412 Z\" fill=\"#000000\" fill-rule=\"nonzero\" fill-opacity=\"1\" /><path clip-path=\"url(#clip360)\" d=\"M2245.08 128.366 L2248.78 128.366 Q2252.26 133.828 2253.97 139.06 Q2255.71 144.291 2255.71 149.453 Q2255.71 154.639 2253.97 159.893 Q2252.26 165.148 2248.78 170.588 L2245.08 170.588 Q2248.16 165.287 2249.66 160.055 Q2251.19 154.801 2251.19 149.453 Q2251.19 144.106 2249.66 138.898 Q2248.16 133.69 2245.08 128.366 Z\" fill=\"#000000\" fill-rule=\"nonzero\" fill-opacity=\"1\" /></svg>\n"
      ]
     },
     "execution_count": 12,
     "metadata": {},
     "output_type": "execute_result"
    }
   ],
   "source": [
    "using ForwardDiff, Plots, Optim\n",
    "import ForwardDiff: derivative\n",
    "\n",
    "# Т.к. Optim предназначен для многомерной оптимизации функцию переписываем как функцию векторного аргумента\n",
    "f(x) =(exp(x[1]^2+2)+1)*(x[1]^2 - x[1] + 1)\n",
    "\n",
    "x = -2:0.1:2.5\n",
    "plot(x, f.(x), xlims = (-2, 9), ylims = (-0, 100), label = \"f(x)\")"
   ]
  },
  {
   "cell_type": "code",
   "execution_count": 13,
   "id": "f15d58a5",
   "metadata": {
    "slideshow": {
     "slide_type": "slide"
    }
   },
   "outputs": [
    {
     "data": {
      "text/plain": [
       " * Status: success\n",
       "\n",
       " * Candidate solution\n",
       "    Final objective value:     7.176412e+00\n",
       "\n",
       " * Found with\n",
       "    Algorithm:     BFGS\n",
       "\n",
       " * Convergence measures\n",
       "    |x - x'|               = 2.51e-06 ≰ 0.0e+00\n",
       "    |x - x'|/|x'|          = 8.56e-06 ≰ 0.0e+00\n",
       "    |f(x) - f(x')|         = 9.20e-11 ≰ 0.0e+00\n",
       "    |f(x) - f(x')|/|f(x')| = 1.28e-11 ≰ 0.0e+00\n",
       "    |g(x)|                 = 7.33e-11 ≤ 1.0e-08\n",
       "\n",
       " * Work counters\n",
       "    Seconds run:   0  (vs limit Inf)\n",
       "    Iterations:    3\n",
       "    f(x) calls:    10\n",
       "    ∇f(x) calls:   10\n"
      ]
     },
     "execution_count": 13,
     "metadata": {},
     "output_type": "execute_result"
    }
   ],
   "source": [
    "result = optimize(f, [0.], BFGS())"
   ]
  },
  {
   "cell_type": "code",
   "execution_count": 14,
   "id": "a0cc2f8c",
   "metadata": {
    "slideshow": {
     "slide_type": "slide"
    }
   },
   "outputs": [
    {
     "name": "stdout",
     "output_type": "stream",
     "text": [
      "Результат: [0.2932236499886721]\n"
     ]
    },
    {
     "data": {
      "image/svg+xml": [
       "<?xml version=\"1.0\" encoding=\"utf-8\"?>\n",
       "<svg xmlns=\"http://www.w3.org/2000/svg\" xmlns:xlink=\"http://www.w3.org/1999/xlink\" width=\"600\" height=\"400\" viewBox=\"0 0 2400 1600\">\n",
       "<defs>\n",
       "  <clipPath id=\"clip400\">\n",
       "    <rect x=\"0\" y=\"0\" width=\"2400\" height=\"1600\"/>\n",
       "  </clipPath>\n",
       "</defs>\n",
       "<path clip-path=\"url(#clip400)\" d=\"M0 1600 L2400 1600 L2400 0 L0 0  Z\" fill=\"#ffffff\" fill-rule=\"evenodd\" fill-opacity=\"1\"/>\n",
       "<defs>\n",
       "  <clipPath id=\"clip401\">\n",
       "    <rect x=\"480\" y=\"0\" width=\"1681\" height=\"1600\"/>\n",
       "  </clipPath>\n",
       "</defs>\n",
       "<path clip-path=\"url(#clip400)\" d=\"M169.121 1486.45 L2352.76 1486.45 L2352.76 47.2441 L169.121 47.2441  Z\" fill=\"#ffffff\" fill-rule=\"evenodd\" fill-opacity=\"1\"/>\n",
       "<defs>\n",
       "  <clipPath id=\"clip402\">\n",
       "    <rect x=\"169\" y=\"47\" width=\"2185\" height=\"1440\"/>\n",
       "  </clipPath>\n",
       "</defs>\n",
       "<polyline clip-path=\"url(#clip402)\" style=\"stroke:#000000; stroke-linecap:round; stroke-linejoin:round; stroke-width:2; stroke-opacity:0.1; fill:none\" points=\"566.146,1486.45 566.146,47.2441 \"/>\n",
       "<polyline clip-path=\"url(#clip402)\" style=\"stroke:#000000; stroke-linecap:round; stroke-linejoin:round; stroke-width:2; stroke-opacity:0.1; fill:none\" points=\"1062.43,1486.45 1062.43,47.2441 \"/>\n",
       "<polyline clip-path=\"url(#clip402)\" style=\"stroke:#000000; stroke-linecap:round; stroke-linejoin:round; stroke-width:2; stroke-opacity:0.1; fill:none\" points=\"1558.71,1486.45 1558.71,47.2441 \"/>\n",
       "<polyline clip-path=\"url(#clip402)\" style=\"stroke:#000000; stroke-linecap:round; stroke-linejoin:round; stroke-width:2; stroke-opacity:0.1; fill:none\" points=\"2054.99,1486.45 2054.99,47.2441 \"/>\n",
       "<polyline clip-path=\"url(#clip400)\" style=\"stroke:#000000; stroke-linecap:round; stroke-linejoin:round; stroke-width:4; stroke-opacity:1; fill:none\" points=\"169.121,1486.45 2352.76,1486.45 \"/>\n",
       "<polyline clip-path=\"url(#clip400)\" style=\"stroke:#000000; stroke-linecap:round; stroke-linejoin:round; stroke-width:4; stroke-opacity:1; fill:none\" points=\"566.146,1486.45 566.146,1467.55 \"/>\n",
       "<polyline clip-path=\"url(#clip400)\" style=\"stroke:#000000; stroke-linecap:round; stroke-linejoin:round; stroke-width:4; stroke-opacity:1; fill:none\" points=\"1062.43,1486.45 1062.43,1467.55 \"/>\n",
       "<polyline clip-path=\"url(#clip400)\" style=\"stroke:#000000; stroke-linecap:round; stroke-linejoin:round; stroke-width:4; stroke-opacity:1; fill:none\" points=\"1558.71,1486.45 1558.71,1467.55 \"/>\n",
       "<polyline clip-path=\"url(#clip400)\" style=\"stroke:#000000; stroke-linecap:round; stroke-linejoin:round; stroke-width:4; stroke-opacity:1; fill:none\" points=\"2054.99,1486.45 2054.99,1467.55 \"/>\n",
       "<path clip-path=\"url(#clip400)\" d=\"M543.53 1517.37 Q539.919 1517.37 538.09 1520.93 Q536.285 1524.47 536.285 1531.6 Q536.285 1538.71 538.09 1542.27 Q539.919 1545.82 543.53 1545.82 Q547.164 1545.82 548.97 1542.27 Q550.799 1538.71 550.799 1531.6 Q550.799 1524.47 548.97 1520.93 Q547.164 1517.37 543.53 1517.37 M543.53 1513.66 Q549.34 1513.66 552.396 1518.27 Q555.475 1522.85 555.475 1531.6 Q555.475 1540.33 552.396 1544.94 Q549.34 1549.52 543.53 1549.52 Q537.72 1549.52 534.641 1544.94 Q531.586 1540.33 531.586 1531.6 Q531.586 1522.85 534.641 1518.27 Q537.72 1513.66 543.53 1513.66 Z\" fill=\"#000000\" fill-rule=\"nonzero\" fill-opacity=\"1\" /><path clip-path=\"url(#clip400)\" d=\"M563.692 1542.97 L568.576 1542.97 L568.576 1548.85 L563.692 1548.85 L563.692 1542.97 Z\" fill=\"#000000\" fill-rule=\"nonzero\" fill-opacity=\"1\" /><path clip-path=\"url(#clip400)\" d=\"M588.761 1517.37 Q585.15 1517.37 583.322 1520.93 Q581.516 1524.47 581.516 1531.6 Q581.516 1538.71 583.322 1542.27 Q585.15 1545.82 588.761 1545.82 Q592.396 1545.82 594.201 1542.27 Q596.03 1538.71 596.03 1531.6 Q596.03 1524.47 594.201 1520.93 Q592.396 1517.37 588.761 1517.37 M588.761 1513.66 Q594.572 1513.66 597.627 1518.27 Q600.706 1522.85 600.706 1531.6 Q600.706 1540.33 597.627 1544.94 Q594.572 1549.52 588.761 1549.52 Q582.951 1549.52 579.873 1544.94 Q576.817 1540.33 576.817 1531.6 Q576.817 1522.85 579.873 1518.27 Q582.951 1513.66 588.761 1513.66 Z\" fill=\"#000000\" fill-rule=\"nonzero\" fill-opacity=\"1\" /><path clip-path=\"url(#clip400)\" d=\"M1034.16 1544.91 L1050.48 1544.91 L1050.48 1548.85 L1028.54 1548.85 L1028.54 1544.91 Q1031.2 1542.16 1035.78 1537.53 Q1040.39 1532.88 1041.57 1531.53 Q1043.82 1529.01 1044.69 1527.27 Q1045.6 1525.51 1045.6 1523.82 Q1045.6 1521.07 1043.65 1519.33 Q1041.73 1517.6 1038.63 1517.6 Q1036.43 1517.6 1033.98 1518.36 Q1031.55 1519.13 1028.77 1520.68 L1028.77 1515.95 Q1031.59 1514.82 1034.05 1514.24 Q1036.5 1513.66 1038.54 1513.66 Q1043.91 1513.66 1047.1 1516.35 Q1050.3 1519.03 1050.3 1523.52 Q1050.3 1525.65 1049.49 1527.57 Q1048.7 1529.47 1046.59 1532.07 Q1046.01 1532.74 1042.91 1535.95 Q1039.81 1539.15 1034.16 1544.91 Z\" fill=\"#000000\" fill-rule=\"nonzero\" fill-opacity=\"1\" /><path clip-path=\"url(#clip400)\" d=\"M1060.3 1542.97 L1065.18 1542.97 L1065.18 1548.85 L1060.3 1548.85 L1060.3 1542.97 Z\" fill=\"#000000\" fill-rule=\"nonzero\" fill-opacity=\"1\" /><path clip-path=\"url(#clip400)\" d=\"M1075.41 1514.29 L1093.77 1514.29 L1093.77 1518.22 L1079.69 1518.22 L1079.69 1526.7 Q1080.71 1526.35 1081.73 1526.19 Q1082.75 1526 1083.77 1526 Q1089.56 1526 1092.94 1529.17 Q1096.32 1532.34 1096.32 1537.76 Q1096.32 1543.34 1092.84 1546.44 Q1089.37 1549.52 1083.05 1549.52 Q1080.88 1549.52 1078.61 1549.15 Q1076.36 1548.78 1073.95 1548.04 L1073.95 1543.34 Q1076.04 1544.47 1078.26 1545.03 Q1080.48 1545.58 1082.96 1545.58 Q1086.96 1545.58 1089.3 1543.48 Q1091.64 1541.37 1091.64 1537.76 Q1091.64 1534.15 1089.3 1532.04 Q1086.96 1529.94 1082.96 1529.94 Q1081.08 1529.94 1079.21 1530.35 Q1077.36 1530.77 1075.41 1531.65 L1075.41 1514.29 Z\" fill=\"#000000\" fill-rule=\"nonzero\" fill-opacity=\"1\" /><path clip-path=\"url(#clip400)\" d=\"M1525.87 1514.29 L1544.23 1514.29 L1544.23 1518.22 L1530.15 1518.22 L1530.15 1526.7 Q1531.17 1526.35 1532.19 1526.19 Q1533.21 1526 1534.23 1526 Q1540.01 1526 1543.39 1529.17 Q1546.77 1532.34 1546.77 1537.76 Q1546.77 1543.34 1543.3 1546.44 Q1539.83 1549.52 1533.51 1549.52 Q1531.33 1549.52 1529.07 1549.15 Q1526.82 1548.78 1524.41 1548.04 L1524.41 1543.34 Q1526.5 1544.47 1528.72 1545.03 Q1530.94 1545.58 1533.42 1545.58 Q1537.42 1545.58 1539.76 1543.48 Q1542.1 1541.37 1542.1 1537.76 Q1542.1 1534.15 1539.76 1532.04 Q1537.42 1529.94 1533.42 1529.94 Q1531.54 1529.94 1529.67 1530.35 Q1527.82 1530.77 1525.87 1531.65 L1525.87 1514.29 Z\" fill=\"#000000\" fill-rule=\"nonzero\" fill-opacity=\"1\" /><path clip-path=\"url(#clip400)\" d=\"M1555.99 1542.97 L1560.87 1542.97 L1560.87 1548.85 L1555.99 1548.85 L1555.99 1542.97 Z\" fill=\"#000000\" fill-rule=\"nonzero\" fill-opacity=\"1\" /><path clip-path=\"url(#clip400)\" d=\"M1581.06 1517.37 Q1577.45 1517.37 1575.62 1520.93 Q1573.81 1524.47 1573.81 1531.6 Q1573.81 1538.71 1575.62 1542.27 Q1577.45 1545.82 1581.06 1545.82 Q1584.69 1545.82 1586.5 1542.27 Q1588.32 1538.71 1588.32 1531.6 Q1588.32 1524.47 1586.5 1520.93 Q1584.69 1517.37 1581.06 1517.37 M1581.06 1513.66 Q1586.87 1513.66 1589.92 1518.27 Q1593 1522.85 1593 1531.6 Q1593 1540.33 1589.92 1544.94 Q1586.87 1549.52 1581.06 1549.52 Q1575.25 1549.52 1572.17 1544.94 Q1569.11 1540.33 1569.11 1531.6 Q1569.11 1522.85 1572.17 1518.27 Q1575.25 1513.66 1581.06 1513.66 Z\" fill=\"#000000\" fill-rule=\"nonzero\" fill-opacity=\"1\" /><path clip-path=\"url(#clip400)\" d=\"M2021.31 1514.29 L2043.53 1514.29 L2043.53 1516.28 L2030.98 1548.85 L2026.1 1548.85 L2037.9 1518.22 L2021.31 1518.22 L2021.31 1514.29 Z\" fill=\"#000000\" fill-rule=\"nonzero\" fill-opacity=\"1\" /><path clip-path=\"url(#clip400)\" d=\"M2052.65 1542.97 L2057.53 1542.97 L2057.53 1548.85 L2052.65 1548.85 L2052.65 1542.97 Z\" fill=\"#000000\" fill-rule=\"nonzero\" fill-opacity=\"1\" /><path clip-path=\"url(#clip400)\" d=\"M2067.77 1514.29 L2086.12 1514.29 L2086.12 1518.22 L2072.05 1518.22 L2072.05 1526.7 Q2073.07 1526.35 2074.08 1526.19 Q2075.1 1526 2076.12 1526 Q2081.91 1526 2085.29 1529.17 Q2088.67 1532.34 2088.67 1537.76 Q2088.67 1543.34 2085.2 1546.44 Q2081.72 1549.52 2075.4 1549.52 Q2073.23 1549.52 2070.96 1549.15 Q2068.71 1548.78 2066.31 1548.04 L2066.31 1543.34 Q2068.39 1544.47 2070.61 1545.03 Q2072.83 1545.58 2075.31 1545.58 Q2079.32 1545.58 2081.65 1543.48 Q2083.99 1541.37 2083.99 1537.76 Q2083.99 1534.15 2081.65 1532.04 Q2079.32 1529.94 2075.31 1529.94 Q2073.44 1529.94 2071.56 1530.35 Q2069.71 1530.77 2067.77 1531.65 L2067.77 1514.29 Z\" fill=\"#000000\" fill-rule=\"nonzero\" fill-opacity=\"1\" /><polyline clip-path=\"url(#clip402)\" style=\"stroke:#000000; stroke-linecap:round; stroke-linejoin:round; stroke-width:2; stroke-opacity:0.1; fill:none\" points=\"169.121,1486.45 2352.76,1486.45 \"/>\n",
       "<polyline clip-path=\"url(#clip402)\" style=\"stroke:#000000; stroke-linecap:round; stroke-linejoin:round; stroke-width:2; stroke-opacity:0.1; fill:none\" points=\"169.121,1198.61 2352.76,1198.61 \"/>\n",
       "<polyline clip-path=\"url(#clip402)\" style=\"stroke:#000000; stroke-linecap:round; stroke-linejoin:round; stroke-width:2; stroke-opacity:0.1; fill:none\" points=\"169.121,910.766 2352.76,910.766 \"/>\n",
       "<polyline clip-path=\"url(#clip402)\" style=\"stroke:#000000; stroke-linecap:round; stroke-linejoin:round; stroke-width:2; stroke-opacity:0.1; fill:none\" points=\"169.121,622.926 2352.76,622.926 \"/>\n",
       "<polyline clip-path=\"url(#clip402)\" style=\"stroke:#000000; stroke-linecap:round; stroke-linejoin:round; stroke-width:2; stroke-opacity:0.1; fill:none\" points=\"169.121,335.085 2352.76,335.085 \"/>\n",
       "<polyline clip-path=\"url(#clip402)\" style=\"stroke:#000000; stroke-linecap:round; stroke-linejoin:round; stroke-width:2; stroke-opacity:0.1; fill:none\" points=\"169.121,47.2441 2352.76,47.2441 \"/>\n",
       "<polyline clip-path=\"url(#clip400)\" style=\"stroke:#000000; stroke-linecap:round; stroke-linejoin:round; stroke-width:4; stroke-opacity:1; fill:none\" points=\"169.121,1486.45 169.121,47.2441 \"/>\n",
       "<polyline clip-path=\"url(#clip400)\" style=\"stroke:#000000; stroke-linecap:round; stroke-linejoin:round; stroke-width:4; stroke-opacity:1; fill:none\" points=\"169.121,1486.45 188.019,1486.45 \"/>\n",
       "<polyline clip-path=\"url(#clip400)\" style=\"stroke:#000000; stroke-linecap:round; stroke-linejoin:round; stroke-width:4; stroke-opacity:1; fill:none\" points=\"169.121,1198.61 188.019,1198.61 \"/>\n",
       "<polyline clip-path=\"url(#clip400)\" style=\"stroke:#000000; stroke-linecap:round; stroke-linejoin:round; stroke-width:4; stroke-opacity:1; fill:none\" points=\"169.121,910.766 188.019,910.766 \"/>\n",
       "<polyline clip-path=\"url(#clip400)\" style=\"stroke:#000000; stroke-linecap:round; stroke-linejoin:round; stroke-width:4; stroke-opacity:1; fill:none\" points=\"169.121,622.926 188.019,622.926 \"/>\n",
       "<polyline clip-path=\"url(#clip400)\" style=\"stroke:#000000; stroke-linecap:round; stroke-linejoin:round; stroke-width:4; stroke-opacity:1; fill:none\" points=\"169.121,335.085 188.019,335.085 \"/>\n",
       "<polyline clip-path=\"url(#clip400)\" style=\"stroke:#000000; stroke-linecap:round; stroke-linejoin:round; stroke-width:4; stroke-opacity:1; fill:none\" points=\"169.121,47.2441 188.019,47.2441 \"/>\n",
       "<path clip-path=\"url(#clip400)\" d=\"M121.177 1472.25 Q117.566 1472.25 115.737 1475.81 Q113.932 1479.35 113.932 1486.48 Q113.932 1493.59 115.737 1497.15 Q117.566 1500.7 121.177 1500.7 Q124.811 1500.7 126.617 1497.15 Q128.445 1493.59 128.445 1486.48 Q128.445 1479.35 126.617 1475.81 Q124.811 1472.25 121.177 1472.25 M121.177 1468.54 Q126.987 1468.54 130.043 1473.15 Q133.121 1477.73 133.121 1486.48 Q133.121 1495.21 130.043 1499.82 Q126.987 1504.4 121.177 1504.4 Q115.367 1504.4 112.288 1499.82 Q109.233 1495.21 109.233 1486.48 Q109.233 1477.73 112.288 1473.15 Q115.367 1468.54 121.177 1468.54 Z\" fill=\"#000000\" fill-rule=\"nonzero\" fill-opacity=\"1\" /><path clip-path=\"url(#clip400)\" d=\"M85.0429 1211.95 L101.362 1211.95 L101.362 1215.89 L79.4179 1215.89 L79.4179 1211.95 Q82.0799 1209.2 86.6632 1204.57 Q91.2697 1199.91 92.4502 1198.57 Q94.6956 1196.05 95.5752 1194.31 Q96.478 1192.55 96.478 1190.86 Q96.478 1188.11 94.5336 1186.37 Q92.6123 1184.64 89.5104 1184.64 Q87.3114 1184.64 84.8577 1185.4 Q82.4271 1186.17 79.6494 1187.72 L79.6494 1182.99 Q82.4734 1181.86 84.9271 1181.28 Q87.3808 1180.7 89.4178 1180.7 Q94.7882 1180.7 97.9826 1183.39 Q101.177 1186.07 101.177 1190.56 Q101.177 1192.69 100.367 1194.61 Q99.5798 1196.51 97.4734 1199.1 Q96.8947 1199.78 93.7928 1202.99 Q90.691 1206.19 85.0429 1211.95 Z\" fill=\"#000000\" fill-rule=\"nonzero\" fill-opacity=\"1\" /><path clip-path=\"url(#clip400)\" d=\"M121.177 1184.41 Q117.566 1184.41 115.737 1187.97 Q113.932 1191.51 113.932 1198.64 Q113.932 1205.75 115.737 1209.31 Q117.566 1212.85 121.177 1212.85 Q124.811 1212.85 126.617 1209.31 Q128.445 1205.75 128.445 1198.64 Q128.445 1191.51 126.617 1187.97 Q124.811 1184.41 121.177 1184.41 M121.177 1180.7 Q126.987 1180.7 130.043 1185.31 Q133.121 1189.89 133.121 1198.64 Q133.121 1207.37 130.043 1211.98 Q126.987 1216.56 121.177 1216.56 Q115.367 1216.56 112.288 1211.98 Q109.233 1207.37 109.233 1198.64 Q109.233 1189.89 112.288 1185.31 Q115.367 1180.7 121.177 1180.7 Z\" fill=\"#000000\" fill-rule=\"nonzero\" fill-opacity=\"1\" /><path clip-path=\"url(#clip400)\" d=\"M93.8623 897.56 L82.0568 916.009 L93.8623 916.009 L93.8623 897.56 M92.6354 893.486 L98.515 893.486 L98.515 916.009 L103.446 916.009 L103.446 919.898 L98.515 919.898 L98.515 928.046 L93.8623 928.046 L93.8623 919.898 L78.2605 919.898 L78.2605 915.384 L92.6354 893.486 Z\" fill=\"#000000\" fill-rule=\"nonzero\" fill-opacity=\"1\" /><path clip-path=\"url(#clip400)\" d=\"M121.177 896.565 Q117.566 896.565 115.737 900.13 Q113.932 903.671 113.932 910.801 Q113.932 917.908 115.737 921.472 Q117.566 925.014 121.177 925.014 Q124.811 925.014 126.617 921.472 Q128.445 917.908 128.445 910.801 Q128.445 903.671 126.617 900.13 Q124.811 896.565 121.177 896.565 M121.177 892.861 Q126.987 892.861 130.043 897.468 Q133.121 902.051 133.121 910.801 Q133.121 919.528 130.043 924.134 Q126.987 928.718 121.177 928.718 Q115.367 928.718 112.288 924.134 Q109.233 919.528 109.233 910.801 Q109.233 902.051 112.288 897.468 Q115.367 892.861 121.177 892.861 Z\" fill=\"#000000\" fill-rule=\"nonzero\" fill-opacity=\"1\" /><path clip-path=\"url(#clip400)\" d=\"M91.5938 621.062 Q88.4456 621.062 86.5938 623.215 Q84.7651 625.368 84.7651 629.118 Q84.7651 632.845 86.5938 635.02 Q88.4456 637.173 91.5938 637.173 Q94.7419 637.173 96.5706 635.02 Q98.4224 632.845 98.4224 629.118 Q98.4224 625.368 96.5706 623.215 Q94.7419 621.062 91.5938 621.062 M100.876 606.409 L100.876 610.669 Q99.1169 609.835 97.3113 609.396 Q95.5289 608.956 93.7697 608.956 Q89.1401 608.956 86.6864 612.081 Q84.2558 615.206 83.9086 621.525 Q85.2743 619.511 87.3345 618.446 Q89.3947 617.359 91.8715 617.359 Q97.0798 617.359 100.089 620.53 Q103.121 623.678 103.121 629.118 Q103.121 634.442 99.9733 637.659 Q96.8252 640.877 91.5938 640.877 Q85.5984 640.877 82.4271 636.294 Q79.2559 631.687 79.2559 622.96 Q79.2559 614.766 83.1447 609.905 Q87.0336 605.021 93.5845 605.021 Q95.3437 605.021 97.1261 605.368 Q98.9317 605.715 100.876 606.409 Z\" fill=\"#000000\" fill-rule=\"nonzero\" fill-opacity=\"1\" /><path clip-path=\"url(#clip400)\" d=\"M121.177 608.724 Q117.566 608.724 115.737 612.289 Q113.932 615.831 113.932 622.96 Q113.932 630.067 115.737 633.632 Q117.566 637.173 121.177 637.173 Q124.811 637.173 126.617 633.632 Q128.445 630.067 128.445 622.96 Q128.445 615.831 126.617 612.289 Q124.811 608.724 121.177 608.724 M121.177 605.021 Q126.987 605.021 130.043 609.627 Q133.121 614.21 133.121 622.96 Q133.121 631.687 130.043 636.294 Q126.987 640.877 121.177 640.877 Q115.367 640.877 112.288 636.294 Q109.233 631.687 109.233 622.96 Q109.233 614.21 112.288 609.627 Q115.367 605.021 121.177 605.021 Z\" fill=\"#000000\" fill-rule=\"nonzero\" fill-opacity=\"1\" /><path clip-path=\"url(#clip400)\" d=\"M91.0151 335.953 Q87.6817 335.953 85.7605 337.735 Q83.8623 339.518 83.8623 342.643 Q83.8623 345.768 85.7605 347.55 Q87.6817 349.332 91.0151 349.332 Q94.3484 349.332 96.2697 347.55 Q98.1909 345.745 98.1909 342.643 Q98.1909 339.518 96.2697 337.735 Q94.3715 335.953 91.0151 335.953 M86.3392 333.962 Q83.3299 333.221 81.6401 331.161 Q79.9735 329.101 79.9735 326.138 Q79.9735 321.995 82.9133 319.587 Q85.8762 317.18 91.0151 317.18 Q96.1771 317.18 99.1169 319.587 Q102.057 321.995 102.057 326.138 Q102.057 329.101 100.367 331.161 Q98.7002 333.221 95.7141 333.962 Q99.0937 334.749 100.969 337.041 Q102.867 339.333 102.867 342.643 Q102.867 347.666 99.7882 350.351 Q96.7326 353.036 91.0151 353.036 Q85.2975 353.036 82.2188 350.351 Q79.1633 347.666 79.1633 342.643 Q79.1633 339.333 81.0614 337.041 Q82.9595 334.749 86.3392 333.962 M84.6262 326.578 Q84.6262 329.263 86.2929 330.768 Q87.9827 332.272 91.0151 332.272 Q94.0243 332.272 95.7141 330.768 Q97.4271 329.263 97.4271 326.578 Q97.4271 323.893 95.7141 322.388 Q94.0243 320.884 91.0151 320.884 Q87.9827 320.884 86.2929 322.388 Q84.6262 323.893 84.6262 326.578 Z\" fill=\"#000000\" fill-rule=\"nonzero\" fill-opacity=\"1\" /><path clip-path=\"url(#clip400)\" d=\"M121.177 320.884 Q117.566 320.884 115.737 324.448 Q113.932 327.99 113.932 335.12 Q113.932 342.226 115.737 345.791 Q117.566 349.332 121.177 349.332 Q124.811 349.332 126.617 345.791 Q128.445 342.226 128.445 335.12 Q128.445 327.99 126.617 324.448 Q124.811 320.884 121.177 320.884 M121.177 317.18 Q126.987 317.18 130.043 321.786 Q133.121 326.37 133.121 335.12 Q133.121 343.846 130.043 348.453 Q126.987 353.036 121.177 353.036 Q115.367 353.036 112.288 348.453 Q109.233 343.846 109.233 335.12 Q109.233 326.37 112.288 321.786 Q115.367 317.18 121.177 317.18 Z\" fill=\"#000000\" fill-rule=\"nonzero\" fill-opacity=\"1\" /><path clip-path=\"url(#clip400)\" d=\"M51.6634 60.5889 L59.3023 60.5889 L59.3023 34.2233 L50.9921 35.89 L50.9921 31.6308 L59.256 29.9641 L63.9319 29.9641 L63.9319 60.5889 L71.5707 60.5889 L71.5707 64.5241 L51.6634 64.5241 L51.6634 60.5889 Z\" fill=\"#000000\" fill-rule=\"nonzero\" fill-opacity=\"1\" /><path clip-path=\"url(#clip400)\" d=\"M91.0151 33.0428 Q87.404 33.0428 85.5753 36.6076 Q83.7697 40.1492 83.7697 47.2788 Q83.7697 54.3853 85.5753 57.9501 Q87.404 61.4917 91.0151 61.4917 Q94.6493 61.4917 96.4548 57.9501 Q98.2835 54.3853 98.2835 47.2788 Q98.2835 40.1492 96.4548 36.6076 Q94.6493 33.0428 91.0151 33.0428 M91.0151 29.3391 Q96.8252 29.3391 99.8808 33.9456 Q102.959 38.5289 102.959 47.2788 Q102.959 56.0056 99.8808 60.6121 Q96.8252 65.1954 91.0151 65.1954 Q85.2049 65.1954 82.1262 60.6121 Q79.0707 56.0056 79.0707 47.2788 Q79.0707 38.5289 82.1262 33.9456 Q85.2049 29.3391 91.0151 29.3391 Z\" fill=\"#000000\" fill-rule=\"nonzero\" fill-opacity=\"1\" /><path clip-path=\"url(#clip400)\" d=\"M121.177 33.0428 Q117.566 33.0428 115.737 36.6076 Q113.932 40.1492 113.932 47.2788 Q113.932 54.3853 115.737 57.9501 Q117.566 61.4917 121.177 61.4917 Q124.811 61.4917 126.617 57.9501 Q128.445 54.3853 128.445 47.2788 Q128.445 40.1492 126.617 36.6076 Q124.811 33.0428 121.177 33.0428 M121.177 29.3391 Q126.987 29.3391 130.043 33.9456 Q133.121 38.5289 133.121 47.2788 Q133.121 56.0056 130.043 60.6121 Q126.987 65.1954 121.177 65.1954 Q115.367 65.1954 112.288 60.6121 Q109.233 56.0056 109.233 47.2788 Q109.233 38.5289 112.288 33.9456 Q115.367 29.3391 121.177 29.3391 Z\" fill=\"#000000\" fill-rule=\"nonzero\" fill-opacity=\"1\" /><polyline clip-path=\"url(#clip402)\" style=\"stroke:#009af9; stroke-linecap:round; stroke-linejoin:round; stroke-width:4; stroke-opacity:1; fill:none\" points=\"169.121,-39257.4 188.973,-24198.7 208.824,-15001.2 228.675,-9290.32 248.526,-5686.12 268.377,-3374.47 288.229,-1867.96 308.08,-870.521 327.931,-199.731 347.782,258.393 367.634,576.056 387.485,799.618 407.336,959.236 427.187,1074.78 447.038,1159.49 466.89,1222.3 486.741,1269.32 506.592,1304.7 526.443,1331.35 546.295,1351.25 566.146,1365.71 585.997,1375.61 605.848,1381.38 625.699,1383.16 645.551,1380.67 665.402,1373.24 685.253,1359.67 705.104,1337.94 724.956,1304.95 744.807,1255.82 764.658,1182.98 784.509,1074.62 804.36,912.035 824.212,665.348 844.063,286.246 863.914,-304.418 883.765,-1238.02 903.617,-2735.58 923.468,-5174.12 943.319,-9205.84 963.17,-15975.2 983.021,-27519.8 1002.87,-47521 1022.72,-82730.2 1042.58,-145717 1062.43,-260247 \"/>\n",
       "<polyline clip-path=\"url(#clip402)\" style=\"stroke:#e26f46; stroke-linecap:round; stroke-linejoin:round; stroke-width:4; stroke-opacity:1; fill:none\" points=\"624.354,2925.65 624.354,-1391.96 \"/>\n",
       "<path clip-path=\"url(#clip400)\" d=\"M1985.03 250.738 L2279.97 250.738 L2279.97 95.2176 L1985.03 95.2176  Z\" fill=\"#ffffff\" fill-rule=\"evenodd\" fill-opacity=\"1\"/>\n",
       "<polyline clip-path=\"url(#clip400)\" style=\"stroke:#000000; stroke-linecap:round; stroke-linejoin:round; stroke-width:4; stroke-opacity:1; fill:none\" points=\"1985.03,250.738 2279.97,250.738 2279.97,95.2176 1985.03,95.2176 1985.03,250.738 \"/>\n",
       "<polyline clip-path=\"url(#clip400)\" style=\"stroke:#009af9; stroke-linecap:round; stroke-linejoin:round; stroke-width:4; stroke-opacity:1; fill:none\" points=\"2009.29,147.058 2154.87,147.058 \"/>\n",
       "<path clip-path=\"url(#clip400)\" d=\"M2195.64 128.319 L2195.64 131.861 L2191.56 131.861 Q2189.27 131.861 2188.37 132.787 Q2187.49 133.713 2187.49 136.12 L2187.49 138.412 L2194.5 138.412 L2194.5 141.722 L2187.49 141.722 L2187.49 164.338 L2183.21 164.338 L2183.21 141.722 L2179.13 141.722 L2179.13 138.412 L2183.21 138.412 L2183.21 136.606 Q2183.21 132.278 2185.22 130.31 Q2187.23 128.319 2191.61 128.319 L2195.64 128.319 Z\" fill=\"#000000\" fill-rule=\"nonzero\" fill-opacity=\"1\" /><path clip-path=\"url(#clip400)\" d=\"M2209.43 128.366 Q2206.33 133.69 2204.83 138.898 Q2203.32 144.106 2203.32 149.453 Q2203.32 154.801 2204.83 160.055 Q2206.35 165.287 2209.43 170.588 L2205.73 170.588 Q2202.26 165.148 2200.52 159.893 Q2198.81 154.639 2198.81 149.453 Q2198.81 144.291 2200.52 139.06 Q2202.23 133.828 2205.73 128.366 L2209.43 128.366 Z\" fill=\"#000000\" fill-rule=\"nonzero\" fill-opacity=\"1\" /><path clip-path=\"url(#clip400)\" d=\"M2239.25 138.412 L2229.87 151.027 L2239.73 164.338 L2234.71 164.338 L2227.16 154.152 L2219.62 164.338 L2214.59 164.338 L2224.66 150.773 L2215.45 138.412 L2220.47 138.412 L2227.35 147.648 L2234.22 138.412 L2239.25 138.412 Z\" fill=\"#000000\" fill-rule=\"nonzero\" fill-opacity=\"1\" /><path clip-path=\"url(#clip400)\" d=\"M2245.08 128.366 L2248.78 128.366 Q2252.26 133.828 2253.97 139.06 Q2255.71 144.291 2255.71 149.453 Q2255.71 154.639 2253.97 159.893 Q2252.26 165.148 2248.78 170.588 L2245.08 170.588 Q2248.16 165.287 2249.66 160.055 Q2251.19 154.801 2251.19 149.453 Q2251.19 144.106 2249.66 138.898 Q2248.16 133.69 2245.08 128.366 Z\" fill=\"#000000\" fill-rule=\"nonzero\" fill-opacity=\"1\" /><polyline clip-path=\"url(#clip400)\" style=\"stroke:#e26f46; stroke-linecap:round; stroke-linejoin:round; stroke-width:4; stroke-opacity:1; fill:none\" points=\"2009.29,198.898 2154.87,198.898 \"/>\n",
       "<path clip-path=\"url(#clip400)\" d=\"M2192.97 218.585 Q2191.17 223.215 2189.46 224.627 Q2187.74 226.039 2184.87 226.039 L2181.47 226.039 L2181.47 222.474 L2183.97 222.474 Q2185.73 222.474 2186.7 221.64 Q2187.67 220.807 2188.85 217.705 L2189.62 215.761 L2179.13 190.252 L2183.65 190.252 L2191.75 210.529 L2199.85 190.252 L2204.36 190.252 L2192.97 218.585 Z\" fill=\"#000000\" fill-rule=\"nonzero\" fill-opacity=\"1\" /><path clip-path=\"url(#clip400)\" d=\"M2214.87 212.242 L2231.19 212.242 L2231.19 216.178 L2209.25 216.178 L2209.25 212.242 Q2211.91 209.488 2216.49 204.858 Q2221.1 200.205 2222.28 198.863 Q2224.53 196.34 2225.4 194.604 Q2226.31 192.844 2226.31 191.155 Q2226.31 188.4 2224.36 186.664 Q2222.44 184.928 2219.34 184.928 Q2217.14 184.928 2214.69 185.692 Q2212.26 186.455 2209.48 188.006 L2209.48 183.284 Q2212.3 182.15 2214.76 181.571 Q2217.21 180.993 2219.25 180.993 Q2224.62 180.993 2227.81 183.678 Q2231.01 186.363 2231.01 190.854 Q2231.01 192.983 2230.2 194.905 Q2229.41 196.803 2227.3 199.395 Q2226.72 200.067 2223.62 203.284 Q2220.52 206.479 2214.87 212.242 Z\" fill=\"#000000\" fill-rule=\"nonzero\" fill-opacity=\"1\" /></svg>\n"
      ]
     },
     "execution_count": 14,
     "metadata": {},
     "output_type": "execute_result"
    }
   ],
   "source": [
    "println(\"Результат: \", Optim.minimizer(result))\n",
    "vline!(Optim.minimizer(result))"
   ]
  },
  {
   "cell_type": "code",
   "execution_count": 15,
   "id": "8dd6976f",
   "metadata": {
    "slideshow": {
     "slide_type": "slide"
    }
   },
   "outputs": [
    {
     "data": {
      "text/plain": [
       "0.29322364999247974"
      ]
     },
     "execution_count": 15,
     "metadata": {},
     "output_type": "execute_result"
    }
   ],
   "source": [
    "using ForwardDiff, Plots, Roots\n",
    "import ForwardDiff: derivative\n",
    "\n",
    "f(x) =(exp(x^2+2)+1)*(x^2 - x + 1)\n",
    "∂f(x) = derivative(f, x)\n",
    "find_zero(∂f, 1.0)"
   ]
  },
  {
   "cell_type": "markdown",
   "id": "960eac39",
   "metadata": {
    "slideshow": {
     "slide_type": "slide"
    }
   },
   "source": [
    "**Выпуклость и вогнутость графика функции, точки перегиба**\n",
    "\n",
    "Назовём хордой отрезок, соединяющий две различные точки графика. \n",
    "\n",
    "График функции является **выпуклым** на некотором интервале, если он расположен не ниже любой хорды данного интервала.\n",
    "\n",
    "График функции являются **вогнутым** на интервале, если он расположен не выше любой хорды этого интервала.\n",
    "\n",
    "Точка графика, в которой он меняет выпуклость на вогнутость или вогнутость на выпуклость, называется **точкой перегиба**. \n",
    "\n"
   ]
  },
  {
   "cell_type": "markdown",
   "id": "512532d7",
   "metadata": {
    "slideshow": {
     "slide_type": "slide"
    }
   },
   "source": [
    "**Как найти интервалы выпуклости, интервалы вогнутости и точки перегиба графика?**\n",
    "\n",
    "Выпуклость/вогнутость графика характеризует вторая производная функции.\n",
    "\n",
    "Пусть функция $y = f(x)$ дважды дифференцируема на некотором интервале. Тогда:\n",
    "\n",
    "– если вторая производная $f''(x)<0$ на интервале, то график функции $f(x)$ является выпуклым на данном интервале;\n",
    "\n",
    "– если вторая производная $f''(x)>0$ на интервале, то график функции $f(x)$ является вогнутым на данном интервале.\n",
    "\n",
    "На счёт знаков второй производной: «–» показывает, что «в график функции нельзя налить воду» (выпуклость), \n",
    "а «+» – «даёт такую возможность» (вогнутость)."
   ]
  },
  {
   "cell_type": "markdown",
   "id": "dfd4cf69",
   "metadata": {
    "slideshow": {
     "slide_type": "slide"
    }
   },
   "source": [
    "**Необходимое условие перегиба:**\n",
    "\n",
    "- Если в точке $x_0$ есть перегиб графика функции $y=f(x)$, то:\n",
    "$f''(x_0)=0$ либо значения $f''(x_0)$ не существует.\n",
    "\n",
    "Данная фраза подразумевает, что функция $y=f(x)$ непрерывна в точке $x_0$ и в случае $f''(x_0)=0$  – дважды дифференцируема в некоторой её окрестности.\n",
    "\n",
    "Необходимость условия говорит о том, что обратное справедливо не всегда. То есть из равенства $f''(x_0)=0$ (либо небытия значения  $f''(x_0)$) ещё не следует существования перегиба графика функции  в точке . Но и в той, и в другой ситуации $x_0$ называют критической точкой второй производной."
   ]
  },
  {
   "cell_type": "markdown",
   "id": "150315e4",
   "metadata": {
    "slideshow": {
     "slide_type": "slide"
    }
   },
   "source": [
    "**Достаточное условие перегиба:**\n",
    "\n",
    "- Если вторая производная $y=f''(x)$ при переходе через точку  $x_0$ меняет знак, то в данной точке существует перегиб графика функции $y=f(x)$.\n",
    "\n",
    "Точки перегиба может не быть вовсе, как, например, у функции $y = x^2$. Парабола будет вогнута на всей области определения, тк $f''(x) = 2 > 0$ для любого $x$. \n",
    "\n",
    "Похожая ситуация у экспоненциальной функции $y = e^x$, у которой вторая производная $f''(x) = e^x>0$ для любого значения икс. "
   ]
  },
  {
   "cell_type": "markdown",
   "id": "8ed9268c",
   "metadata": {
    "slideshow": {
     "slide_type": "slide"
    }
   },
   "source": [
    "Исследуем на выпуклость/вогнутость график логарифмической функции $f(x) = ln(x)$: \n",
    "\n",
    "$f'(x) = \\frac{1}{x}$\n",
    "\n",
    "$f''(x) = -\\frac{1}{x^2}<0$\n",
    "\n",
    "Таким образом, ветка логарифма является выпуклой на интервале $(0, +\\infty)$. Вторая производная определена и на промежутке $(-\\infty, 0)$, но рассматривать его нельзя, поскольку данный интервал не входит в область определения функции $f(x) = ln (x)$. "
   ]
  },
  {
   "cell_type": "markdown",
   "id": "88f77271",
   "metadata": {
    "slideshow": {
     "slide_type": "slide"
    }
   },
   "source": [
    "В общем виде, алгоритм нахождения выпуклости/вогнутости похож на поиск точек эстремума: \n",
    "\n",
    "1. Находим область определения функции и точки разрыва.\n",
    "\n",
    "2. Находим критические точки, для этого берем вторую производную и приравниваем ее к нулю.\n",
    "\n",
    "3. Методом интервалов определяем знаки второй производной и рассматриваем те промежутки, которые входят в область определения функции."
   ]
  },
  {
   "cell_type": "markdown",
   "id": "33722fdf",
   "metadata": {
    "slideshow": {
     "slide_type": "slide"
    }
   },
   "source": [
    "**ДЗ**\n",
    "\n",
    "1. Исследовать функцию: $f(x)= x^3 + 3x^2 - 5x - 1$\n",
    "\n",
    "2. Найти производную функции: $f(x)= \\frac{sin(x)}{ln(x^2+1)}$\n",
    "\n",
    "3. Найти вторую производную функции: $f(x)= e^{x^2+1}$, найти уравнение касательной в точке $a = 1$\n",
    "\n",
    "\n",
    "* Дополнительное задание исследовать функцию:\n",
    "\n",
    "$f(x)= (x^3 + x^2)/(x-1) + x^2$\n",
    "\n",
    "\n"
   ]
  },
  {
   "cell_type": "markdown",
   "id": "210aa999",
   "metadata": {
    "slideshow": {
     "slide_type": "slide"
    }
   },
   "source": [
    "Исследование функции должно включать:\n",
    "\n",
    "* Найти область определения\n",
    "* Найти область значений\n",
    "* Начертить график функции\n",
    "* Нули (корни) функции \n",
    "* Чётность/нечётность\n",
    "* Периодичность\n",
    "* Непрерывность\n",
    "    - Если есть — точки разрыва, их типы; вертикальные асимптоты.\n",
    "* Первая производная, её нули (критические точки)\n",
    "* Экстремумы: максимумы и минимумы\n",
    "* Промежутки монотонности\n",
    "* Вторая производная, её нули\n",
    "* Точки перегиба, промежутки выпуклости\n",
    "* Поведение на бесконечности, наклонные асимптоты"
   ]
  },
  {
   "cell_type": "code",
   "execution_count": 8,
   "id": "d8fb1015",
   "metadata": {
    "slideshow": {
     "slide_type": "slide"
    }
   },
   "outputs": [
    {
     "data": {
      "image/svg+xml": [
       "<?xml version=\"1.0\" encoding=\"utf-8\"?>\n",
       "<svg xmlns=\"http://www.w3.org/2000/svg\" xmlns:xlink=\"http://www.w3.org/1999/xlink\" width=\"600\" height=\"400\" viewBox=\"0 0 2400 1600\">\n",
       "<defs>\n",
       "  <clipPath id=\"clip720\">\n",
       "    <rect x=\"0\" y=\"0\" width=\"2400\" height=\"1600\"/>\n",
       "  </clipPath>\n",
       "</defs>\n",
       "<path clip-path=\"url(#clip720)\" d=\"M0 1600 L2400 1600 L2400 0 L0 0  Z\" fill=\"#ffffff\" fill-rule=\"evenodd\" fill-opacity=\"1\"/>\n",
       "<defs>\n",
       "  <clipPath id=\"clip721\">\n",
       "    <rect x=\"480\" y=\"0\" width=\"1681\" height=\"1600\"/>\n",
       "  </clipPath>\n",
       "</defs>\n",
       "<path clip-path=\"url(#clip720)\" d=\"M169.121 1486.45 L2352.76 1486.45 L2352.76 47.2441 L169.121 47.2441  Z\" fill=\"#ffffff\" fill-rule=\"evenodd\" fill-opacity=\"1\"/>\n",
       "<defs>\n",
       "  <clipPath id=\"clip722\">\n",
       "    <rect x=\"169\" y=\"47\" width=\"2185\" height=\"1440\"/>\n",
       "  </clipPath>\n",
       "</defs>\n",
       "<polyline clip-path=\"url(#clip722)\" style=\"stroke:#000000; stroke-linecap:round; stroke-linejoin:round; stroke-width:2; stroke-opacity:0.1; fill:none\" points=\"436.926,1486.45 436.926,47.2441 \"/>\n",
       "<polyline clip-path=\"url(#clip722)\" style=\"stroke:#000000; stroke-linecap:round; stroke-linejoin:round; stroke-width:2; stroke-opacity:0.1; fill:none\" points=\"848.932,1486.45 848.932,47.2441 \"/>\n",
       "<polyline clip-path=\"url(#clip722)\" style=\"stroke:#000000; stroke-linecap:round; stroke-linejoin:round; stroke-width:2; stroke-opacity:0.1; fill:none\" points=\"1260.94,1486.45 1260.94,47.2441 \"/>\n",
       "<polyline clip-path=\"url(#clip722)\" style=\"stroke:#000000; stroke-linecap:round; stroke-linejoin:round; stroke-width:2; stroke-opacity:0.1; fill:none\" points=\"1672.95,1486.45 1672.95,47.2441 \"/>\n",
       "<polyline clip-path=\"url(#clip722)\" style=\"stroke:#000000; stroke-linecap:round; stroke-linejoin:round; stroke-width:2; stroke-opacity:0.1; fill:none\" points=\"2084.95,1486.45 2084.95,47.2441 \"/>\n",
       "<polyline clip-path=\"url(#clip720)\" style=\"stroke:#000000; stroke-linecap:round; stroke-linejoin:round; stroke-width:4; stroke-opacity:1; fill:none\" points=\"169.121,1486.45 2352.76,1486.45 \"/>\n",
       "<polyline clip-path=\"url(#clip720)\" style=\"stroke:#000000; stroke-linecap:round; stroke-linejoin:round; stroke-width:4; stroke-opacity:1; fill:none\" points=\"436.926,1486.45 436.926,1467.55 \"/>\n",
       "<polyline clip-path=\"url(#clip720)\" style=\"stroke:#000000; stroke-linecap:round; stroke-linejoin:round; stroke-width:4; stroke-opacity:1; fill:none\" points=\"848.932,1486.45 848.932,1467.55 \"/>\n",
       "<polyline clip-path=\"url(#clip720)\" style=\"stroke:#000000; stroke-linecap:round; stroke-linejoin:round; stroke-width:4; stroke-opacity:1; fill:none\" points=\"1260.94,1486.45 1260.94,1467.55 \"/>\n",
       "<polyline clip-path=\"url(#clip720)\" style=\"stroke:#000000; stroke-linecap:round; stroke-linejoin:round; stroke-width:4; stroke-opacity:1; fill:none\" points=\"1672.95,1486.45 1672.95,1467.55 \"/>\n",
       "<polyline clip-path=\"url(#clip720)\" style=\"stroke:#000000; stroke-linecap:round; stroke-linejoin:round; stroke-width:4; stroke-opacity:1; fill:none\" points=\"2084.95,1486.45 2084.95,1467.55 \"/>\n",
       "<path clip-path=\"url(#clip720)\" d=\"M405.826 1532.02 L435.502 1532.02 L435.502 1535.95 L405.826 1535.95 L405.826 1532.02 Z\" fill=\"#000000\" fill-rule=\"nonzero\" fill-opacity=\"1\" /><path clip-path=\"url(#clip720)\" d=\"M458.442 1518.36 L446.636 1536.81 L458.442 1536.81 L458.442 1518.36 M457.215 1514.29 L463.094 1514.29 L463.094 1536.81 L468.025 1536.81 L468.025 1540.7 L463.094 1540.7 L463.094 1548.85 L458.442 1548.85 L458.442 1540.7 L442.84 1540.7 L442.84 1536.19 L457.215 1514.29 Z\" fill=\"#000000\" fill-rule=\"nonzero\" fill-opacity=\"1\" /><path clip-path=\"url(#clip720)\" d=\"M818.874 1532.02 L848.55 1532.02 L848.55 1535.95 L818.874 1535.95 L818.874 1532.02 Z\" fill=\"#000000\" fill-rule=\"nonzero\" fill-opacity=\"1\" /><path clip-path=\"url(#clip720)\" d=\"M862.67 1544.91 L878.99 1544.91 L878.99 1548.85 L857.045 1548.85 L857.045 1544.91 Q859.707 1542.16 864.291 1537.53 Q868.897 1532.88 870.078 1531.53 Q872.323 1529.01 873.203 1527.27 Q874.106 1525.51 874.106 1523.82 Q874.106 1521.07 872.161 1519.33 Q870.24 1517.6 867.138 1517.6 Q864.939 1517.6 862.485 1518.36 Q860.055 1519.13 857.277 1520.68 L857.277 1515.95 Q860.101 1514.82 862.555 1514.24 Q865.008 1513.66 867.045 1513.66 Q872.416 1513.66 875.61 1516.35 Q878.805 1519.03 878.805 1523.52 Q878.805 1525.65 877.994 1527.57 Q877.207 1529.47 875.101 1532.07 Q874.522 1532.74 871.42 1535.95 Q868.319 1539.15 862.67 1544.91 Z\" fill=\"#000000\" fill-rule=\"nonzero\" fill-opacity=\"1\" /><path clip-path=\"url(#clip720)\" d=\"M1260.94 1517.37 Q1257.33 1517.37 1255.5 1520.93 Q1253.69 1524.47 1253.69 1531.6 Q1253.69 1538.71 1255.5 1542.27 Q1257.33 1545.82 1260.94 1545.82 Q1264.57 1545.82 1266.38 1542.27 Q1268.21 1538.71 1268.21 1531.6 Q1268.21 1524.47 1266.38 1520.93 Q1264.57 1517.37 1260.94 1517.37 M1260.94 1513.66 Q1266.75 1513.66 1269.8 1518.27 Q1272.88 1522.85 1272.88 1531.6 Q1272.88 1540.33 1269.8 1544.94 Q1266.75 1549.52 1260.94 1549.52 Q1255.13 1549.52 1252.05 1544.94 Q1248.99 1540.33 1248.99 1531.6 Q1248.99 1522.85 1252.05 1518.27 Q1255.13 1513.66 1260.94 1513.66 Z\" fill=\"#000000\" fill-rule=\"nonzero\" fill-opacity=\"1\" /><path clip-path=\"url(#clip720)\" d=\"M1667.6 1544.91 L1683.92 1544.91 L1683.92 1548.85 L1661.97 1548.85 L1661.97 1544.91 Q1664.63 1542.16 1669.22 1537.53 Q1673.82 1532.88 1675.01 1531.53 Q1677.25 1529.01 1678.13 1527.27 Q1679.03 1525.51 1679.03 1523.82 Q1679.03 1521.07 1677.09 1519.33 Q1675.17 1517.6 1672.07 1517.6 Q1669.87 1517.6 1667.41 1518.36 Q1664.98 1519.13 1662.2 1520.68 L1662.2 1515.95 Q1665.03 1514.82 1667.48 1514.24 Q1669.94 1513.66 1671.97 1513.66 Q1677.34 1513.66 1680.54 1516.35 Q1683.73 1519.03 1683.73 1523.52 Q1683.73 1525.65 1682.92 1527.57 Q1682.13 1529.47 1680.03 1532.07 Q1679.45 1532.74 1676.35 1535.95 Q1673.25 1539.15 1667.6 1544.91 Z\" fill=\"#000000\" fill-rule=\"nonzero\" fill-opacity=\"1\" /><path clip-path=\"url(#clip720)\" d=\"M2087.96 1518.36 L2076.16 1536.81 L2087.96 1536.81 L2087.96 1518.36 M2086.73 1514.29 L2092.61 1514.29 L2092.61 1536.81 L2097.54 1536.81 L2097.54 1540.7 L2092.61 1540.7 L2092.61 1548.85 L2087.96 1548.85 L2087.96 1540.7 L2072.36 1540.7 L2072.36 1536.19 L2086.73 1514.29 Z\" fill=\"#000000\" fill-rule=\"nonzero\" fill-opacity=\"1\" /><polyline clip-path=\"url(#clip722)\" style=\"stroke:#000000; stroke-linecap:round; stroke-linejoin:round; stroke-width:2; stroke-opacity:0.1; fill:none\" points=\"169.121,1269.21 2352.76,1269.21 \"/>\n",
       "<polyline clip-path=\"url(#clip722)\" style=\"stroke:#000000; stroke-linecap:round; stroke-linejoin:round; stroke-width:2; stroke-opacity:0.1; fill:none\" points=\"169.121,929.775 2352.76,929.775 \"/>\n",
       "<polyline clip-path=\"url(#clip722)\" style=\"stroke:#000000; stroke-linecap:round; stroke-linejoin:round; stroke-width:2; stroke-opacity:0.1; fill:none\" points=\"169.121,590.34 2352.76,590.34 \"/>\n",
       "<polyline clip-path=\"url(#clip722)\" style=\"stroke:#000000; stroke-linecap:round; stroke-linejoin:round; stroke-width:2; stroke-opacity:0.1; fill:none\" points=\"169.121,250.905 2352.76,250.905 \"/>\n",
       "<polyline clip-path=\"url(#clip720)\" style=\"stroke:#000000; stroke-linecap:round; stroke-linejoin:round; stroke-width:4; stroke-opacity:1; fill:none\" points=\"169.121,1486.45 169.121,47.2441 \"/>\n",
       "<polyline clip-path=\"url(#clip720)\" style=\"stroke:#000000; stroke-linecap:round; stroke-linejoin:round; stroke-width:4; stroke-opacity:1; fill:none\" points=\"169.121,1269.21 188.019,1269.21 \"/>\n",
       "<polyline clip-path=\"url(#clip720)\" style=\"stroke:#000000; stroke-linecap:round; stroke-linejoin:round; stroke-width:4; stroke-opacity:1; fill:none\" points=\"169.121,929.775 188.019,929.775 \"/>\n",
       "<polyline clip-path=\"url(#clip720)\" style=\"stroke:#000000; stroke-linecap:round; stroke-linejoin:round; stroke-width:4; stroke-opacity:1; fill:none\" points=\"169.121,590.34 188.019,590.34 \"/>\n",
       "<polyline clip-path=\"url(#clip720)\" style=\"stroke:#000000; stroke-linecap:round; stroke-linejoin:round; stroke-width:4; stroke-opacity:1; fill:none\" points=\"169.121,250.905 188.019,250.905 \"/>\n",
       "<path clip-path=\"url(#clip720)\" d=\"M121.177 1255.01 Q117.566 1255.01 115.737 1258.57 Q113.932 1262.11 113.932 1269.24 Q113.932 1276.35 115.737 1279.92 Q117.566 1283.46 121.177 1283.46 Q124.811 1283.46 126.617 1279.92 Q128.445 1276.35 128.445 1269.24 Q128.445 1262.11 126.617 1258.57 Q124.811 1255.01 121.177 1255.01 M121.177 1251.3 Q126.987 1251.3 130.043 1255.91 Q133.121 1260.49 133.121 1269.24 Q133.121 1277.97 130.043 1282.58 Q126.987 1287.16 121.177 1287.16 Q115.367 1287.16 112.288 1282.58 Q109.233 1277.97 109.233 1269.24 Q109.233 1260.49 112.288 1255.91 Q115.367 1251.3 121.177 1251.3 Z\" fill=\"#000000\" fill-rule=\"nonzero\" fill-opacity=\"1\" /><path clip-path=\"url(#clip720)\" d=\"M81.0614 912.495 L99.4178 912.495 L99.4178 916.43 L85.3438 916.43 L85.3438 924.902 Q86.3623 924.555 87.3808 924.393 Q88.3993 924.208 89.4178 924.208 Q95.2049 924.208 98.5845 927.379 Q101.964 930.55 101.964 935.967 Q101.964 941.545 98.4919 944.647 Q95.0197 947.726 88.7003 947.726 Q86.5243 947.726 84.2558 947.356 Q82.0105 946.985 79.6031 946.245 L79.6031 941.545 Q81.6864 942.68 83.9086 943.235 Q86.1308 943.791 88.6077 943.791 Q92.6123 943.791 94.9502 941.684 Q97.2882 939.578 97.2882 935.967 Q97.2882 932.356 94.9502 930.249 Q92.6123 928.143 88.6077 928.143 Q86.7327 928.143 84.8577 928.559 Q83.0058 928.976 81.0614 929.856 L81.0614 912.495 Z\" fill=\"#000000\" fill-rule=\"nonzero\" fill-opacity=\"1\" /><path clip-path=\"url(#clip720)\" d=\"M121.177 915.573 Q117.566 915.573 115.737 919.138 Q113.932 922.68 113.932 929.809 Q113.932 936.916 115.737 940.481 Q117.566 944.022 121.177 944.022 Q124.811 944.022 126.617 940.481 Q128.445 936.916 128.445 929.809 Q128.445 922.68 126.617 919.138 Q124.811 915.573 121.177 915.573 M121.177 911.87 Q126.987 911.87 130.043 916.476 Q133.121 921.059 133.121 929.809 Q133.121 938.536 130.043 943.143 Q126.987 947.726 121.177 947.726 Q115.367 947.726 112.288 943.143 Q109.233 938.536 109.233 929.809 Q109.233 921.059 112.288 916.476 Q115.367 911.87 121.177 911.87 Z\" fill=\"#000000\" fill-rule=\"nonzero\" fill-opacity=\"1\" /><path clip-path=\"url(#clip720)\" d=\"M51.6634 603.685 L59.3023 603.685 L59.3023 577.319 L50.9921 578.986 L50.9921 574.727 L59.256 573.06 L63.9319 573.06 L63.9319 603.685 L71.5707 603.685 L71.5707 607.62 L51.6634 607.62 L51.6634 603.685 Z\" fill=\"#000000\" fill-rule=\"nonzero\" fill-opacity=\"1\" /><path clip-path=\"url(#clip720)\" d=\"M91.0151 576.139 Q87.404 576.139 85.5753 579.703 Q83.7697 583.245 83.7697 590.375 Q83.7697 597.481 85.5753 601.046 Q87.404 604.587 91.0151 604.587 Q94.6493 604.587 96.4548 601.046 Q98.2835 597.481 98.2835 590.375 Q98.2835 583.245 96.4548 579.703 Q94.6493 576.139 91.0151 576.139 M91.0151 572.435 Q96.8252 572.435 99.8808 577.041 Q102.959 581.625 102.959 590.375 Q102.959 599.101 99.8808 603.708 Q96.8252 608.291 91.0151 608.291 Q85.2049 608.291 82.1262 603.708 Q79.0707 599.101 79.0707 590.375 Q79.0707 581.625 82.1262 577.041 Q85.2049 572.435 91.0151 572.435 Z\" fill=\"#000000\" fill-rule=\"nonzero\" fill-opacity=\"1\" /><path clip-path=\"url(#clip720)\" d=\"M121.177 576.139 Q117.566 576.139 115.737 579.703 Q113.932 583.245 113.932 590.375 Q113.932 597.481 115.737 601.046 Q117.566 604.587 121.177 604.587 Q124.811 604.587 126.617 601.046 Q128.445 597.481 128.445 590.375 Q128.445 583.245 126.617 579.703 Q124.811 576.139 121.177 576.139 M121.177 572.435 Q126.987 572.435 130.043 577.041 Q133.121 581.625 133.121 590.375 Q133.121 599.101 130.043 603.708 Q126.987 608.291 121.177 608.291 Q115.367 608.291 112.288 603.708 Q109.233 599.101 109.233 590.375 Q109.233 581.625 112.288 577.041 Q115.367 572.435 121.177 572.435 Z\" fill=\"#000000\" fill-rule=\"nonzero\" fill-opacity=\"1\" /><path clip-path=\"url(#clip720)\" d=\"M51.6634 264.25 L59.3023 264.25 L59.3023 237.884 L50.9921 239.551 L50.9921 235.292 L59.256 233.625 L63.9319 233.625 L63.9319 264.25 L71.5707 264.25 L71.5707 268.185 L51.6634 268.185 L51.6634 264.25 Z\" fill=\"#000000\" fill-rule=\"nonzero\" fill-opacity=\"1\" /><path clip-path=\"url(#clip720)\" d=\"M81.0614 233.625 L99.4178 233.625 L99.4178 237.56 L85.3438 237.56 L85.3438 246.032 Q86.3623 245.685 87.3808 245.523 Q88.3993 245.338 89.4178 245.338 Q95.2049 245.338 98.5845 248.509 Q101.964 251.68 101.964 257.097 Q101.964 262.676 98.4919 265.778 Q95.0197 268.856 88.7003 268.856 Q86.5243 268.856 84.2558 268.486 Q82.0105 268.116 79.6031 267.375 L79.6031 262.676 Q81.6864 263.81 83.9086 264.366 Q86.1308 264.921 88.6077 264.921 Q92.6123 264.921 94.9502 262.815 Q97.2882 260.708 97.2882 257.097 Q97.2882 253.486 94.9502 251.38 Q92.6123 249.273 88.6077 249.273 Q86.7327 249.273 84.8577 249.69 Q83.0058 250.106 81.0614 250.986 L81.0614 233.625 Z\" fill=\"#000000\" fill-rule=\"nonzero\" fill-opacity=\"1\" /><path clip-path=\"url(#clip720)\" d=\"M121.177 236.704 Q117.566 236.704 115.737 240.268 Q113.932 243.81 113.932 250.94 Q113.932 258.046 115.737 261.611 Q117.566 265.153 121.177 265.153 Q124.811 265.153 126.617 261.611 Q128.445 258.046 128.445 250.94 Q128.445 243.81 126.617 240.268 Q124.811 236.704 121.177 236.704 M121.177 233 Q126.987 233 130.043 237.606 Q133.121 242.19 133.121 250.94 Q133.121 259.667 130.043 264.273 Q126.987 268.856 121.177 268.856 Q115.367 268.856 112.288 264.273 Q109.233 259.667 109.233 250.94 Q109.233 242.19 112.288 237.606 Q115.367 233 121.177 233 Z\" fill=\"#000000\" fill-rule=\"nonzero\" fill-opacity=\"1\" /><polyline clip-path=\"url(#clip722)\" style=\"stroke:#009af9; stroke-linecap:round; stroke-linejoin:round; stroke-width:4; stroke-opacity:1; fill:none\" points=\"230.922,1445.72 234.275,1441.32 237.628,1436.96 240.981,1432.65 244.334,1428.38 275.337,1390.89 306.341,1356.89 337.344,1326.24 368.347,1298.8 386.979,1283.81 405.61,1269.89 424.242,1257.02 442.873,1245.17 474.379,1227.37 505.885,1212.26 540.109,1198.71 574.332,1187.98 605.884,1180.41 637.435,1174.92 671.262,1171.19 705.088,1169.5 744.279,1169.86 783.471,1172.44 818.299,1176.38 853.128,1181.66 883.669,1187.23 914.211,1193.54 980.808,1209.25 1047.8,1226.6 1121.87,1245.89 1192.34,1262.69 1228.98,1270.27 1265.62,1276.76 1296.46,1281.21 1327.31,1284.59 1364.96,1287.07 1402.61,1287.5 1437.11,1285.89 1471.6,1282.15 1503.46,1276.66 1535.32,1269.04 1567.59,1259.01 1599.86,1246.48 1636.03,1229.3 1672.19,1208.58 1688.58,1197.97 1704.97,1186.56 1721.35,1174.34 1737.74,1161.29 1756.5,1145.29 1775.26,1128.14 1794.02,1109.82 1812.79,1090.28 1830.16,1071.08 1847.53,1050.79 1864.9,1029.38 1882.27,1006.84 1899.4,983.475 1916.52,958.958 1933.65,933.263 1950.78,906.368 1967.4,879.083 1984.03,850.623 2000.66,820.966 2017.29,790.091 2034.33,757.153 2051.38,722.889 2068.43,687.276 2085.47,650.291 2104.15,608.167 2122.82,564.338 2141.5,518.774 2160.17,471.444 2173.74,435.942 2187.3,399.482 2200.87,362.05 2214.43,323.636 2228,284.228 2241.56,243.814 2255.13,202.383 2268.69,159.923 2274.26,142.201 2279.82,124.303 2285.39,106.229 2290.95,87.9763 \"/>\n",
       "<path clip-path=\"url(#clip720)\" d=\"M241.909 198.898 L512.703 198.898 L512.703 95.2176 L241.909 95.2176  Z\" fill=\"#ffffff\" fill-rule=\"evenodd\" fill-opacity=\"1\"/>\n",
       "<polyline clip-path=\"url(#clip720)\" style=\"stroke:#000000; stroke-linecap:round; stroke-linejoin:round; stroke-width:4; stroke-opacity:1; fill:none\" points=\"241.909,198.898 512.703,198.898 512.703,95.2176 241.909,95.2176 241.909,198.898 \"/>\n",
       "<polyline clip-path=\"url(#clip720)\" style=\"stroke:#009af9; stroke-linecap:round; stroke-linejoin:round; stroke-width:4; stroke-opacity:1; fill:none\" points=\"266.172,147.058 411.747,147.058 \"/>\n",
       "<path clip-path=\"url(#clip720)\" d=\"M449.853 166.745 Q448.047 171.375 446.334 172.787 Q444.621 174.199 441.751 174.199 L438.348 174.199 L438.348 170.634 L440.848 170.634 Q442.607 170.634 443.579 169.8 Q444.552 168.967 445.732 165.865 L446.496 163.921 L436.01 138.412 L440.524 138.412 L448.626 158.689 L456.727 138.412 L461.241 138.412 L449.853 166.745 Z\" fill=\"#000000\" fill-rule=\"nonzero\" fill-opacity=\"1\" /><path clip-path=\"url(#clip720)\" d=\"M468.533 160.402 L476.172 160.402 L476.172 134.037 L467.862 135.703 L467.862 131.444 L476.126 129.778 L480.801 129.778 L480.801 160.402 L488.44 160.402 L488.44 164.338 L468.533 164.338 L468.533 160.402 Z\" fill=\"#000000\" fill-rule=\"nonzero\" fill-opacity=\"1\" /></svg>\n"
      ]
     },
     "execution_count": 8,
     "metadata": {},
     "output_type": "execute_result"
    }
   ],
   "source": [
    "using ForwardDiff, Plots\n",
    "import ForwardDiff: derivative\n",
    "\n",
    "#f(x) = exp(x^2+1)\n",
    "#plot(f, xlims = (-2, 8), label = \"f(x)\")\n",
    "#∂f(x) = derivative(f, x)\n",
    "#plot!(∂f, xlims = (-2, 8), label = \"∂f(x)\")\n",
    "#∂²f(x) = derivative(∂f, x)\n",
    "#plot!(∂²f, xlims = (-2, 8), ylims = (0, 10), label = \"∂²f(x)\")\n",
    "#hline!([0], label = \"0\")\n",
    "\n",
    "plot(x-> x^3 + 3x^2 - 5x - 1)\n",
    "\n"
   ]
  },
  {
   "cell_type": "code",
   "execution_count": 9,
   "id": "502b2885",
   "metadata": {},
   "outputs": [
    {
     "name": "stdout",
     "output_type": "stream",
     "text": [
      "x1 = -2.9999999999999996\n",
      "x2 = 1.6180339887498945\n",
      "x3 = -0.6180339887498951\n"
     ]
    }
   ],
   "source": [
    "#Тригонометрическая формула Виета\n",
    "f(x) = x^3 + 2x^2 - 4x - 3\n",
    "a = 2\n",
    "b = -4\n",
    "c = -3\n",
    "Q = (a^2 - 3b)/9\n",
    "R = (2a^3 - 9a*b + 27c)/54\n",
    "S = Q^3-R^2\n",
    "phi = acos(R/sqrt(Q^3))/3\n",
    "println(\"x1 = \", -2sqrt(Q)cos(phi)-a/3)\n",
    "println(\"x2 = \", -2sqrt(Q)cos(phi+2pi/3)-a/3)\n",
    "println(\"x3 = \", -2sqrt(Q)cos(phi-2pi/3)-a/3)\n",
    "\n"
   ]
  },
  {
   "cell_type": "markdown",
   "id": "24df712d",
   "metadata": {
    "slideshow": {
     "slide_type": "slide"
    }
   },
   "source": [
    "Ссылки:\n",
    "\n",
    "* https://juliamath.github.io/Roots.jl/stable/\n",
    "\n",
    "* https://julianlsolvers.github.io/Optim.jl/stable/#user/minimization/\n",
    "\n",
    "* https://juliadiff.org/ForwardDiff.jl/stable/\n",
    "\n",
    "* Математика. Базовый курс / Б.Ш. Гулиян, Р.Я. Хамидуллин. Москва : Синергия, 2013. - 712 с. - ISBN 978-5-4257-0109-1. \n",
    "\n"
   ]
  }
 ],
 "metadata": {
  "@webio": {
   "lastCommId": "8cc9469beb304b338443fc85e1108e9a",
   "lastKernelId": "63207651-f35a-4b0b-a514-abf6ac1046ab"
  },
  "celltoolbar": "Slideshow",
  "kernelspec": {
   "display_name": "Julia 1.8.2",
   "language": "julia",
   "name": "julia-1.8"
  },
  "language_info": {
   "file_extension": ".jl",
   "mimetype": "application/julia",
   "name": "julia",
   "version": "1.8.2"
  }
 },
 "nbformat": 4,
 "nbformat_minor": 5
}
